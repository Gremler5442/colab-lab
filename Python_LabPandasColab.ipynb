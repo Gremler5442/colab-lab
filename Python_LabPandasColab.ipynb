{
  "nbformat": 4,
  "nbformat_minor": 0,
  "metadata": {
    "colab": {
      "provenance": [],
      "toc_visible": true,
      "include_colab_link": true
    },
    "kernelspec": {
      "name": "python3",
      "display_name": "Python 3"
    },
    "language_info": {
      "name": "python"
    }
  },
  "cells": [
    {
      "cell_type": "markdown",
      "metadata": {
        "id": "view-in-github",
        "colab_type": "text"
      },
      "source": [
        "<a href=\"https://colab.research.google.com/github/Gremler5442/colab-lab/blob/main/Python_LabPandasColab.ipynb\" target=\"_parent\"><img src=\"https://colab.research.google.com/assets/colab-badge.svg\" alt=\"Open In Colab\"/></a>"
      ]
    },
    {
      "cell_type": "markdown",
      "metadata": {
        "id": "kqx5B-ghyM0E"
      },
      "source": [
        "# Работа с таблицами (данными csv)"
      ]
    },
    {
      "cell_type": "markdown",
      "metadata": {
        "id": "yJGuMQze1WNP"
      },
      "source": [
        "## Введение: подключение библиотек, чтение файла, отображение датасета"
      ]
    },
    {
      "cell_type": "markdown",
      "metadata": {
        "id": "DmeGFRFsyYcU"
      },
      "source": [
        "Загрузка библиотеки gfdsgdsfgdsfgg"
      ]
    },
    {
      "cell_type": "code",
      "source": [
        "!pip install pandas"
      ],
      "metadata": {
        "id": "c2AxteeT8tZ9"
      },
      "execution_count": null,
      "outputs": []
    },
    {
      "cell_type": "code",
      "metadata": {
        "id": "N1Ji7qAoyGKg"
      },
      "source": [
        "import pandas as pd"
      ],
      "execution_count": null,
      "outputs": []
    },
    {
      "cell_type": "markdown",
      "metadata": {
        "id": "PpGT49BDykcI"
      },
      "source": [
        "Функция для чтения файлов в формате csv по ссылке"
      ]
    },
    {
      "cell_type": "code",
      "metadata": {
        "id": "zpbkM8LAydCj"
      },
      "source": [
        "import io\n",
        "import requests\n",
        "def read_csv(url):\n",
        "  s=requests.get(url).content\n",
        "  return(pd.read_csv(io.StringIO(s.decode('utf-8'))))"
      ],
      "execution_count": null,
      "outputs": []
    },
    {
      "cell_type": "markdown",
      "metadata": {
        "id": "sD8ynvQuyqKl"
      },
      "source": [
        "Пример чтения файла по ссылке с помощью функции `read_csv`"
      ]
    },
    {
      "cell_type": "code",
      "metadata": {
        "id": "xBtfU2CEyayy"
      },
      "source": [
        "df=read_csv(\"https://raw.githubusercontent.com/yupest/nti/master/НТИ-2021/wardrobe.csv\")"
      ],
      "execution_count": null,
      "outputs": []
    },
    {
      "cell_type": "code",
      "source": [
        "from google.colab import files\n",
        "\n",
        "uploaded = files.upload()"
      ],
      "metadata": {
        "colab": {
          "resources": {
            "http://localhost:8080/nbextensions/google.colab/files.js": {
              "data": "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",
              "ok": true,
              "headers": [
                [
                  "content-type",
                  "application/javascript"
                ]
              ],
              "status": 200,
              "status_text": ""
            }
          },
          "base_uri": "https://localhost:8080/",
          "height": 73
        },
        "id": "JwLa8M8T85sw",
        "outputId": "70b5083d-eb17-41f5-c2a8-2ff4778e3349"
      },
      "execution_count": null,
      "outputs": [
        {
          "output_type": "display_data",
          "data": {
            "text/plain": [
              "<IPython.core.display.HTML object>"
            ],
            "text/html": [
              "\n",
              "     <input type=\"file\" id=\"files-6648eda9-5bcb-484b-9237-f622b2d72044\" name=\"files[]\" multiple disabled\n",
              "        style=\"border:none\" />\n",
              "     <output id=\"result-6648eda9-5bcb-484b-9237-f622b2d72044\">\n",
              "      Upload widget is only available when the cell has been executed in the\n",
              "      current browser session. Please rerun this cell to enable.\n",
              "      </output>\n",
              "      <script src=\"/nbextensions/google.colab/files.js\"></script> "
            ]
          },
          "metadata": {}
        },
        {
          "output_type": "stream",
          "name": "stdout",
          "text": [
            "Saving wardrobe.csv to wardrobe.csv\n"
          ]
        }
      ]
    },
    {
      "cell_type": "code",
      "source": [
        "df = pd.read_csv('wardrobe.csv')"
      ],
      "metadata": {
        "id": "qYfl0hFY9P2D"
      },
      "execution_count": null,
      "outputs": []
    },
    {
      "cell_type": "markdown",
      "metadata": {
        "id": "MNPlicTBy6Gz"
      },
      "source": [
        "Отображение первых 5 строк датасета"
      ]
    },
    {
      "cell_type": "code",
      "metadata": {
        "colab": {
          "base_uri": "https://localhost:8080/",
          "height": 206
        },
        "id": "M16C1OxqywnI",
        "outputId": "bf1e7a6f-edb3-483a-eef5-0119dee469ef"
      },
      "source": [
        "df.head()"
      ],
      "execution_count": null,
      "outputs": [
        {
          "output_type": "execute_result",
          "data": {
            "text/plain": [
              "     clothes sex  part season             color  price\n",
              "0        топ   f     1   зима             серый   1305\n",
              "1    рубашка   u     1   зима             серый   1969\n",
              "2   футболка   u     1   зима           голубой    715\n",
              "3      блуза   f     1   зима           красный    767\n",
              "4  водолазка   u     1   зима  оливкого-зелёный   1379"
            ],
            "text/html": [
              "\n",
              "  <div id=\"df-f7e54a52-38ad-4fcb-840e-2caa5e8bfe5b\">\n",
              "    <div class=\"colab-df-container\">\n",
              "      <div>\n",
              "<style scoped>\n",
              "    .dataframe tbody tr th:only-of-type {\n",
              "        vertical-align: middle;\n",
              "    }\n",
              "\n",
              "    .dataframe tbody tr th {\n",
              "        vertical-align: top;\n",
              "    }\n",
              "\n",
              "    .dataframe thead th {\n",
              "        text-align: right;\n",
              "    }\n",
              "</style>\n",
              "<table border=\"1\" class=\"dataframe\">\n",
              "  <thead>\n",
              "    <tr style=\"text-align: right;\">\n",
              "      <th></th>\n",
              "      <th>clothes</th>\n",
              "      <th>sex</th>\n",
              "      <th>part</th>\n",
              "      <th>season</th>\n",
              "      <th>color</th>\n",
              "      <th>price</th>\n",
              "    </tr>\n",
              "  </thead>\n",
              "  <tbody>\n",
              "    <tr>\n",
              "      <th>0</th>\n",
              "      <td>топ</td>\n",
              "      <td>f</td>\n",
              "      <td>1</td>\n",
              "      <td>зима</td>\n",
              "      <td>серый</td>\n",
              "      <td>1305</td>\n",
              "    </tr>\n",
              "    <tr>\n",
              "      <th>1</th>\n",
              "      <td>рубашка</td>\n",
              "      <td>u</td>\n",
              "      <td>1</td>\n",
              "      <td>зима</td>\n",
              "      <td>серый</td>\n",
              "      <td>1969</td>\n",
              "    </tr>\n",
              "    <tr>\n",
              "      <th>2</th>\n",
              "      <td>футболка</td>\n",
              "      <td>u</td>\n",
              "      <td>1</td>\n",
              "      <td>зима</td>\n",
              "      <td>голубой</td>\n",
              "      <td>715</td>\n",
              "    </tr>\n",
              "    <tr>\n",
              "      <th>3</th>\n",
              "      <td>блуза</td>\n",
              "      <td>f</td>\n",
              "      <td>1</td>\n",
              "      <td>зима</td>\n",
              "      <td>красный</td>\n",
              "      <td>767</td>\n",
              "    </tr>\n",
              "    <tr>\n",
              "      <th>4</th>\n",
              "      <td>водолазка</td>\n",
              "      <td>u</td>\n",
              "      <td>1</td>\n",
              "      <td>зима</td>\n",
              "      <td>оливкого-зелёный</td>\n",
              "      <td>1379</td>\n",
              "    </tr>\n",
              "  </tbody>\n",
              "</table>\n",
              "</div>\n",
              "      <button class=\"colab-df-convert\" onclick=\"convertToInteractive('df-f7e54a52-38ad-4fcb-840e-2caa5e8bfe5b')\"\n",
              "              title=\"Convert this dataframe to an interactive table.\"\n",
              "              style=\"display:none;\">\n",
              "        \n",
              "  <svg xmlns=\"http://www.w3.org/2000/svg\" height=\"24px\"viewBox=\"0 0 24 24\"\n",
              "       width=\"24px\">\n",
              "    <path d=\"M0 0h24v24H0V0z\" fill=\"none\"/>\n",
              "    <path d=\"M18.56 5.44l.94 2.06.94-2.06 2.06-.94-2.06-.94-.94-2.06-.94 2.06-2.06.94zm-11 1L8.5 8.5l.94-2.06 2.06-.94-2.06-.94L8.5 2.5l-.94 2.06-2.06.94zm10 10l.94 2.06.94-2.06 2.06-.94-2.06-.94-.94-2.06-.94 2.06-2.06.94z\"/><path d=\"M17.41 7.96l-1.37-1.37c-.4-.4-.92-.59-1.43-.59-.52 0-1.04.2-1.43.59L10.3 9.45l-7.72 7.72c-.78.78-.78 2.05 0 2.83L4 21.41c.39.39.9.59 1.41.59.51 0 1.02-.2 1.41-.59l7.78-7.78 2.81-2.81c.8-.78.8-2.07 0-2.86zM5.41 20L4 18.59l7.72-7.72 1.47 1.35L5.41 20z\"/>\n",
              "  </svg>\n",
              "      </button>\n",
              "      \n",
              "  <style>\n",
              "    .colab-df-container {\n",
              "      display:flex;\n",
              "      flex-wrap:wrap;\n",
              "      gap: 12px;\n",
              "    }\n",
              "\n",
              "    .colab-df-convert {\n",
              "      background-color: #E8F0FE;\n",
              "      border: none;\n",
              "      border-radius: 50%;\n",
              "      cursor: pointer;\n",
              "      display: none;\n",
              "      fill: #1967D2;\n",
              "      height: 32px;\n",
              "      padding: 0 0 0 0;\n",
              "      width: 32px;\n",
              "    }\n",
              "\n",
              "    .colab-df-convert:hover {\n",
              "      background-color: #E2EBFA;\n",
              "      box-shadow: 0px 1px 2px rgba(60, 64, 67, 0.3), 0px 1px 3px 1px rgba(60, 64, 67, 0.15);\n",
              "      fill: #174EA6;\n",
              "    }\n",
              "\n",
              "    [theme=dark] .colab-df-convert {\n",
              "      background-color: #3B4455;\n",
              "      fill: #D2E3FC;\n",
              "    }\n",
              "\n",
              "    [theme=dark] .colab-df-convert:hover {\n",
              "      background-color: #434B5C;\n",
              "      box-shadow: 0px 1px 3px 1px rgba(0, 0, 0, 0.15);\n",
              "      filter: drop-shadow(0px 1px 2px rgba(0, 0, 0, 0.3));\n",
              "      fill: #FFFFFF;\n",
              "    }\n",
              "  </style>\n",
              "\n",
              "      <script>\n",
              "        const buttonEl =\n",
              "          document.querySelector('#df-f7e54a52-38ad-4fcb-840e-2caa5e8bfe5b button.colab-df-convert');\n",
              "        buttonEl.style.display =\n",
              "          google.colab.kernel.accessAllowed ? 'block' : 'none';\n",
              "\n",
              "        async function convertToInteractive(key) {\n",
              "          const element = document.querySelector('#df-f7e54a52-38ad-4fcb-840e-2caa5e8bfe5b');\n",
              "          const dataTable =\n",
              "            await google.colab.kernel.invokeFunction('convertToInteractive',\n",
              "                                                     [key], {});\n",
              "          if (!dataTable) return;\n",
              "\n",
              "          const docLinkHtml = 'Like what you see? Visit the ' +\n",
              "            '<a target=\"_blank\" href=https://colab.research.google.com/notebooks/data_table.ipynb>data table notebook</a>'\n",
              "            + ' to learn more about interactive tables.';\n",
              "          element.innerHTML = '';\n",
              "          dataTable['output_type'] = 'display_data';\n",
              "          await google.colab.output.renderOutput(dataTable, element);\n",
              "          const docLink = document.createElement('div');\n",
              "          docLink.innerHTML = docLinkHtml;\n",
              "          element.appendChild(docLink);\n",
              "        }\n",
              "      </script>\n",
              "    </div>\n",
              "  </div>\n",
              "  "
            ]
          },
          "metadata": {},
          "execution_count": 7
        }
      ]
    },
    {
      "cell_type": "code",
      "source": [
        "df.describe()"
      ],
      "metadata": {
        "colab": {
          "base_uri": "https://localhost:8080/",
          "height": 300
        },
        "id": "0PCi9OjiF8aR",
        "outputId": "86715a2f-30c7-4eed-bd07-7b5816c35290"
      },
      "execution_count": null,
      "outputs": [
        {
          "output_type": "execute_result",
          "data": {
            "text/plain": [
              "             part         price\n",
              "count  135.000000    135.000000\n",
              "mean     4.429630   3090.288889\n",
              "std      2.633143   3129.440100\n",
              "min      1.000000      0.000000\n",
              "25%      2.000000   1292.000000\n",
              "50%      4.000000   2263.000000\n",
              "75%      7.000000   3988.000000\n",
              "max     10.000000  14330.000000"
            ],
            "text/html": [
              "\n",
              "  <div id=\"df-2a992825-8b7c-42d1-a26e-6e9810176bf4\">\n",
              "    <div class=\"colab-df-container\">\n",
              "      <div>\n",
              "<style scoped>\n",
              "    .dataframe tbody tr th:only-of-type {\n",
              "        vertical-align: middle;\n",
              "    }\n",
              "\n",
              "    .dataframe tbody tr th {\n",
              "        vertical-align: top;\n",
              "    }\n",
              "\n",
              "    .dataframe thead th {\n",
              "        text-align: right;\n",
              "    }\n",
              "</style>\n",
              "<table border=\"1\" class=\"dataframe\">\n",
              "  <thead>\n",
              "    <tr style=\"text-align: right;\">\n",
              "      <th></th>\n",
              "      <th>part</th>\n",
              "      <th>price</th>\n",
              "    </tr>\n",
              "  </thead>\n",
              "  <tbody>\n",
              "    <tr>\n",
              "      <th>count</th>\n",
              "      <td>135.000000</td>\n",
              "      <td>135.000000</td>\n",
              "    </tr>\n",
              "    <tr>\n",
              "      <th>mean</th>\n",
              "      <td>4.429630</td>\n",
              "      <td>3090.288889</td>\n",
              "    </tr>\n",
              "    <tr>\n",
              "      <th>std</th>\n",
              "      <td>2.633143</td>\n",
              "      <td>3129.440100</td>\n",
              "    </tr>\n",
              "    <tr>\n",
              "      <th>min</th>\n",
              "      <td>1.000000</td>\n",
              "      <td>0.000000</td>\n",
              "    </tr>\n",
              "    <tr>\n",
              "      <th>25%</th>\n",
              "      <td>2.000000</td>\n",
              "      <td>1292.000000</td>\n",
              "    </tr>\n",
              "    <tr>\n",
              "      <th>50%</th>\n",
              "      <td>4.000000</td>\n",
              "      <td>2263.000000</td>\n",
              "    </tr>\n",
              "    <tr>\n",
              "      <th>75%</th>\n",
              "      <td>7.000000</td>\n",
              "      <td>3988.000000</td>\n",
              "    </tr>\n",
              "    <tr>\n",
              "      <th>max</th>\n",
              "      <td>10.000000</td>\n",
              "      <td>14330.000000</td>\n",
              "    </tr>\n",
              "  </tbody>\n",
              "</table>\n",
              "</div>\n",
              "      <button class=\"colab-df-convert\" onclick=\"convertToInteractive('df-2a992825-8b7c-42d1-a26e-6e9810176bf4')\"\n",
              "              title=\"Convert this dataframe to an interactive table.\"\n",
              "              style=\"display:none;\">\n",
              "        \n",
              "  <svg xmlns=\"http://www.w3.org/2000/svg\" height=\"24px\"viewBox=\"0 0 24 24\"\n",
              "       width=\"24px\">\n",
              "    <path d=\"M0 0h24v24H0V0z\" fill=\"none\"/>\n",
              "    <path d=\"M18.56 5.44l.94 2.06.94-2.06 2.06-.94-2.06-.94-.94-2.06-.94 2.06-2.06.94zm-11 1L8.5 8.5l.94-2.06 2.06-.94-2.06-.94L8.5 2.5l-.94 2.06-2.06.94zm10 10l.94 2.06.94-2.06 2.06-.94-2.06-.94-.94-2.06-.94 2.06-2.06.94z\"/><path d=\"M17.41 7.96l-1.37-1.37c-.4-.4-.92-.59-1.43-.59-.52 0-1.04.2-1.43.59L10.3 9.45l-7.72 7.72c-.78.78-.78 2.05 0 2.83L4 21.41c.39.39.9.59 1.41.59.51 0 1.02-.2 1.41-.59l7.78-7.78 2.81-2.81c.8-.78.8-2.07 0-2.86zM5.41 20L4 18.59l7.72-7.72 1.47 1.35L5.41 20z\"/>\n",
              "  </svg>\n",
              "      </button>\n",
              "      \n",
              "  <style>\n",
              "    .colab-df-container {\n",
              "      display:flex;\n",
              "      flex-wrap:wrap;\n",
              "      gap: 12px;\n",
              "    }\n",
              "\n",
              "    .colab-df-convert {\n",
              "      background-color: #E8F0FE;\n",
              "      border: none;\n",
              "      border-radius: 50%;\n",
              "      cursor: pointer;\n",
              "      display: none;\n",
              "      fill: #1967D2;\n",
              "      height: 32px;\n",
              "      padding: 0 0 0 0;\n",
              "      width: 32px;\n",
              "    }\n",
              "\n",
              "    .colab-df-convert:hover {\n",
              "      background-color: #E2EBFA;\n",
              "      box-shadow: 0px 1px 2px rgba(60, 64, 67, 0.3), 0px 1px 3px 1px rgba(60, 64, 67, 0.15);\n",
              "      fill: #174EA6;\n",
              "    }\n",
              "\n",
              "    [theme=dark] .colab-df-convert {\n",
              "      background-color: #3B4455;\n",
              "      fill: #D2E3FC;\n",
              "    }\n",
              "\n",
              "    [theme=dark] .colab-df-convert:hover {\n",
              "      background-color: #434B5C;\n",
              "      box-shadow: 0px 1px 3px 1px rgba(0, 0, 0, 0.15);\n",
              "      filter: drop-shadow(0px 1px 2px rgba(0, 0, 0, 0.3));\n",
              "      fill: #FFFFFF;\n",
              "    }\n",
              "  </style>\n",
              "\n",
              "      <script>\n",
              "        const buttonEl =\n",
              "          document.querySelector('#df-2a992825-8b7c-42d1-a26e-6e9810176bf4 button.colab-df-convert');\n",
              "        buttonEl.style.display =\n",
              "          google.colab.kernel.accessAllowed ? 'block' : 'none';\n",
              "\n",
              "        async function convertToInteractive(key) {\n",
              "          const element = document.querySelector('#df-2a992825-8b7c-42d1-a26e-6e9810176bf4');\n",
              "          const dataTable =\n",
              "            await google.colab.kernel.invokeFunction('convertToInteractive',\n",
              "                                                     [key], {});\n",
              "          if (!dataTable) return;\n",
              "\n",
              "          const docLinkHtml = 'Like what you see? Visit the ' +\n",
              "            '<a target=\"_blank\" href=https://colab.research.google.com/notebooks/data_table.ipynb>data table notebook</a>'\n",
              "            + ' to learn more about interactive tables.';\n",
              "          element.innerHTML = '';\n",
              "          dataTable['output_type'] = 'display_data';\n",
              "          await google.colab.output.renderOutput(dataTable, element);\n",
              "          const docLink = document.createElement('div');\n",
              "          docLink.innerHTML = docLinkHtml;\n",
              "          element.appendChild(docLink);\n",
              "        }\n",
              "      </script>\n",
              "    </div>\n",
              "  </div>\n",
              "  "
            ]
          },
          "metadata": {},
          "execution_count": 8
        }
      ]
    },
    {
      "cell_type": "markdown",
      "metadata": {
        "id": "F8ZeTGyTy-W7"
      },
      "source": [
        "Отображение всего датасета"
      ]
    },
    {
      "cell_type": "code",
      "source": [
        "from IPython.display import display"
      ],
      "metadata": {
        "id": "H8R_Q_ZdbFf4"
      },
      "execution_count": null,
      "outputs": []
    },
    {
      "cell_type": "code",
      "metadata": {
        "colab": {
          "base_uri": "https://localhost:8080/",
          "height": 423
        },
        "id": "fxgZ5C_qzAJI",
        "outputId": "4436e45f-ab15-4edc-f2a0-ff2567a19d70"
      },
      "source": [
        "display(df)"
      ],
      "execution_count": null,
      "outputs": [
        {
          "output_type": "display_data",
          "data": {
            "text/plain": [
              "                   clothes sex  part     season             color  price\n",
              "0                      топ   f     1       зима             серый   1305\n",
              "1                  рубашка   u     1       зима             серый   1969\n",
              "2                 футболка   u     1       зима           голубой    715\n",
              "3                    блуза   f     1       зима           красный    767\n",
              "4                водолазка   u     1       зима  оливкого-зелёный   1379\n",
              "..                     ...  ..   ...        ...               ...    ...\n",
              "130  без аксессуара на шею   u     9  демисезон         без цвета      0\n",
              "131  без аксессуара на шею   u     9       лето         без цвета      0\n",
              "132           без перчаток   u    10       зима         без цвета      0\n",
              "133           без перчаток   u    10  демисезон         без цвета      0\n",
              "134           без перчаток   u    10       лето         без цвета      0\n",
              "\n",
              "[135 rows x 6 columns]"
            ],
            "text/html": [
              "\n",
              "  <div id=\"df-d899ef33-1159-4c32-9b77-504a872a311d\">\n",
              "    <div class=\"colab-df-container\">\n",
              "      <div>\n",
              "<style scoped>\n",
              "    .dataframe tbody tr th:only-of-type {\n",
              "        vertical-align: middle;\n",
              "    }\n",
              "\n",
              "    .dataframe tbody tr th {\n",
              "        vertical-align: top;\n",
              "    }\n",
              "\n",
              "    .dataframe thead th {\n",
              "        text-align: right;\n",
              "    }\n",
              "</style>\n",
              "<table border=\"1\" class=\"dataframe\">\n",
              "  <thead>\n",
              "    <tr style=\"text-align: right;\">\n",
              "      <th></th>\n",
              "      <th>clothes</th>\n",
              "      <th>sex</th>\n",
              "      <th>part</th>\n",
              "      <th>season</th>\n",
              "      <th>color</th>\n",
              "      <th>price</th>\n",
              "    </tr>\n",
              "  </thead>\n",
              "  <tbody>\n",
              "    <tr>\n",
              "      <th>0</th>\n",
              "      <td>топ</td>\n",
              "      <td>f</td>\n",
              "      <td>1</td>\n",
              "      <td>зима</td>\n",
              "      <td>серый</td>\n",
              "      <td>1305</td>\n",
              "    </tr>\n",
              "    <tr>\n",
              "      <th>1</th>\n",
              "      <td>рубашка</td>\n",
              "      <td>u</td>\n",
              "      <td>1</td>\n",
              "      <td>зима</td>\n",
              "      <td>серый</td>\n",
              "      <td>1969</td>\n",
              "    </tr>\n",
              "    <tr>\n",
              "      <th>2</th>\n",
              "      <td>футболка</td>\n",
              "      <td>u</td>\n",
              "      <td>1</td>\n",
              "      <td>зима</td>\n",
              "      <td>голубой</td>\n",
              "      <td>715</td>\n",
              "    </tr>\n",
              "    <tr>\n",
              "      <th>3</th>\n",
              "      <td>блуза</td>\n",
              "      <td>f</td>\n",
              "      <td>1</td>\n",
              "      <td>зима</td>\n",
              "      <td>красный</td>\n",
              "      <td>767</td>\n",
              "    </tr>\n",
              "    <tr>\n",
              "      <th>4</th>\n",
              "      <td>водолазка</td>\n",
              "      <td>u</td>\n",
              "      <td>1</td>\n",
              "      <td>зима</td>\n",
              "      <td>оливкого-зелёный</td>\n",
              "      <td>1379</td>\n",
              "    </tr>\n",
              "    <tr>\n",
              "      <th>...</th>\n",
              "      <td>...</td>\n",
              "      <td>...</td>\n",
              "      <td>...</td>\n",
              "      <td>...</td>\n",
              "      <td>...</td>\n",
              "      <td>...</td>\n",
              "    </tr>\n",
              "    <tr>\n",
              "      <th>130</th>\n",
              "      <td>без аксессуара на шею</td>\n",
              "      <td>u</td>\n",
              "      <td>9</td>\n",
              "      <td>демисезон</td>\n",
              "      <td>без цвета</td>\n",
              "      <td>0</td>\n",
              "    </tr>\n",
              "    <tr>\n",
              "      <th>131</th>\n",
              "      <td>без аксессуара на шею</td>\n",
              "      <td>u</td>\n",
              "      <td>9</td>\n",
              "      <td>лето</td>\n",
              "      <td>без цвета</td>\n",
              "      <td>0</td>\n",
              "    </tr>\n",
              "    <tr>\n",
              "      <th>132</th>\n",
              "      <td>без перчаток</td>\n",
              "      <td>u</td>\n",
              "      <td>10</td>\n",
              "      <td>зима</td>\n",
              "      <td>без цвета</td>\n",
              "      <td>0</td>\n",
              "    </tr>\n",
              "    <tr>\n",
              "      <th>133</th>\n",
              "      <td>без перчаток</td>\n",
              "      <td>u</td>\n",
              "      <td>10</td>\n",
              "      <td>демисезон</td>\n",
              "      <td>без цвета</td>\n",
              "      <td>0</td>\n",
              "    </tr>\n",
              "    <tr>\n",
              "      <th>134</th>\n",
              "      <td>без перчаток</td>\n",
              "      <td>u</td>\n",
              "      <td>10</td>\n",
              "      <td>лето</td>\n",
              "      <td>без цвета</td>\n",
              "      <td>0</td>\n",
              "    </tr>\n",
              "  </tbody>\n",
              "</table>\n",
              "<p>135 rows × 6 columns</p>\n",
              "</div>\n",
              "      <button class=\"colab-df-convert\" onclick=\"convertToInteractive('df-d899ef33-1159-4c32-9b77-504a872a311d')\"\n",
              "              title=\"Convert this dataframe to an interactive table.\"\n",
              "              style=\"display:none;\">\n",
              "        \n",
              "  <svg xmlns=\"http://www.w3.org/2000/svg\" height=\"24px\"viewBox=\"0 0 24 24\"\n",
              "       width=\"24px\">\n",
              "    <path d=\"M0 0h24v24H0V0z\" fill=\"none\"/>\n",
              "    <path d=\"M18.56 5.44l.94 2.06.94-2.06 2.06-.94-2.06-.94-.94-2.06-.94 2.06-2.06.94zm-11 1L8.5 8.5l.94-2.06 2.06-.94-2.06-.94L8.5 2.5l-.94 2.06-2.06.94zm10 10l.94 2.06.94-2.06 2.06-.94-2.06-.94-.94-2.06-.94 2.06-2.06.94z\"/><path d=\"M17.41 7.96l-1.37-1.37c-.4-.4-.92-.59-1.43-.59-.52 0-1.04.2-1.43.59L10.3 9.45l-7.72 7.72c-.78.78-.78 2.05 0 2.83L4 21.41c.39.39.9.59 1.41.59.51 0 1.02-.2 1.41-.59l7.78-7.78 2.81-2.81c.8-.78.8-2.07 0-2.86zM5.41 20L4 18.59l7.72-7.72 1.47 1.35L5.41 20z\"/>\n",
              "  </svg>\n",
              "      </button>\n",
              "      \n",
              "  <style>\n",
              "    .colab-df-container {\n",
              "      display:flex;\n",
              "      flex-wrap:wrap;\n",
              "      gap: 12px;\n",
              "    }\n",
              "\n",
              "    .colab-df-convert {\n",
              "      background-color: #E8F0FE;\n",
              "      border: none;\n",
              "      border-radius: 50%;\n",
              "      cursor: pointer;\n",
              "      display: none;\n",
              "      fill: #1967D2;\n",
              "      height: 32px;\n",
              "      padding: 0 0 0 0;\n",
              "      width: 32px;\n",
              "    }\n",
              "\n",
              "    .colab-df-convert:hover {\n",
              "      background-color: #E2EBFA;\n",
              "      box-shadow: 0px 1px 2px rgba(60, 64, 67, 0.3), 0px 1px 3px 1px rgba(60, 64, 67, 0.15);\n",
              "      fill: #174EA6;\n",
              "    }\n",
              "\n",
              "    [theme=dark] .colab-df-convert {\n",
              "      background-color: #3B4455;\n",
              "      fill: #D2E3FC;\n",
              "    }\n",
              "\n",
              "    [theme=dark] .colab-df-convert:hover {\n",
              "      background-color: #434B5C;\n",
              "      box-shadow: 0px 1px 3px 1px rgba(0, 0, 0, 0.15);\n",
              "      filter: drop-shadow(0px 1px 2px rgba(0, 0, 0, 0.3));\n",
              "      fill: #FFFFFF;\n",
              "    }\n",
              "  </style>\n",
              "\n",
              "      <script>\n",
              "        const buttonEl =\n",
              "          document.querySelector('#df-d899ef33-1159-4c32-9b77-504a872a311d button.colab-df-convert');\n",
              "        buttonEl.style.display =\n",
              "          google.colab.kernel.accessAllowed ? 'block' : 'none';\n",
              "\n",
              "        async function convertToInteractive(key) {\n",
              "          const element = document.querySelector('#df-d899ef33-1159-4c32-9b77-504a872a311d');\n",
              "          const dataTable =\n",
              "            await google.colab.kernel.invokeFunction('convertToInteractive',\n",
              "                                                     [key], {});\n",
              "          if (!dataTable) return;\n",
              "\n",
              "          const docLinkHtml = 'Like what you see? Visit the ' +\n",
              "            '<a target=\"_blank\" href=https://colab.research.google.com/notebooks/data_table.ipynb>data table notebook</a>'\n",
              "            + ' to learn more about interactive tables.';\n",
              "          element.innerHTML = '';\n",
              "          dataTable['output_type'] = 'display_data';\n",
              "          await google.colab.output.renderOutput(dataTable, element);\n",
              "          const docLink = document.createElement('div');\n",
              "          docLink.innerHTML = docLinkHtml;\n",
              "          element.appendChild(docLink);\n",
              "        }\n",
              "      </script>\n",
              "    </div>\n",
              "  </div>\n",
              "  "
            ]
          },
          "metadata": {}
        }
      ]
    },
    {
      "cell_type": "code",
      "source": [
        "df\n",
        "4"
      ],
      "metadata": {
        "colab": {
          "base_uri": "https://localhost:8080/"
        },
        "id": "qYYHp7-2bPtG",
        "outputId": "fa4755d2-7eae-4c52-e2fb-af338295f50d"
      },
      "execution_count": null,
      "outputs": [
        {
          "output_type": "execute_result",
          "data": {
            "text/plain": [
              "4"
            ]
          },
          "metadata": {},
          "execution_count": 7
        }
      ]
    },
    {
      "cell_type": "markdown",
      "metadata": {
        "id": "3fXySZJ41jkp"
      },
      "source": [
        "## Размер"
      ]
    },
    {
      "cell_type": "markdown",
      "metadata": {
        "id": "Z3TBFqt9zi-q"
      },
      "source": [
        "Получить размер датасета"
      ]
    },
    {
      "cell_type": "code",
      "metadata": {
        "colab": {
          "base_uri": "https://localhost:8080/"
        },
        "id": "r5Id-Rm1zd8h",
        "outputId": "84d5ad98-c102-4679-da7d-b5a11fa494d4"
      },
      "source": [
        "df.shape"
      ],
      "execution_count": null,
      "outputs": [
        {
          "output_type": "execute_result",
          "data": {
            "text/plain": [
              "(135, 6)"
            ]
          },
          "metadata": {},
          "execution_count": 13
        }
      ]
    },
    {
      "cell_type": "markdown",
      "metadata": {
        "id": "FJEo303QzvjY"
      },
      "source": [
        "Соответственно на первом месте - количество строк, на втором - количество колонок"
      ]
    },
    {
      "cell_type": "markdown",
      "metadata": {
        "id": "mjvhsvk_0E4K"
      },
      "source": [
        "Получить количество строк"
      ]
    },
    {
      "cell_type": "code",
      "metadata": {
        "colab": {
          "base_uri": "https://localhost:8080/"
        },
        "id": "GgON1yGizqkP",
        "outputId": "57de6441-84b6-45f6-8879-24008bdaa7e6"
      },
      "source": [
        "df.shape[0]"
      ],
      "execution_count": null,
      "outputs": [
        {
          "output_type": "execute_result",
          "data": {
            "text/plain": [
              "135"
            ]
          },
          "metadata": {},
          "execution_count": 14
        }
      ]
    },
    {
      "cell_type": "markdown",
      "metadata": {
        "id": "zWLTUUBk0HeH"
      },
      "source": [
        "Получить количество столбцов (колонок)"
      ]
    },
    {
      "cell_type": "code",
      "metadata": {
        "colab": {
          "base_uri": "https://localhost:8080/"
        },
        "id": "9IHCY_5CzpeZ",
        "outputId": "45ce2b4c-7196-4b99-9f51-01cf30270011"
      },
      "source": [
        "df.shape[1]"
      ],
      "execution_count": null,
      "outputs": [
        {
          "output_type": "execute_result",
          "data": {
            "text/plain": [
              "6"
            ]
          },
          "metadata": {},
          "execution_count": 15
        }
      ]
    },
    {
      "cell_type": "code",
      "source": [
        "len(df)"
      ],
      "metadata": {
        "colab": {
          "base_uri": "https://localhost:8080/"
        },
        "id": "mVK8wuUi_1oX",
        "outputId": "1af6568f-b504-43e8-90eb-0dbafcd44b03"
      },
      "execution_count": null,
      "outputs": [
        {
          "output_type": "execute_result",
          "data": {
            "text/plain": [
              "135"
            ]
          },
          "metadata": {},
          "execution_count": 13
        }
      ]
    },
    {
      "cell_type": "markdown",
      "metadata": {
        "id": "B3CgWII01fMM"
      },
      "source": [
        "## Колонки"
      ]
    },
    {
      "cell_type": "markdown",
      "metadata": {
        "id": "z7Fb5Uls0KkR"
      },
      "source": [
        "Получить список колонок"
      ]
    },
    {
      "cell_type": "code",
      "metadata": {
        "colab": {
          "base_uri": "https://localhost:8080/"
        },
        "id": "IFd_-4jG0Dr7",
        "outputId": "f725aead-9a84-4198-8c6a-77c895661453"
      },
      "source": [
        "df.columns"
      ],
      "execution_count": null,
      "outputs": [
        {
          "output_type": "execute_result",
          "data": {
            "text/plain": [
              "Index(['clothes', 'sex', 'part', 'season', 'color', 'price'], dtype='object')"
            ]
          },
          "metadata": {},
          "execution_count": 18
        }
      ]
    },
    {
      "cell_type": "code",
      "source": [
        "len(df.columns)"
      ],
      "metadata": {
        "colab": {
          "base_uri": "https://localhost:8080/"
        },
        "id": "lig0yBy-cOjC",
        "outputId": "6dd9b0db-207f-4505-fe11-f94534b507ca"
      },
      "execution_count": null,
      "outputs": [
        {
          "output_type": "execute_result",
          "data": {
            "text/plain": [
              "6"
            ]
          },
          "metadata": {},
          "execution_count": 12
        }
      ]
    },
    {
      "cell_type": "markdown",
      "metadata": {
        "id": "c-WlZkKszIsp"
      },
      "source": [
        "Получить значение определенной колонки"
      ]
    },
    {
      "cell_type": "code",
      "metadata": {
        "colab": {
          "base_uri": "https://localhost:8080/"
        },
        "id": "vSSzMXDIzA53",
        "outputId": "21201322-af33-4b4b-d252-da133f5eaa3c"
      },
      "source": [
        "df['clothes']"
      ],
      "execution_count": null,
      "outputs": [
        {
          "output_type": "execute_result",
          "data": {
            "text/plain": [
              "0                        топ\n",
              "1                    рубашка\n",
              "2                   футболка\n",
              "3                      блуза\n",
              "4                  водолазка\n",
              "               ...          \n",
              "130    без аксессуара на шею\n",
              "131    без аксессуара на шею\n",
              "132             без перчаток\n",
              "133             без перчаток\n",
              "134             без перчаток\n",
              "Name: clothes, Length: 135, dtype: object"
            ]
          },
          "metadata": {},
          "execution_count": 10
        }
      ]
    },
    {
      "cell_type": "markdown",
      "metadata": {
        "id": "F_znhIPBzQlT"
      },
      "source": [
        "ИЛИ через точку\n",
        "\n",
        "Этот принцип работает, если в названии колонки нет пробелов. Поэтому надежнее использовать первый метод - через квадратные скобки и кавычки."
      ]
    },
    {
      "cell_type": "code",
      "metadata": {
        "colab": {
          "base_uri": "https://localhost:8080/"
        },
        "id": "dQ0EbSxezO79",
        "outputId": "9a258ae3-fc19-404e-9119-6ebb64102e6d"
      },
      "source": [
        "df.clothes"
      ],
      "execution_count": null,
      "outputs": [
        {
          "output_type": "execute_result",
          "data": {
            "text/plain": [
              "0                        топ\n",
              "1                    рубашка\n",
              "2                   футболка\n",
              "3                      блуза\n",
              "4                  водолазка\n",
              "               ...          \n",
              "130    без аксессуара на шею\n",
              "131    без аксессуара на шею\n",
              "132             без перчаток\n",
              "133             без перчаток\n",
              "134             без перчаток\n",
              "Name: clothes, Length: 135, dtype: object"
            ]
          },
          "metadata": {},
          "execution_count": 10
        }
      ]
    },
    {
      "cell_type": "markdown",
      "metadata": {
        "id": "i4Vg9ZEh6t3Z"
      },
      "source": [
        "Получить уникальные значения по колонке"
      ]
    },
    {
      "cell_type": "code",
      "metadata": {
        "colab": {
          "base_uri": "https://localhost:8080/"
        },
        "id": "tGvGjFWP6xYR",
        "outputId": "b3a488a0-1526-4578-eac0-60850aa4ffd0"
      },
      "source": [
        "set(df.color)"
      ],
      "execution_count": null,
      "outputs": [
        {
          "output_type": "execute_result",
          "data": {
            "text/plain": [
              "{'без цвета',\n",
              " 'белый',\n",
              " 'голубой',\n",
              " 'горчичный',\n",
              " 'коричневый',\n",
              " 'красный',\n",
              " 'оливкого-зелёный',\n",
              " 'персиковый',\n",
              " 'салатовый',\n",
              " 'серый',\n",
              " 'синий',\n",
              " 'фиолетовый',\n",
              " 'чёрный'}"
            ]
          },
          "metadata": {},
          "execution_count": 46
        }
      ]
    },
    {
      "cell_type": "code",
      "source": [
        "df.color.unique()"
      ],
      "metadata": {
        "colab": {
          "base_uri": "https://localhost:8080/"
        },
        "id": "6iBUeNFkkq7u",
        "outputId": "feed61c1-a206-421b-f89d-625ebbd3eddf"
      },
      "execution_count": null,
      "outputs": [
        {
          "output_type": "execute_result",
          "data": {
            "text/plain": [
              "array(['серый', 'голубой', 'красный', 'оливкого-зелёный', 'салатовый',\n",
              "       'синий', 'горчичный', 'белый', 'коричневый', 'персиковый',\n",
              "       'чёрный', 'фиолетовый', 'без цвета'], dtype=object)"
            ]
          },
          "metadata": {},
          "execution_count": 11
        }
      ]
    },
    {
      "cell_type": "markdown",
      "metadata": {
        "id": "GCucJnpL67GG"
      },
      "source": [
        "Преобразование уникальных значений в список"
      ]
    },
    {
      "cell_type": "code",
      "metadata": {
        "colab": {
          "base_uri": "https://localhost:8080/"
        },
        "id": "sVsU8m1J6-Qr",
        "outputId": "e7c49556-8b82-43a1-d89e-1124b4dd8ac5"
      },
      "source": [
        "list(set(df.color))"
      ],
      "execution_count": null,
      "outputs": [
        {
          "output_type": "execute_result",
          "data": {
            "text/plain": [
              "['оливкого-зелёный',\n",
              " 'синий',\n",
              " 'горчичный',\n",
              " 'красный',\n",
              " 'серый',\n",
              " 'без цвета',\n",
              " 'персиковый',\n",
              " 'салатовый',\n",
              " 'чёрный',\n",
              " 'коричневый',\n",
              " 'белый',\n",
              " 'голубой',\n",
              " 'фиолетовый']"
            ]
          },
          "metadata": {},
          "execution_count": 47
        }
      ]
    },
    {
      "cell_type": "markdown",
      "metadata": {
        "id": "D5utx3H3zVe_"
      },
      "source": [
        "Получить значения из нескольких определенных колонок"
      ]
    },
    {
      "cell_type": "code",
      "metadata": {
        "colab": {
          "base_uri": "https://localhost:8080/",
          "height": 415
        },
        "id": "WUeFFeW0zTOS",
        "outputId": "a3b266b9-03c9-4d3e-ee4c-f069d5adfe65"
      },
      "source": [
        "df[['clothes', 'part']]"
      ],
      "execution_count": null,
      "outputs": [
        {
          "output_type": "execute_result",
          "data": {
            "text/html": [
              "<div>\n",
              "<style scoped>\n",
              "    .dataframe tbody tr th:only-of-type {\n",
              "        vertical-align: middle;\n",
              "    }\n",
              "\n",
              "    .dataframe tbody tr th {\n",
              "        vertical-align: top;\n",
              "    }\n",
              "\n",
              "    .dataframe thead th {\n",
              "        text-align: right;\n",
              "    }\n",
              "</style>\n",
              "<table border=\"1\" class=\"dataframe\">\n",
              "  <thead>\n",
              "    <tr style=\"text-align: right;\">\n",
              "      <th></th>\n",
              "      <th>clothes</th>\n",
              "      <th>part</th>\n",
              "    </tr>\n",
              "  </thead>\n",
              "  <tbody>\n",
              "    <tr>\n",
              "      <th>0</th>\n",
              "      <td>топ</td>\n",
              "      <td>1</td>\n",
              "    </tr>\n",
              "    <tr>\n",
              "      <th>1</th>\n",
              "      <td>рубашка</td>\n",
              "      <td>1</td>\n",
              "    </tr>\n",
              "    <tr>\n",
              "      <th>2</th>\n",
              "      <td>футболка</td>\n",
              "      <td>1</td>\n",
              "    </tr>\n",
              "    <tr>\n",
              "      <th>3</th>\n",
              "      <td>блуза</td>\n",
              "      <td>1</td>\n",
              "    </tr>\n",
              "    <tr>\n",
              "      <th>4</th>\n",
              "      <td>водолазка</td>\n",
              "      <td>1</td>\n",
              "    </tr>\n",
              "    <tr>\n",
              "      <th>...</th>\n",
              "      <td>...</td>\n",
              "      <td>...</td>\n",
              "    </tr>\n",
              "    <tr>\n",
              "      <th>130</th>\n",
              "      <td>без аксессуара на шею</td>\n",
              "      <td>9</td>\n",
              "    </tr>\n",
              "    <tr>\n",
              "      <th>131</th>\n",
              "      <td>без аксессуара на шею</td>\n",
              "      <td>9</td>\n",
              "    </tr>\n",
              "    <tr>\n",
              "      <th>132</th>\n",
              "      <td>без перчаток</td>\n",
              "      <td>10</td>\n",
              "    </tr>\n",
              "    <tr>\n",
              "      <th>133</th>\n",
              "      <td>без перчаток</td>\n",
              "      <td>10</td>\n",
              "    </tr>\n",
              "    <tr>\n",
              "      <th>134</th>\n",
              "      <td>без перчаток</td>\n",
              "      <td>10</td>\n",
              "    </tr>\n",
              "  </tbody>\n",
              "</table>\n",
              "<p>135 rows × 2 columns</p>\n",
              "</div>"
            ],
            "text/plain": [
              "                   clothes  part\n",
              "0                      топ     1\n",
              "1                  рубашка     1\n",
              "2                 футболка     1\n",
              "3                    блуза     1\n",
              "4                водолазка     1\n",
              "..                     ...   ...\n",
              "130  без аксессуара на шею     9\n",
              "131  без аксессуара на шею     9\n",
              "132           без перчаток    10\n",
              "133           без перчаток    10\n",
              "134           без перчаток    10\n",
              "\n",
              "[135 rows x 2 columns]"
            ]
          },
          "metadata": {},
          "execution_count": 12
        }
      ]
    },
    {
      "cell_type": "code",
      "source": [
        "cols = ['clothes', 'part', 'season']\n",
        "df[cols]"
      ],
      "metadata": {
        "colab": {
          "base_uri": "https://localhost:8080/",
          "height": 423
        },
        "id": "KI0YXzSKBCp1",
        "outputId": "2c76cdd8-d011-4e7b-8c9a-1108b4e12191"
      },
      "execution_count": null,
      "outputs": [
        {
          "output_type": "execute_result",
          "data": {
            "text/plain": [
              "                   clothes  part     season\n",
              "0                      топ     1       зима\n",
              "1                  рубашка     1       зима\n",
              "2                 футболка     1       зима\n",
              "3                    блуза     1       зима\n",
              "4                водолазка     1       зима\n",
              "..                     ...   ...        ...\n",
              "130  без аксессуара на шею     9  демисезон\n",
              "131  без аксессуара на шею     9       лето\n",
              "132           без перчаток    10       зима\n",
              "133           без перчаток    10  демисезон\n",
              "134           без перчаток    10       лето\n",
              "\n",
              "[135 rows x 3 columns]"
            ],
            "text/html": [
              "\n",
              "  <div id=\"df-84e41359-df50-4e77-906e-b801a30e5388\">\n",
              "    <div class=\"colab-df-container\">\n",
              "      <div>\n",
              "<style scoped>\n",
              "    .dataframe tbody tr th:only-of-type {\n",
              "        vertical-align: middle;\n",
              "    }\n",
              "\n",
              "    .dataframe tbody tr th {\n",
              "        vertical-align: top;\n",
              "    }\n",
              "\n",
              "    .dataframe thead th {\n",
              "        text-align: right;\n",
              "    }\n",
              "</style>\n",
              "<table border=\"1\" class=\"dataframe\">\n",
              "  <thead>\n",
              "    <tr style=\"text-align: right;\">\n",
              "      <th></th>\n",
              "      <th>clothes</th>\n",
              "      <th>part</th>\n",
              "      <th>season</th>\n",
              "    </tr>\n",
              "  </thead>\n",
              "  <tbody>\n",
              "    <tr>\n",
              "      <th>0</th>\n",
              "      <td>топ</td>\n",
              "      <td>1</td>\n",
              "      <td>зима</td>\n",
              "    </tr>\n",
              "    <tr>\n",
              "      <th>1</th>\n",
              "      <td>рубашка</td>\n",
              "      <td>1</td>\n",
              "      <td>зима</td>\n",
              "    </tr>\n",
              "    <tr>\n",
              "      <th>2</th>\n",
              "      <td>футболка</td>\n",
              "      <td>1</td>\n",
              "      <td>зима</td>\n",
              "    </tr>\n",
              "    <tr>\n",
              "      <th>3</th>\n",
              "      <td>блуза</td>\n",
              "      <td>1</td>\n",
              "      <td>зима</td>\n",
              "    </tr>\n",
              "    <tr>\n",
              "      <th>4</th>\n",
              "      <td>водолазка</td>\n",
              "      <td>1</td>\n",
              "      <td>зима</td>\n",
              "    </tr>\n",
              "    <tr>\n",
              "      <th>...</th>\n",
              "      <td>...</td>\n",
              "      <td>...</td>\n",
              "      <td>...</td>\n",
              "    </tr>\n",
              "    <tr>\n",
              "      <th>130</th>\n",
              "      <td>без аксессуара на шею</td>\n",
              "      <td>9</td>\n",
              "      <td>демисезон</td>\n",
              "    </tr>\n",
              "    <tr>\n",
              "      <th>131</th>\n",
              "      <td>без аксессуара на шею</td>\n",
              "      <td>9</td>\n",
              "      <td>лето</td>\n",
              "    </tr>\n",
              "    <tr>\n",
              "      <th>132</th>\n",
              "      <td>без перчаток</td>\n",
              "      <td>10</td>\n",
              "      <td>зима</td>\n",
              "    </tr>\n",
              "    <tr>\n",
              "      <th>133</th>\n",
              "      <td>без перчаток</td>\n",
              "      <td>10</td>\n",
              "      <td>демисезон</td>\n",
              "    </tr>\n",
              "    <tr>\n",
              "      <th>134</th>\n",
              "      <td>без перчаток</td>\n",
              "      <td>10</td>\n",
              "      <td>лето</td>\n",
              "    </tr>\n",
              "  </tbody>\n",
              "</table>\n",
              "<p>135 rows × 3 columns</p>\n",
              "</div>\n",
              "      <button class=\"colab-df-convert\" onclick=\"convertToInteractive('df-84e41359-df50-4e77-906e-b801a30e5388')\"\n",
              "              title=\"Convert this dataframe to an interactive table.\"\n",
              "              style=\"display:none;\">\n",
              "        \n",
              "  <svg xmlns=\"http://www.w3.org/2000/svg\" height=\"24px\"viewBox=\"0 0 24 24\"\n",
              "       width=\"24px\">\n",
              "    <path d=\"M0 0h24v24H0V0z\" fill=\"none\"/>\n",
              "    <path d=\"M18.56 5.44l.94 2.06.94-2.06 2.06-.94-2.06-.94-.94-2.06-.94 2.06-2.06.94zm-11 1L8.5 8.5l.94-2.06 2.06-.94-2.06-.94L8.5 2.5l-.94 2.06-2.06.94zm10 10l.94 2.06.94-2.06 2.06-.94-2.06-.94-.94-2.06-.94 2.06-2.06.94z\"/><path d=\"M17.41 7.96l-1.37-1.37c-.4-.4-.92-.59-1.43-.59-.52 0-1.04.2-1.43.59L10.3 9.45l-7.72 7.72c-.78.78-.78 2.05 0 2.83L4 21.41c.39.39.9.59 1.41.59.51 0 1.02-.2 1.41-.59l7.78-7.78 2.81-2.81c.8-.78.8-2.07 0-2.86zM5.41 20L4 18.59l7.72-7.72 1.47 1.35L5.41 20z\"/>\n",
              "  </svg>\n",
              "      </button>\n",
              "      \n",
              "  <style>\n",
              "    .colab-df-container {\n",
              "      display:flex;\n",
              "      flex-wrap:wrap;\n",
              "      gap: 12px;\n",
              "    }\n",
              "\n",
              "    .colab-df-convert {\n",
              "      background-color: #E8F0FE;\n",
              "      border: none;\n",
              "      border-radius: 50%;\n",
              "      cursor: pointer;\n",
              "      display: none;\n",
              "      fill: #1967D2;\n",
              "      height: 32px;\n",
              "      padding: 0 0 0 0;\n",
              "      width: 32px;\n",
              "    }\n",
              "\n",
              "    .colab-df-convert:hover {\n",
              "      background-color: #E2EBFA;\n",
              "      box-shadow: 0px 1px 2px rgba(60, 64, 67, 0.3), 0px 1px 3px 1px rgba(60, 64, 67, 0.15);\n",
              "      fill: #174EA6;\n",
              "    }\n",
              "\n",
              "    [theme=dark] .colab-df-convert {\n",
              "      background-color: #3B4455;\n",
              "      fill: #D2E3FC;\n",
              "    }\n",
              "\n",
              "    [theme=dark] .colab-df-convert:hover {\n",
              "      background-color: #434B5C;\n",
              "      box-shadow: 0px 1px 3px 1px rgba(0, 0, 0, 0.15);\n",
              "      filter: drop-shadow(0px 1px 2px rgba(0, 0, 0, 0.3));\n",
              "      fill: #FFFFFF;\n",
              "    }\n",
              "  </style>\n",
              "\n",
              "      <script>\n",
              "        const buttonEl =\n",
              "          document.querySelector('#df-84e41359-df50-4e77-906e-b801a30e5388 button.colab-df-convert');\n",
              "        buttonEl.style.display =\n",
              "          google.colab.kernel.accessAllowed ? 'block' : 'none';\n",
              "\n",
              "        async function convertToInteractive(key) {\n",
              "          const element = document.querySelector('#df-84e41359-df50-4e77-906e-b801a30e5388');\n",
              "          const dataTable =\n",
              "            await google.colab.kernel.invokeFunction('convertToInteractive',\n",
              "                                                     [key], {});\n",
              "          if (!dataTable) return;\n",
              "\n",
              "          const docLinkHtml = 'Like what you see? Visit the ' +\n",
              "            '<a target=\"_blank\" href=https://colab.research.google.com/notebooks/data_table.ipynb>data table notebook</a>'\n",
              "            + ' to learn more about interactive tables.';\n",
              "          element.innerHTML = '';\n",
              "          dataTable['output_type'] = 'display_data';\n",
              "          await google.colab.output.renderOutput(dataTable, element);\n",
              "          const docLink = document.createElement('div');\n",
              "          docLink.innerHTML = docLinkHtml;\n",
              "          element.appendChild(docLink);\n",
              "        }\n",
              "      </script>\n",
              "    </div>\n",
              "  </div>\n",
              "  "
            ]
          },
          "metadata": {},
          "execution_count": 13
        }
      ]
    },
    {
      "cell_type": "code",
      "source": [
        "df.drop(columns = 'color')"
      ],
      "metadata": {
        "colab": {
          "base_uri": "https://localhost:8080/",
          "height": 423
        },
        "id": "YJzfE5F-BUMN",
        "outputId": "34f50685-bd3e-4801-8279-6444cb11fe60"
      },
      "execution_count": null,
      "outputs": [
        {
          "output_type": "execute_result",
          "data": {
            "text/plain": [
              "                   clothes sex  part     season  price\n",
              "0                      топ   f     1       зима   1305\n",
              "1                  рубашка   u     1       зима   1969\n",
              "2                 футболка   u     1       зима    715\n",
              "3                    блуза   f     1       зима    767\n",
              "4                водолазка   u     1       зима   1379\n",
              "..                     ...  ..   ...        ...    ...\n",
              "130  без аксессуара на шею   u     9  демисезон      0\n",
              "131  без аксессуара на шею   u     9       лето      0\n",
              "132           без перчаток   u    10       зима      0\n",
              "133           без перчаток   u    10  демисезон      0\n",
              "134           без перчаток   u    10       лето      0\n",
              "\n",
              "[135 rows x 5 columns]"
            ],
            "text/html": [
              "\n",
              "  <div id=\"df-036f66aa-a10d-4efb-a64f-48e4fcb0f1b0\">\n",
              "    <div class=\"colab-df-container\">\n",
              "      <div>\n",
              "<style scoped>\n",
              "    .dataframe tbody tr th:only-of-type {\n",
              "        vertical-align: middle;\n",
              "    }\n",
              "\n",
              "    .dataframe tbody tr th {\n",
              "        vertical-align: top;\n",
              "    }\n",
              "\n",
              "    .dataframe thead th {\n",
              "        text-align: right;\n",
              "    }\n",
              "</style>\n",
              "<table border=\"1\" class=\"dataframe\">\n",
              "  <thead>\n",
              "    <tr style=\"text-align: right;\">\n",
              "      <th></th>\n",
              "      <th>clothes</th>\n",
              "      <th>sex</th>\n",
              "      <th>part</th>\n",
              "      <th>season</th>\n",
              "      <th>price</th>\n",
              "    </tr>\n",
              "  </thead>\n",
              "  <tbody>\n",
              "    <tr>\n",
              "      <th>0</th>\n",
              "      <td>топ</td>\n",
              "      <td>f</td>\n",
              "      <td>1</td>\n",
              "      <td>зима</td>\n",
              "      <td>1305</td>\n",
              "    </tr>\n",
              "    <tr>\n",
              "      <th>1</th>\n",
              "      <td>рубашка</td>\n",
              "      <td>u</td>\n",
              "      <td>1</td>\n",
              "      <td>зима</td>\n",
              "      <td>1969</td>\n",
              "    </tr>\n",
              "    <tr>\n",
              "      <th>2</th>\n",
              "      <td>футболка</td>\n",
              "      <td>u</td>\n",
              "      <td>1</td>\n",
              "      <td>зима</td>\n",
              "      <td>715</td>\n",
              "    </tr>\n",
              "    <tr>\n",
              "      <th>3</th>\n",
              "      <td>блуза</td>\n",
              "      <td>f</td>\n",
              "      <td>1</td>\n",
              "      <td>зима</td>\n",
              "      <td>767</td>\n",
              "    </tr>\n",
              "    <tr>\n",
              "      <th>4</th>\n",
              "      <td>водолазка</td>\n",
              "      <td>u</td>\n",
              "      <td>1</td>\n",
              "      <td>зима</td>\n",
              "      <td>1379</td>\n",
              "    </tr>\n",
              "    <tr>\n",
              "      <th>...</th>\n",
              "      <td>...</td>\n",
              "      <td>...</td>\n",
              "      <td>...</td>\n",
              "      <td>...</td>\n",
              "      <td>...</td>\n",
              "    </tr>\n",
              "    <tr>\n",
              "      <th>130</th>\n",
              "      <td>без аксессуара на шею</td>\n",
              "      <td>u</td>\n",
              "      <td>9</td>\n",
              "      <td>демисезон</td>\n",
              "      <td>0</td>\n",
              "    </tr>\n",
              "    <tr>\n",
              "      <th>131</th>\n",
              "      <td>без аксессуара на шею</td>\n",
              "      <td>u</td>\n",
              "      <td>9</td>\n",
              "      <td>лето</td>\n",
              "      <td>0</td>\n",
              "    </tr>\n",
              "    <tr>\n",
              "      <th>132</th>\n",
              "      <td>без перчаток</td>\n",
              "      <td>u</td>\n",
              "      <td>10</td>\n",
              "      <td>зима</td>\n",
              "      <td>0</td>\n",
              "    </tr>\n",
              "    <tr>\n",
              "      <th>133</th>\n",
              "      <td>без перчаток</td>\n",
              "      <td>u</td>\n",
              "      <td>10</td>\n",
              "      <td>демисезон</td>\n",
              "      <td>0</td>\n",
              "    </tr>\n",
              "    <tr>\n",
              "      <th>134</th>\n",
              "      <td>без перчаток</td>\n",
              "      <td>u</td>\n",
              "      <td>10</td>\n",
              "      <td>лето</td>\n",
              "      <td>0</td>\n",
              "    </tr>\n",
              "  </tbody>\n",
              "</table>\n",
              "<p>135 rows × 5 columns</p>\n",
              "</div>\n",
              "      <button class=\"colab-df-convert\" onclick=\"convertToInteractive('df-036f66aa-a10d-4efb-a64f-48e4fcb0f1b0')\"\n",
              "              title=\"Convert this dataframe to an interactive table.\"\n",
              "              style=\"display:none;\">\n",
              "        \n",
              "  <svg xmlns=\"http://www.w3.org/2000/svg\" height=\"24px\"viewBox=\"0 0 24 24\"\n",
              "       width=\"24px\">\n",
              "    <path d=\"M0 0h24v24H0V0z\" fill=\"none\"/>\n",
              "    <path d=\"M18.56 5.44l.94 2.06.94-2.06 2.06-.94-2.06-.94-.94-2.06-.94 2.06-2.06.94zm-11 1L8.5 8.5l.94-2.06 2.06-.94-2.06-.94L8.5 2.5l-.94 2.06-2.06.94zm10 10l.94 2.06.94-2.06 2.06-.94-2.06-.94-.94-2.06-.94 2.06-2.06.94z\"/><path d=\"M17.41 7.96l-1.37-1.37c-.4-.4-.92-.59-1.43-.59-.52 0-1.04.2-1.43.59L10.3 9.45l-7.72 7.72c-.78.78-.78 2.05 0 2.83L4 21.41c.39.39.9.59 1.41.59.51 0 1.02-.2 1.41-.59l7.78-7.78 2.81-2.81c.8-.78.8-2.07 0-2.86zM5.41 20L4 18.59l7.72-7.72 1.47 1.35L5.41 20z\"/>\n",
              "  </svg>\n",
              "      </button>\n",
              "      \n",
              "  <style>\n",
              "    .colab-df-container {\n",
              "      display:flex;\n",
              "      flex-wrap:wrap;\n",
              "      gap: 12px;\n",
              "    }\n",
              "\n",
              "    .colab-df-convert {\n",
              "      background-color: #E8F0FE;\n",
              "      border: none;\n",
              "      border-radius: 50%;\n",
              "      cursor: pointer;\n",
              "      display: none;\n",
              "      fill: #1967D2;\n",
              "      height: 32px;\n",
              "      padding: 0 0 0 0;\n",
              "      width: 32px;\n",
              "    }\n",
              "\n",
              "    .colab-df-convert:hover {\n",
              "      background-color: #E2EBFA;\n",
              "      box-shadow: 0px 1px 2px rgba(60, 64, 67, 0.3), 0px 1px 3px 1px rgba(60, 64, 67, 0.15);\n",
              "      fill: #174EA6;\n",
              "    }\n",
              "\n",
              "    [theme=dark] .colab-df-convert {\n",
              "      background-color: #3B4455;\n",
              "      fill: #D2E3FC;\n",
              "    }\n",
              "\n",
              "    [theme=dark] .colab-df-convert:hover {\n",
              "      background-color: #434B5C;\n",
              "      box-shadow: 0px 1px 3px 1px rgba(0, 0, 0, 0.15);\n",
              "      filter: drop-shadow(0px 1px 2px rgba(0, 0, 0, 0.3));\n",
              "      fill: #FFFFFF;\n",
              "    }\n",
              "  </style>\n",
              "\n",
              "      <script>\n",
              "        const buttonEl =\n",
              "          document.querySelector('#df-036f66aa-a10d-4efb-a64f-48e4fcb0f1b0 button.colab-df-convert');\n",
              "        buttonEl.style.display =\n",
              "          google.colab.kernel.accessAllowed ? 'block' : 'none';\n",
              "\n",
              "        async function convertToInteractive(key) {\n",
              "          const element = document.querySelector('#df-036f66aa-a10d-4efb-a64f-48e4fcb0f1b0');\n",
              "          const dataTable =\n",
              "            await google.colab.kernel.invokeFunction('convertToInteractive',\n",
              "                                                     [key], {});\n",
              "          if (!dataTable) return;\n",
              "\n",
              "          const docLinkHtml = 'Like what you see? Visit the ' +\n",
              "            '<a target=\"_blank\" href=https://colab.research.google.com/notebooks/data_table.ipynb>data table notebook</a>'\n",
              "            + ' to learn more about interactive tables.';\n",
              "          element.innerHTML = '';\n",
              "          dataTable['output_type'] = 'display_data';\n",
              "          await google.colab.output.renderOutput(dataTable, element);\n",
              "          const docLink = document.createElement('div');\n",
              "          docLink.innerHTML = docLinkHtml;\n",
              "          element.appendChild(docLink);\n",
              "        }\n",
              "      </script>\n",
              "    </div>\n",
              "  </div>\n",
              "  "
            ]
          },
          "metadata": {},
          "execution_count": 16
        }
      ]
    },
    {
      "cell_type": "markdown",
      "metadata": {
        "id": "P2qZtNNEtyGs"
      },
      "source": [
        "### Создать новую колонку\n",
        "\n",
        "со значениями из другого поля"
      ]
    },
    {
      "cell_type": "code",
      "metadata": {
        "colab": {
          "base_uri": "https://localhost:8080/",
          "height": 206
        },
        "id": "IyiNjHeUtxx1",
        "outputId": "af55eba3-3c6c-4bab-a7fe-190f3ef18f6e"
      },
      "source": [
        "df['new'] = df['clothes']\n",
        "df.head()"
      ],
      "execution_count": null,
      "outputs": [
        {
          "output_type": "execute_result",
          "data": {
            "text/plain": [
              "     clothes sex  part season             color  price        new\n",
              "0        топ   f     1   зима             серый   1305        топ\n",
              "1    рубашка   u     1   зима             серый   1969    рубашка\n",
              "2   футболка   u     1   зима           голубой    715   футболка\n",
              "3      блуза   f     1   зима           красный    767      блуза\n",
              "4  водолазка   u     1   зима  оливкого-зелёный   1379  водолазка"
            ],
            "text/html": [
              "\n",
              "  <div id=\"df-88ba78a5-a45e-4b3a-a3ee-0f760452e87e\">\n",
              "    <div class=\"colab-df-container\">\n",
              "      <div>\n",
              "<style scoped>\n",
              "    .dataframe tbody tr th:only-of-type {\n",
              "        vertical-align: middle;\n",
              "    }\n",
              "\n",
              "    .dataframe tbody tr th {\n",
              "        vertical-align: top;\n",
              "    }\n",
              "\n",
              "    .dataframe thead th {\n",
              "        text-align: right;\n",
              "    }\n",
              "</style>\n",
              "<table border=\"1\" class=\"dataframe\">\n",
              "  <thead>\n",
              "    <tr style=\"text-align: right;\">\n",
              "      <th></th>\n",
              "      <th>clothes</th>\n",
              "      <th>sex</th>\n",
              "      <th>part</th>\n",
              "      <th>season</th>\n",
              "      <th>color</th>\n",
              "      <th>price</th>\n",
              "      <th>new</th>\n",
              "    </tr>\n",
              "  </thead>\n",
              "  <tbody>\n",
              "    <tr>\n",
              "      <th>0</th>\n",
              "      <td>топ</td>\n",
              "      <td>f</td>\n",
              "      <td>1</td>\n",
              "      <td>зима</td>\n",
              "      <td>серый</td>\n",
              "      <td>1305</td>\n",
              "      <td>топ</td>\n",
              "    </tr>\n",
              "    <tr>\n",
              "      <th>1</th>\n",
              "      <td>рубашка</td>\n",
              "      <td>u</td>\n",
              "      <td>1</td>\n",
              "      <td>зима</td>\n",
              "      <td>серый</td>\n",
              "      <td>1969</td>\n",
              "      <td>рубашка</td>\n",
              "    </tr>\n",
              "    <tr>\n",
              "      <th>2</th>\n",
              "      <td>футболка</td>\n",
              "      <td>u</td>\n",
              "      <td>1</td>\n",
              "      <td>зима</td>\n",
              "      <td>голубой</td>\n",
              "      <td>715</td>\n",
              "      <td>футболка</td>\n",
              "    </tr>\n",
              "    <tr>\n",
              "      <th>3</th>\n",
              "      <td>блуза</td>\n",
              "      <td>f</td>\n",
              "      <td>1</td>\n",
              "      <td>зима</td>\n",
              "      <td>красный</td>\n",
              "      <td>767</td>\n",
              "      <td>блуза</td>\n",
              "    </tr>\n",
              "    <tr>\n",
              "      <th>4</th>\n",
              "      <td>водолазка</td>\n",
              "      <td>u</td>\n",
              "      <td>1</td>\n",
              "      <td>зима</td>\n",
              "      <td>оливкого-зелёный</td>\n",
              "      <td>1379</td>\n",
              "      <td>водолазка</td>\n",
              "    </tr>\n",
              "  </tbody>\n",
              "</table>\n",
              "</div>\n",
              "      <button class=\"colab-df-convert\" onclick=\"convertToInteractive('df-88ba78a5-a45e-4b3a-a3ee-0f760452e87e')\"\n",
              "              title=\"Convert this dataframe to an interactive table.\"\n",
              "              style=\"display:none;\">\n",
              "        \n",
              "  <svg xmlns=\"http://www.w3.org/2000/svg\" height=\"24px\"viewBox=\"0 0 24 24\"\n",
              "       width=\"24px\">\n",
              "    <path d=\"M0 0h24v24H0V0z\" fill=\"none\"/>\n",
              "    <path d=\"M18.56 5.44l.94 2.06.94-2.06 2.06-.94-2.06-.94-.94-2.06-.94 2.06-2.06.94zm-11 1L8.5 8.5l.94-2.06 2.06-.94-2.06-.94L8.5 2.5l-.94 2.06-2.06.94zm10 10l.94 2.06.94-2.06 2.06-.94-2.06-.94-.94-2.06-.94 2.06-2.06.94z\"/><path d=\"M17.41 7.96l-1.37-1.37c-.4-.4-.92-.59-1.43-.59-.52 0-1.04.2-1.43.59L10.3 9.45l-7.72 7.72c-.78.78-.78 2.05 0 2.83L4 21.41c.39.39.9.59 1.41.59.51 0 1.02-.2 1.41-.59l7.78-7.78 2.81-2.81c.8-.78.8-2.07 0-2.86zM5.41 20L4 18.59l7.72-7.72 1.47 1.35L5.41 20z\"/>\n",
              "  </svg>\n",
              "      </button>\n",
              "      \n",
              "  <style>\n",
              "    .colab-df-container {\n",
              "      display:flex;\n",
              "      flex-wrap:wrap;\n",
              "      gap: 12px;\n",
              "    }\n",
              "\n",
              "    .colab-df-convert {\n",
              "      background-color: #E8F0FE;\n",
              "      border: none;\n",
              "      border-radius: 50%;\n",
              "      cursor: pointer;\n",
              "      display: none;\n",
              "      fill: #1967D2;\n",
              "      height: 32px;\n",
              "      padding: 0 0 0 0;\n",
              "      width: 32px;\n",
              "    }\n",
              "\n",
              "    .colab-df-convert:hover {\n",
              "      background-color: #E2EBFA;\n",
              "      box-shadow: 0px 1px 2px rgba(60, 64, 67, 0.3), 0px 1px 3px 1px rgba(60, 64, 67, 0.15);\n",
              "      fill: #174EA6;\n",
              "    }\n",
              "\n",
              "    [theme=dark] .colab-df-convert {\n",
              "      background-color: #3B4455;\n",
              "      fill: #D2E3FC;\n",
              "    }\n",
              "\n",
              "    [theme=dark] .colab-df-convert:hover {\n",
              "      background-color: #434B5C;\n",
              "      box-shadow: 0px 1px 3px 1px rgba(0, 0, 0, 0.15);\n",
              "      filter: drop-shadow(0px 1px 2px rgba(0, 0, 0, 0.3));\n",
              "      fill: #FFFFFF;\n",
              "    }\n",
              "  </style>\n",
              "\n",
              "      <script>\n",
              "        const buttonEl =\n",
              "          document.querySelector('#df-88ba78a5-a45e-4b3a-a3ee-0f760452e87e button.colab-df-convert');\n",
              "        buttonEl.style.display =\n",
              "          google.colab.kernel.accessAllowed ? 'block' : 'none';\n",
              "\n",
              "        async function convertToInteractive(key) {\n",
              "          const element = document.querySelector('#df-88ba78a5-a45e-4b3a-a3ee-0f760452e87e');\n",
              "          const dataTable =\n",
              "            await google.colab.kernel.invokeFunction('convertToInteractive',\n",
              "                                                     [key], {});\n",
              "          if (!dataTable) return;\n",
              "\n",
              "          const docLinkHtml = 'Like what you see? Visit the ' +\n",
              "            '<a target=\"_blank\" href=https://colab.research.google.com/notebooks/data_table.ipynb>data table notebook</a>'\n",
              "            + ' to learn more about interactive tables.';\n",
              "          element.innerHTML = '';\n",
              "          dataTable['output_type'] = 'display_data';\n",
              "          await google.colab.output.renderOutput(dataTable, element);\n",
              "          const docLink = document.createElement('div');\n",
              "          docLink.innerHTML = docLinkHtml;\n",
              "          element.appendChild(docLink);\n",
              "        }\n",
              "      </script>\n",
              "    </div>\n",
              "  </div>\n",
              "  "
            ]
          },
          "metadata": {},
          "execution_count": 12
        }
      ]
    },
    {
      "cell_type": "markdown",
      "source": [
        "переименовать колонку"
      ],
      "metadata": {
        "id": "ON0wVQoiDjeE"
      }
    },
    {
      "cell_type": "code",
      "source": [
        "df.rename(columns = {'new':'clothes_en'}, inplace = True)"
      ],
      "metadata": {
        "id": "f_pDQoogDjEQ"
      },
      "execution_count": null,
      "outputs": []
    },
    {
      "cell_type": "markdown",
      "metadata": {
        "id": "N8o7l76Bu133"
      },
      "source": [
        "заменить значения новой колонки"
      ]
    },
    {
      "cell_type": "code",
      "source": [
        "df.replace({'топ': \"top\", 'футболка':'t-shirt'})"
      ],
      "metadata": {
        "colab": {
          "base_uri": "https://localhost:8080/"
        },
        "id": "R_8YyFknIAIT",
        "outputId": "c7afaeb0-0985-4ab8-ba01-2220eab79a74"
      },
      "execution_count": null,
      "outputs": [
        {
          "output_type": "execute_result",
          "data": {
            "text/plain": [
              "0                        top\n",
              "1                    рубашка\n",
              "2                    t-shirt\n",
              "3                      блуза\n",
              "4                  водолазка\n",
              "               ...          \n",
              "130    без аксессуара на шею\n",
              "131    без аксессуара на шею\n",
              "132             без перчаток\n",
              "133             без перчаток\n",
              "134             без перчаток\n",
              "Name: clothes_en, Length: 135, dtype: object"
            ]
          },
          "metadata": {},
          "execution_count": 14
        }
      ]
    },
    {
      "cell_type": "markdown",
      "source": [
        "Тип данных категория"
      ],
      "metadata": {
        "id": "xaR1RkDnFxj1"
      }
    },
    {
      "cell_type": "code",
      "source": [
        "df['sex'].astype('category').cat.codes"
      ],
      "metadata": {
        "colab": {
          "base_uri": "https://localhost:8080/"
        },
        "id": "t5nXJRUNEOjo",
        "outputId": "6cd97a1a-1e4a-4567-ad2b-ef47bb5caabb"
      },
      "execution_count": null,
      "outputs": [
        {
          "output_type": "execute_result",
          "data": {
            "text/plain": [
              "0      0\n",
              "1      1\n",
              "2      1\n",
              "3      0\n",
              "4      1\n",
              "      ..\n",
              "130    1\n",
              "131    1\n",
              "132    1\n",
              "133    1\n",
              "134    1\n",
              "Length: 135, dtype: int8"
            ]
          },
          "metadata": {},
          "execution_count": 48
        }
      ]
    },
    {
      "cell_type": "code",
      "source": [
        "df['sex'].astype('category').unique()"
      ],
      "metadata": {
        "colab": {
          "base_uri": "https://localhost:8080/"
        },
        "id": "YnWpfJEdmTka",
        "outputId": "e1d4ceb9-4c26-4a46-d013-207b21a79648"
      },
      "execution_count": null,
      "outputs": [
        {
          "output_type": "execute_result",
          "data": {
            "text/plain": [
              "['f', 'u']\n",
              "Categories (2, object): ['f', 'u']"
            ]
          },
          "metadata": {},
          "execution_count": 17
        }
      ]
    },
    {
      "cell_type": "code",
      "source": [
        "(' '+df['clothes']).str.contains('фут')"
      ],
      "metadata": {
        "colab": {
          "base_uri": "https://localhost:8080/"
        },
        "id": "mdVAucdsF1Y6",
        "outputId": "25ee66a0-9c7c-4e57-9f66-5c133187b350"
      },
      "execution_count": null,
      "outputs": [
        {
          "output_type": "execute_result",
          "data": {
            "text/plain": [
              "0      False\n",
              "1      False\n",
              "2       True\n",
              "3      False\n",
              "4      False\n",
              "       ...  \n",
              "130    False\n",
              "131    False\n",
              "132    False\n",
              "133    False\n",
              "134    False\n",
              "Name: clothes, Length: 135, dtype: bool"
            ]
          },
          "metadata": {},
          "execution_count": 18
        }
      ]
    },
    {
      "cell_type": "markdown",
      "metadata": {
        "id": "N4xCD7cDuSRO"
      },
      "source": [
        "заполнить новую колонку по постоянному значению"
      ]
    },
    {
      "cell_type": "code",
      "metadata": {
        "colab": {
          "base_uri": "https://localhost:8080/",
          "height": 204
        },
        "id": "AF24OQD1uR30",
        "outputId": "dececd5b-8477-4001-ec48-e2121ac3946f"
      },
      "source": [
        "df['new'] = 1\n",
        "df.head()"
      ],
      "execution_count": null,
      "outputs": [
        {
          "output_type": "execute_result",
          "data": {
            "text/html": [
              "<div>\n",
              "<style scoped>\n",
              "    .dataframe tbody tr th:only-of-type {\n",
              "        vertical-align: middle;\n",
              "    }\n",
              "\n",
              "    .dataframe tbody tr th {\n",
              "        vertical-align: top;\n",
              "    }\n",
              "\n",
              "    .dataframe thead th {\n",
              "        text-align: right;\n",
              "    }\n",
              "</style>\n",
              "<table border=\"1\" class=\"dataframe\">\n",
              "  <thead>\n",
              "    <tr style=\"text-align: right;\">\n",
              "      <th></th>\n",
              "      <th>clothes</th>\n",
              "      <th>sex</th>\n",
              "      <th>part</th>\n",
              "      <th>season</th>\n",
              "      <th>color</th>\n",
              "      <th>price</th>\n",
              "      <th>new</th>\n",
              "    </tr>\n",
              "  </thead>\n",
              "  <tbody>\n",
              "    <tr>\n",
              "      <th>0</th>\n",
              "      <td>топ</td>\n",
              "      <td>f</td>\n",
              "      <td>1</td>\n",
              "      <td>зима</td>\n",
              "      <td>серый</td>\n",
              "      <td>1305</td>\n",
              "      <td>1</td>\n",
              "    </tr>\n",
              "    <tr>\n",
              "      <th>1</th>\n",
              "      <td>рубашка</td>\n",
              "      <td>u</td>\n",
              "      <td>1</td>\n",
              "      <td>зима</td>\n",
              "      <td>серый</td>\n",
              "      <td>1969</td>\n",
              "      <td>1</td>\n",
              "    </tr>\n",
              "    <tr>\n",
              "      <th>2</th>\n",
              "      <td>футболка</td>\n",
              "      <td>u</td>\n",
              "      <td>1</td>\n",
              "      <td>зима</td>\n",
              "      <td>голубой</td>\n",
              "      <td>715</td>\n",
              "      <td>1</td>\n",
              "    </tr>\n",
              "    <tr>\n",
              "      <th>3</th>\n",
              "      <td>блуза</td>\n",
              "      <td>f</td>\n",
              "      <td>1</td>\n",
              "      <td>зима</td>\n",
              "      <td>красный</td>\n",
              "      <td>767</td>\n",
              "      <td>1</td>\n",
              "    </tr>\n",
              "    <tr>\n",
              "      <th>4</th>\n",
              "      <td>водолазка</td>\n",
              "      <td>u</td>\n",
              "      <td>1</td>\n",
              "      <td>зима</td>\n",
              "      <td>оливкого-зелёный</td>\n",
              "      <td>1379</td>\n",
              "      <td>1</td>\n",
              "    </tr>\n",
              "  </tbody>\n",
              "</table>\n",
              "</div>"
            ],
            "text/plain": [
              "     clothes sex  part season             color  price  new\n",
              "0        топ   f     1   зима             серый   1305    1\n",
              "1    рубашка   u     1   зима             серый   1969    1\n",
              "2   футболка   u     1   зима           голубой    715    1\n",
              "3      блуза   f     1   зима           красный    767    1\n",
              "4  водолазка   u     1   зима  оливкого-зелёный   1379    1"
            ]
          },
          "metadata": {},
          "execution_count": 11
        }
      ]
    },
    {
      "cell_type": "markdown",
      "metadata": {
        "id": "09PSw3vMuckz"
      },
      "source": [
        "заменить значения в колонке"
      ]
    },
    {
      "cell_type": "code",
      "metadata": {
        "colab": {
          "base_uri": "https://localhost:8080/",
          "height": 204
        },
        "id": "O1YnFPgEuERI",
        "outputId": "6ca435a0-9e06-4d52-b5fd-26cdce1745b2"
      },
      "source": [
        "df['new'].replace(1, 0, inplace = True)\n",
        "df.head()"
      ],
      "execution_count": null,
      "outputs": [
        {
          "output_type": "execute_result",
          "data": {
            "text/html": [
              "<div>\n",
              "<style scoped>\n",
              "    .dataframe tbody tr th:only-of-type {\n",
              "        vertical-align: middle;\n",
              "    }\n",
              "\n",
              "    .dataframe tbody tr th {\n",
              "        vertical-align: top;\n",
              "    }\n",
              "\n",
              "    .dataframe thead th {\n",
              "        text-align: right;\n",
              "    }\n",
              "</style>\n",
              "<table border=\"1\" class=\"dataframe\">\n",
              "  <thead>\n",
              "    <tr style=\"text-align: right;\">\n",
              "      <th></th>\n",
              "      <th>clothes</th>\n",
              "      <th>sex</th>\n",
              "      <th>part</th>\n",
              "      <th>season</th>\n",
              "      <th>color</th>\n",
              "      <th>price</th>\n",
              "      <th>new</th>\n",
              "    </tr>\n",
              "  </thead>\n",
              "  <tbody>\n",
              "    <tr>\n",
              "      <th>0</th>\n",
              "      <td>топ</td>\n",
              "      <td>f</td>\n",
              "      <td>1</td>\n",
              "      <td>зима</td>\n",
              "      <td>серый</td>\n",
              "      <td>1305</td>\n",
              "      <td>0</td>\n",
              "    </tr>\n",
              "    <tr>\n",
              "      <th>1</th>\n",
              "      <td>рубашка</td>\n",
              "      <td>u</td>\n",
              "      <td>1</td>\n",
              "      <td>зима</td>\n",
              "      <td>серый</td>\n",
              "      <td>1969</td>\n",
              "      <td>0</td>\n",
              "    </tr>\n",
              "    <tr>\n",
              "      <th>2</th>\n",
              "      <td>футболка</td>\n",
              "      <td>u</td>\n",
              "      <td>1</td>\n",
              "      <td>зима</td>\n",
              "      <td>голубой</td>\n",
              "      <td>715</td>\n",
              "      <td>0</td>\n",
              "    </tr>\n",
              "    <tr>\n",
              "      <th>3</th>\n",
              "      <td>блуза</td>\n",
              "      <td>f</td>\n",
              "      <td>1</td>\n",
              "      <td>зима</td>\n",
              "      <td>красный</td>\n",
              "      <td>767</td>\n",
              "      <td>0</td>\n",
              "    </tr>\n",
              "    <tr>\n",
              "      <th>4</th>\n",
              "      <td>водолазка</td>\n",
              "      <td>u</td>\n",
              "      <td>1</td>\n",
              "      <td>зима</td>\n",
              "      <td>оливкого-зелёный</td>\n",
              "      <td>1379</td>\n",
              "      <td>0</td>\n",
              "    </tr>\n",
              "  </tbody>\n",
              "</table>\n",
              "</div>"
            ],
            "text/plain": [
              "     clothes sex  part season             color  price  new\n",
              "0        топ   f     1   зима             серый   1305    0\n",
              "1    рубашка   u     1   зима             серый   1969    0\n",
              "2   футболка   u     1   зима           голубой    715    0\n",
              "3      блуза   f     1   зима           красный    767    0\n",
              "4  водолазка   u     1   зима  оливкого-зелёный   1379    0"
            ]
          },
          "metadata": {},
          "execution_count": 12
        }
      ]
    },
    {
      "cell_type": "code",
      "source": [
        "import numpy as np\n",
        "pd.DataFrame({'column':[None, np.nan, 0]}).fillna('-')"
      ],
      "metadata": {
        "colab": {
          "base_uri": "https://localhost:8080/",
          "height": 143
        },
        "id": "YyFEP1tNIz0k",
        "outputId": "015b2e24-8d17-4508-9f3d-b88bfb869bdc"
      },
      "execution_count": null,
      "outputs": [
        {
          "output_type": "execute_result",
          "data": {
            "text/plain": [
              "  column\n",
              "0      -\n",
              "1      -\n",
              "2    0.0"
            ],
            "text/html": [
              "\n",
              "  <div id=\"df-137b1758-4f5c-4073-8aa2-fcab49c16be7\">\n",
              "    <div class=\"colab-df-container\">\n",
              "      <div>\n",
              "<style scoped>\n",
              "    .dataframe tbody tr th:only-of-type {\n",
              "        vertical-align: middle;\n",
              "    }\n",
              "\n",
              "    .dataframe tbody tr th {\n",
              "        vertical-align: top;\n",
              "    }\n",
              "\n",
              "    .dataframe thead th {\n",
              "        text-align: right;\n",
              "    }\n",
              "</style>\n",
              "<table border=\"1\" class=\"dataframe\">\n",
              "  <thead>\n",
              "    <tr style=\"text-align: right;\">\n",
              "      <th></th>\n",
              "      <th>column</th>\n",
              "    </tr>\n",
              "  </thead>\n",
              "  <tbody>\n",
              "    <tr>\n",
              "      <th>0</th>\n",
              "      <td>-</td>\n",
              "    </tr>\n",
              "    <tr>\n",
              "      <th>1</th>\n",
              "      <td>-</td>\n",
              "    </tr>\n",
              "    <tr>\n",
              "      <th>2</th>\n",
              "      <td>0.0</td>\n",
              "    </tr>\n",
              "  </tbody>\n",
              "</table>\n",
              "</div>\n",
              "      <button class=\"colab-df-convert\" onclick=\"convertToInteractive('df-137b1758-4f5c-4073-8aa2-fcab49c16be7')\"\n",
              "              title=\"Convert this dataframe to an interactive table.\"\n",
              "              style=\"display:none;\">\n",
              "        \n",
              "  <svg xmlns=\"http://www.w3.org/2000/svg\" height=\"24px\"viewBox=\"0 0 24 24\"\n",
              "       width=\"24px\">\n",
              "    <path d=\"M0 0h24v24H0V0z\" fill=\"none\"/>\n",
              "    <path d=\"M18.56 5.44l.94 2.06.94-2.06 2.06-.94-2.06-.94-.94-2.06-.94 2.06-2.06.94zm-11 1L8.5 8.5l.94-2.06 2.06-.94-2.06-.94L8.5 2.5l-.94 2.06-2.06.94zm10 10l.94 2.06.94-2.06 2.06-.94-2.06-.94-.94-2.06-.94 2.06-2.06.94z\"/><path d=\"M17.41 7.96l-1.37-1.37c-.4-.4-.92-.59-1.43-.59-.52 0-1.04.2-1.43.59L10.3 9.45l-7.72 7.72c-.78.78-.78 2.05 0 2.83L4 21.41c.39.39.9.59 1.41.59.51 0 1.02-.2 1.41-.59l7.78-7.78 2.81-2.81c.8-.78.8-2.07 0-2.86zM5.41 20L4 18.59l7.72-7.72 1.47 1.35L5.41 20z\"/>\n",
              "  </svg>\n",
              "      </button>\n",
              "      \n",
              "  <style>\n",
              "    .colab-df-container {\n",
              "      display:flex;\n",
              "      flex-wrap:wrap;\n",
              "      gap: 12px;\n",
              "    }\n",
              "\n",
              "    .colab-df-convert {\n",
              "      background-color: #E8F0FE;\n",
              "      border: none;\n",
              "      border-radius: 50%;\n",
              "      cursor: pointer;\n",
              "      display: none;\n",
              "      fill: #1967D2;\n",
              "      height: 32px;\n",
              "      padding: 0 0 0 0;\n",
              "      width: 32px;\n",
              "    }\n",
              "\n",
              "    .colab-df-convert:hover {\n",
              "      background-color: #E2EBFA;\n",
              "      box-shadow: 0px 1px 2px rgba(60, 64, 67, 0.3), 0px 1px 3px 1px rgba(60, 64, 67, 0.15);\n",
              "      fill: #174EA6;\n",
              "    }\n",
              "\n",
              "    [theme=dark] .colab-df-convert {\n",
              "      background-color: #3B4455;\n",
              "      fill: #D2E3FC;\n",
              "    }\n",
              "\n",
              "    [theme=dark] .colab-df-convert:hover {\n",
              "      background-color: #434B5C;\n",
              "      box-shadow: 0px 1px 3px 1px rgba(0, 0, 0, 0.15);\n",
              "      filter: drop-shadow(0px 1px 2px rgba(0, 0, 0, 0.3));\n",
              "      fill: #FFFFFF;\n",
              "    }\n",
              "  </style>\n",
              "\n",
              "      <script>\n",
              "        const buttonEl =\n",
              "          document.querySelector('#df-137b1758-4f5c-4073-8aa2-fcab49c16be7 button.colab-df-convert');\n",
              "        buttonEl.style.display =\n",
              "          google.colab.kernel.accessAllowed ? 'block' : 'none';\n",
              "\n",
              "        async function convertToInteractive(key) {\n",
              "          const element = document.querySelector('#df-137b1758-4f5c-4073-8aa2-fcab49c16be7');\n",
              "          const dataTable =\n",
              "            await google.colab.kernel.invokeFunction('convertToInteractive',\n",
              "                                                     [key], {});\n",
              "          if (!dataTable) return;\n",
              "\n",
              "          const docLinkHtml = 'Like what you see? Visit the ' +\n",
              "            '<a target=\"_blank\" href=https://colab.research.google.com/notebooks/data_table.ipynb>data table notebook</a>'\n",
              "            + ' to learn more about interactive tables.';\n",
              "          element.innerHTML = '';\n",
              "          dataTable['output_type'] = 'display_data';\n",
              "          await google.colab.output.renderOutput(dataTable, element);\n",
              "          const docLink = document.createElement('div');\n",
              "          docLink.innerHTML = docLinkHtml;\n",
              "          element.appendChild(docLink);\n",
              "        }\n",
              "      </script>\n",
              "    </div>\n",
              "  </div>\n",
              "  "
            ]
          },
          "metadata": {},
          "execution_count": 28
        }
      ]
    },
    {
      "cell_type": "code",
      "source": [
        "df.isnull().sum().keys()"
      ],
      "metadata": {
        "colab": {
          "base_uri": "https://localhost:8080/"
        },
        "id": "-Mtd1z3fJEpR",
        "outputId": "6800ad19-b41d-442a-d79a-183b6539ba41"
      },
      "execution_count": null,
      "outputs": [
        {
          "output_type": "execute_result",
          "data": {
            "text/plain": [
              "Index(['clothes', 'sex', 'part', 'season', 'color', 'price', 'clothes_en'], dtype='object')"
            ]
          },
          "metadata": {},
          "execution_count": 19
        }
      ]
    },
    {
      "cell_type": "markdown",
      "metadata": {
        "id": "NL1mAywx1nUS"
      },
      "source": [
        "## Срезы"
      ]
    },
    {
      "cell_type": "markdown",
      "metadata": {
        "id": "0Uz7yn540RRI"
      },
      "source": [
        "Получить срез строк от 0 строки до n строки.\n",
        "\n",
        "Где n, например = 3"
      ]
    },
    {
      "cell_type": "code",
      "metadata": {
        "colab": {
          "base_uri": "https://localhost:8080/",
          "height": 143
        },
        "id": "nPe6LpYT0YVr",
        "outputId": "62f27128-5c97-42f9-dd5c-6348e222174e"
      },
      "source": [
        "df.tail(3)"
      ],
      "execution_count": null,
      "outputs": [
        {
          "output_type": "execute_result",
          "data": {
            "text/plain": [
              "          clothes sex  part     season      color  price\n",
              "132  без перчаток   u    10       зима  без цвета      0\n",
              "133  без перчаток   u    10  демисезон  без цвета      0\n",
              "134  без перчаток   u    10       лето  без цвета      0"
            ],
            "text/html": [
              "\n",
              "  <div id=\"df-2cae8ae0-1722-49ec-b3dd-464e17d992fa\">\n",
              "    <div class=\"colab-df-container\">\n",
              "      <div>\n",
              "<style scoped>\n",
              "    .dataframe tbody tr th:only-of-type {\n",
              "        vertical-align: middle;\n",
              "    }\n",
              "\n",
              "    .dataframe tbody tr th {\n",
              "        vertical-align: top;\n",
              "    }\n",
              "\n",
              "    .dataframe thead th {\n",
              "        text-align: right;\n",
              "    }\n",
              "</style>\n",
              "<table border=\"1\" class=\"dataframe\">\n",
              "  <thead>\n",
              "    <tr style=\"text-align: right;\">\n",
              "      <th></th>\n",
              "      <th>clothes</th>\n",
              "      <th>sex</th>\n",
              "      <th>part</th>\n",
              "      <th>season</th>\n",
              "      <th>color</th>\n",
              "      <th>price</th>\n",
              "    </tr>\n",
              "  </thead>\n",
              "  <tbody>\n",
              "    <tr>\n",
              "      <th>132</th>\n",
              "      <td>без перчаток</td>\n",
              "      <td>u</td>\n",
              "      <td>10</td>\n",
              "      <td>зима</td>\n",
              "      <td>без цвета</td>\n",
              "      <td>0</td>\n",
              "    </tr>\n",
              "    <tr>\n",
              "      <th>133</th>\n",
              "      <td>без перчаток</td>\n",
              "      <td>u</td>\n",
              "      <td>10</td>\n",
              "      <td>демисезон</td>\n",
              "      <td>без цвета</td>\n",
              "      <td>0</td>\n",
              "    </tr>\n",
              "    <tr>\n",
              "      <th>134</th>\n",
              "      <td>без перчаток</td>\n",
              "      <td>u</td>\n",
              "      <td>10</td>\n",
              "      <td>лето</td>\n",
              "      <td>без цвета</td>\n",
              "      <td>0</td>\n",
              "    </tr>\n",
              "  </tbody>\n",
              "</table>\n",
              "</div>\n",
              "      <button class=\"colab-df-convert\" onclick=\"convertToInteractive('df-2cae8ae0-1722-49ec-b3dd-464e17d992fa')\"\n",
              "              title=\"Convert this dataframe to an interactive table.\"\n",
              "              style=\"display:none;\">\n",
              "        \n",
              "  <svg xmlns=\"http://www.w3.org/2000/svg\" height=\"24px\"viewBox=\"0 0 24 24\"\n",
              "       width=\"24px\">\n",
              "    <path d=\"M0 0h24v24H0V0z\" fill=\"none\"/>\n",
              "    <path d=\"M18.56 5.44l.94 2.06.94-2.06 2.06-.94-2.06-.94-.94-2.06-.94 2.06-2.06.94zm-11 1L8.5 8.5l.94-2.06 2.06-.94-2.06-.94L8.5 2.5l-.94 2.06-2.06.94zm10 10l.94 2.06.94-2.06 2.06-.94-2.06-.94-.94-2.06-.94 2.06-2.06.94z\"/><path d=\"M17.41 7.96l-1.37-1.37c-.4-.4-.92-.59-1.43-.59-.52 0-1.04.2-1.43.59L10.3 9.45l-7.72 7.72c-.78.78-.78 2.05 0 2.83L4 21.41c.39.39.9.59 1.41.59.51 0 1.02-.2 1.41-.59l7.78-7.78 2.81-2.81c.8-.78.8-2.07 0-2.86zM5.41 20L4 18.59l7.72-7.72 1.47 1.35L5.41 20z\"/>\n",
              "  </svg>\n",
              "      </button>\n",
              "      \n",
              "  <style>\n",
              "    .colab-df-container {\n",
              "      display:flex;\n",
              "      flex-wrap:wrap;\n",
              "      gap: 12px;\n",
              "    }\n",
              "\n",
              "    .colab-df-convert {\n",
              "      background-color: #E8F0FE;\n",
              "      border: none;\n",
              "      border-radius: 50%;\n",
              "      cursor: pointer;\n",
              "      display: none;\n",
              "      fill: #1967D2;\n",
              "      height: 32px;\n",
              "      padding: 0 0 0 0;\n",
              "      width: 32px;\n",
              "    }\n",
              "\n",
              "    .colab-df-convert:hover {\n",
              "      background-color: #E2EBFA;\n",
              "      box-shadow: 0px 1px 2px rgba(60, 64, 67, 0.3), 0px 1px 3px 1px rgba(60, 64, 67, 0.15);\n",
              "      fill: #174EA6;\n",
              "    }\n",
              "\n",
              "    [theme=dark] .colab-df-convert {\n",
              "      background-color: #3B4455;\n",
              "      fill: #D2E3FC;\n",
              "    }\n",
              "\n",
              "    [theme=dark] .colab-df-convert:hover {\n",
              "      background-color: #434B5C;\n",
              "      box-shadow: 0px 1px 3px 1px rgba(0, 0, 0, 0.15);\n",
              "      filter: drop-shadow(0px 1px 2px rgba(0, 0, 0, 0.3));\n",
              "      fill: #FFFFFF;\n",
              "    }\n",
              "  </style>\n",
              "\n",
              "      <script>\n",
              "        const buttonEl =\n",
              "          document.querySelector('#df-2cae8ae0-1722-49ec-b3dd-464e17d992fa button.colab-df-convert');\n",
              "        buttonEl.style.display =\n",
              "          google.colab.kernel.accessAllowed ? 'block' : 'none';\n",
              "\n",
              "        async function convertToInteractive(key) {\n",
              "          const element = document.querySelector('#df-2cae8ae0-1722-49ec-b3dd-464e17d992fa');\n",
              "          const dataTable =\n",
              "            await google.colab.kernel.invokeFunction('convertToInteractive',\n",
              "                                                     [key], {});\n",
              "          if (!dataTable) return;\n",
              "\n",
              "          const docLinkHtml = 'Like what you see? Visit the ' +\n",
              "            '<a target=\"_blank\" href=https://colab.research.google.com/notebooks/data_table.ipynb>data table notebook</a>'\n",
              "            + ' to learn more about interactive tables.';\n",
              "          element.innerHTML = '';\n",
              "          dataTable['output_type'] = 'display_data';\n",
              "          await google.colab.output.renderOutput(dataTable, element);\n",
              "          const docLink = document.createElement('div');\n",
              "          docLink.innerHTML = docLinkHtml;\n",
              "          element.appendChild(docLink);\n",
              "        }\n",
              "      </script>\n",
              "    </div>\n",
              "  </div>\n",
              "  "
            ]
          },
          "metadata": {},
          "execution_count": 23
        }
      ]
    },
    {
      "cell_type": "code",
      "source": [
        "df.sample(df.shape[0], ignore_index=True)"
      ],
      "metadata": {
        "colab": {
          "base_uri": "https://localhost:8080/",
          "height": 423
        },
        "id": "WGqhpr_Bnxb8",
        "outputId": "d4672ec6-7128-42c1-8bce-3253b9cfffad"
      },
      "execution_count": null,
      "outputs": [
        {
          "output_type": "execute_result",
          "data": {
            "text/plain": [
              "                clothes sex  part     season             color  price\n",
              "0                 кепка   u     7       зима             синий   1577\n",
              "1                   топ   f     1  демисезон             серый   1305\n",
              "2                 жилет   u     2  демисезон           голубой   4072\n",
              "3                  кеды   u     3  демисезон           голубой   2872\n",
              "4    без верхней одежды   u     8  демисезон         без цвета      0\n",
              "..                  ...  ..   ...        ...               ...    ...\n",
              "130               брюки   u     4  демисезон             серый   4801\n",
              "131              свитер   u     2       лето             белый   4626\n",
              "132            лонгслив   u     1       зима            чёрный    967\n",
              "133               шопер   u     5  демисезон  оливкого-зелёный   2313\n",
              "134           олимпийка   u     2  демисезон        коричневый   3893\n",
              "\n",
              "[135 rows x 6 columns]"
            ],
            "text/html": [
              "\n",
              "  <div id=\"df-17a04762-51ff-4fdc-9137-82ee376136ab\">\n",
              "    <div class=\"colab-df-container\">\n",
              "      <div>\n",
              "<style scoped>\n",
              "    .dataframe tbody tr th:only-of-type {\n",
              "        vertical-align: middle;\n",
              "    }\n",
              "\n",
              "    .dataframe tbody tr th {\n",
              "        vertical-align: top;\n",
              "    }\n",
              "\n",
              "    .dataframe thead th {\n",
              "        text-align: right;\n",
              "    }\n",
              "</style>\n",
              "<table border=\"1\" class=\"dataframe\">\n",
              "  <thead>\n",
              "    <tr style=\"text-align: right;\">\n",
              "      <th></th>\n",
              "      <th>clothes</th>\n",
              "      <th>sex</th>\n",
              "      <th>part</th>\n",
              "      <th>season</th>\n",
              "      <th>color</th>\n",
              "      <th>price</th>\n",
              "    </tr>\n",
              "  </thead>\n",
              "  <tbody>\n",
              "    <tr>\n",
              "      <th>0</th>\n",
              "      <td>кепка</td>\n",
              "      <td>u</td>\n",
              "      <td>7</td>\n",
              "      <td>зима</td>\n",
              "      <td>синий</td>\n",
              "      <td>1577</td>\n",
              "    </tr>\n",
              "    <tr>\n",
              "      <th>1</th>\n",
              "      <td>топ</td>\n",
              "      <td>f</td>\n",
              "      <td>1</td>\n",
              "      <td>демисезон</td>\n",
              "      <td>серый</td>\n",
              "      <td>1305</td>\n",
              "    </tr>\n",
              "    <tr>\n",
              "      <th>2</th>\n",
              "      <td>жилет</td>\n",
              "      <td>u</td>\n",
              "      <td>2</td>\n",
              "      <td>демисезон</td>\n",
              "      <td>голубой</td>\n",
              "      <td>4072</td>\n",
              "    </tr>\n",
              "    <tr>\n",
              "      <th>3</th>\n",
              "      <td>кеды</td>\n",
              "      <td>u</td>\n",
              "      <td>3</td>\n",
              "      <td>демисезон</td>\n",
              "      <td>голубой</td>\n",
              "      <td>2872</td>\n",
              "    </tr>\n",
              "    <tr>\n",
              "      <th>4</th>\n",
              "      <td>без верхней одежды</td>\n",
              "      <td>u</td>\n",
              "      <td>8</td>\n",
              "      <td>демисезон</td>\n",
              "      <td>без цвета</td>\n",
              "      <td>0</td>\n",
              "    </tr>\n",
              "    <tr>\n",
              "      <th>...</th>\n",
              "      <td>...</td>\n",
              "      <td>...</td>\n",
              "      <td>...</td>\n",
              "      <td>...</td>\n",
              "      <td>...</td>\n",
              "      <td>...</td>\n",
              "    </tr>\n",
              "    <tr>\n",
              "      <th>130</th>\n",
              "      <td>брюки</td>\n",
              "      <td>u</td>\n",
              "      <td>4</td>\n",
              "      <td>демисезон</td>\n",
              "      <td>серый</td>\n",
              "      <td>4801</td>\n",
              "    </tr>\n",
              "    <tr>\n",
              "      <th>131</th>\n",
              "      <td>свитер</td>\n",
              "      <td>u</td>\n",
              "      <td>2</td>\n",
              "      <td>лето</td>\n",
              "      <td>белый</td>\n",
              "      <td>4626</td>\n",
              "    </tr>\n",
              "    <tr>\n",
              "      <th>132</th>\n",
              "      <td>лонгслив</td>\n",
              "      <td>u</td>\n",
              "      <td>1</td>\n",
              "      <td>зима</td>\n",
              "      <td>чёрный</td>\n",
              "      <td>967</td>\n",
              "    </tr>\n",
              "    <tr>\n",
              "      <th>133</th>\n",
              "      <td>шопер</td>\n",
              "      <td>u</td>\n",
              "      <td>5</td>\n",
              "      <td>демисезон</td>\n",
              "      <td>оливкого-зелёный</td>\n",
              "      <td>2313</td>\n",
              "    </tr>\n",
              "    <tr>\n",
              "      <th>134</th>\n",
              "      <td>олимпийка</td>\n",
              "      <td>u</td>\n",
              "      <td>2</td>\n",
              "      <td>демисезон</td>\n",
              "      <td>коричневый</td>\n",
              "      <td>3893</td>\n",
              "    </tr>\n",
              "  </tbody>\n",
              "</table>\n",
              "<p>135 rows × 6 columns</p>\n",
              "</div>\n",
              "      <button class=\"colab-df-convert\" onclick=\"convertToInteractive('df-17a04762-51ff-4fdc-9137-82ee376136ab')\"\n",
              "              title=\"Convert this dataframe to an interactive table.\"\n",
              "              style=\"display:none;\">\n",
              "        \n",
              "  <svg xmlns=\"http://www.w3.org/2000/svg\" height=\"24px\"viewBox=\"0 0 24 24\"\n",
              "       width=\"24px\">\n",
              "    <path d=\"M0 0h24v24H0V0z\" fill=\"none\"/>\n",
              "    <path d=\"M18.56 5.44l.94 2.06.94-2.06 2.06-.94-2.06-.94-.94-2.06-.94 2.06-2.06.94zm-11 1L8.5 8.5l.94-2.06 2.06-.94-2.06-.94L8.5 2.5l-.94 2.06-2.06.94zm10 10l.94 2.06.94-2.06 2.06-.94-2.06-.94-.94-2.06-.94 2.06-2.06.94z\"/><path d=\"M17.41 7.96l-1.37-1.37c-.4-.4-.92-.59-1.43-.59-.52 0-1.04.2-1.43.59L10.3 9.45l-7.72 7.72c-.78.78-.78 2.05 0 2.83L4 21.41c.39.39.9.59 1.41.59.51 0 1.02-.2 1.41-.59l7.78-7.78 2.81-2.81c.8-.78.8-2.07 0-2.86zM5.41 20L4 18.59l7.72-7.72 1.47 1.35L5.41 20z\"/>\n",
              "  </svg>\n",
              "      </button>\n",
              "      \n",
              "  <style>\n",
              "    .colab-df-container {\n",
              "      display:flex;\n",
              "      flex-wrap:wrap;\n",
              "      gap: 12px;\n",
              "    }\n",
              "\n",
              "    .colab-df-convert {\n",
              "      background-color: #E8F0FE;\n",
              "      border: none;\n",
              "      border-radius: 50%;\n",
              "      cursor: pointer;\n",
              "      display: none;\n",
              "      fill: #1967D2;\n",
              "      height: 32px;\n",
              "      padding: 0 0 0 0;\n",
              "      width: 32px;\n",
              "    }\n",
              "\n",
              "    .colab-df-convert:hover {\n",
              "      background-color: #E2EBFA;\n",
              "      box-shadow: 0px 1px 2px rgba(60, 64, 67, 0.3), 0px 1px 3px 1px rgba(60, 64, 67, 0.15);\n",
              "      fill: #174EA6;\n",
              "    }\n",
              "\n",
              "    [theme=dark] .colab-df-convert {\n",
              "      background-color: #3B4455;\n",
              "      fill: #D2E3FC;\n",
              "    }\n",
              "\n",
              "    [theme=dark] .colab-df-convert:hover {\n",
              "      background-color: #434B5C;\n",
              "      box-shadow: 0px 1px 3px 1px rgba(0, 0, 0, 0.15);\n",
              "      filter: drop-shadow(0px 1px 2px rgba(0, 0, 0, 0.3));\n",
              "      fill: #FFFFFF;\n",
              "    }\n",
              "  </style>\n",
              "\n",
              "      <script>\n",
              "        const buttonEl =\n",
              "          document.querySelector('#df-17a04762-51ff-4fdc-9137-82ee376136ab button.colab-df-convert');\n",
              "        buttonEl.style.display =\n",
              "          google.colab.kernel.accessAllowed ? 'block' : 'none';\n",
              "\n",
              "        async function convertToInteractive(key) {\n",
              "          const element = document.querySelector('#df-17a04762-51ff-4fdc-9137-82ee376136ab');\n",
              "          const dataTable =\n",
              "            await google.colab.kernel.invokeFunction('convertToInteractive',\n",
              "                                                     [key], {});\n",
              "          if (!dataTable) return;\n",
              "\n",
              "          const docLinkHtml = 'Like what you see? Visit the ' +\n",
              "            '<a target=\"_blank\" href=https://colab.research.google.com/notebooks/data_table.ipynb>data table notebook</a>'\n",
              "            + ' to learn more about interactive tables.';\n",
              "          element.innerHTML = '';\n",
              "          dataTable['output_type'] = 'display_data';\n",
              "          await google.colab.output.renderOutput(dataTable, element);\n",
              "          const docLink = document.createElement('div');\n",
              "          docLink.innerHTML = docLinkHtml;\n",
              "          element.appendChild(docLink);\n",
              "        }\n",
              "      </script>\n",
              "    </div>\n",
              "  </div>\n",
              "  "
            ]
          },
          "metadata": {},
          "execution_count": 27
        }
      ]
    },
    {
      "cell_type": "markdown",
      "metadata": {
        "id": "fYEkQQHPs57N"
      },
      "source": [
        "ИЛИ с помощью конструкции `head()`"
      ]
    },
    {
      "cell_type": "code",
      "metadata": {
        "colab": {
          "base_uri": "https://localhost:8080/",
          "height": 141
        },
        "id": "X8J6T-1As9KF",
        "outputId": "9095a3f8-45be-4bb1-ac2a-2c9c21abd9e2"
      },
      "source": [
        "df.head(3)"
      ],
      "execution_count": null,
      "outputs": [
        {
          "output_type": "execute_result",
          "data": {
            "text/html": [
              "<div>\n",
              "<style scoped>\n",
              "    .dataframe tbody tr th:only-of-type {\n",
              "        vertical-align: middle;\n",
              "    }\n",
              "\n",
              "    .dataframe tbody tr th {\n",
              "        vertical-align: top;\n",
              "    }\n",
              "\n",
              "    .dataframe thead th {\n",
              "        text-align: right;\n",
              "    }\n",
              "</style>\n",
              "<table border=\"1\" class=\"dataframe\">\n",
              "  <thead>\n",
              "    <tr style=\"text-align: right;\">\n",
              "      <th></th>\n",
              "      <th>clothes</th>\n",
              "      <th>sex</th>\n",
              "      <th>part</th>\n",
              "      <th>season</th>\n",
              "      <th>color</th>\n",
              "      <th>price</th>\n",
              "    </tr>\n",
              "  </thead>\n",
              "  <tbody>\n",
              "    <tr>\n",
              "      <th>0</th>\n",
              "      <td>топ</td>\n",
              "      <td>f</td>\n",
              "      <td>1</td>\n",
              "      <td>зима</td>\n",
              "      <td>серый</td>\n",
              "      <td>1305</td>\n",
              "    </tr>\n",
              "    <tr>\n",
              "      <th>1</th>\n",
              "      <td>рубашка</td>\n",
              "      <td>u</td>\n",
              "      <td>1</td>\n",
              "      <td>зима</td>\n",
              "      <td>серый</td>\n",
              "      <td>1969</td>\n",
              "    </tr>\n",
              "    <tr>\n",
              "      <th>2</th>\n",
              "      <td>футболка</td>\n",
              "      <td>u</td>\n",
              "      <td>1</td>\n",
              "      <td>зима</td>\n",
              "      <td>голубой</td>\n",
              "      <td>715</td>\n",
              "    </tr>\n",
              "  </tbody>\n",
              "</table>\n",
              "</div>"
            ],
            "text/plain": [
              "    clothes sex  part season    color  price\n",
              "0       топ   f     1   зима    серый   1305\n",
              "1   рубашка   u     1   зима    серый   1969\n",
              "2  футболка   u     1   зима  голубой    715"
            ]
          },
          "metadata": {},
          "execution_count": 5
        }
      ]
    },
    {
      "cell_type": "markdown",
      "metadata": {
        "id": "ra0xkZSA0xxV"
      },
      "source": [
        "Получить срез строк от n строки до n' строки."
      ]
    },
    {
      "cell_type": "code",
      "metadata": {
        "colab": {
          "base_uri": "https://localhost:8080/",
          "height": 202
        },
        "id": "e6yvoe1g01Ea",
        "outputId": "1caf2e6b-9e2f-4b1e-b526-e143a44817d6"
      },
      "source": [
        "df[5:10]"
      ],
      "execution_count": null,
      "outputs": [
        {
          "output_type": "execute_result",
          "data": {
            "text/html": [
              "<div>\n",
              "<style scoped>\n",
              "    .dataframe tbody tr th:only-of-type {\n",
              "        vertical-align: middle;\n",
              "    }\n",
              "\n",
              "    .dataframe tbody tr th {\n",
              "        vertical-align: top;\n",
              "    }\n",
              "\n",
              "    .dataframe thead th {\n",
              "        text-align: right;\n",
              "    }\n",
              "</style>\n",
              "<table border=\"1\" class=\"dataframe\">\n",
              "  <thead>\n",
              "    <tr style=\"text-align: right;\">\n",
              "      <th></th>\n",
              "      <th>clothes</th>\n",
              "      <th>sex</th>\n",
              "      <th>part</th>\n",
              "      <th>season</th>\n",
              "      <th>color</th>\n",
              "      <th>price</th>\n",
              "    </tr>\n",
              "  </thead>\n",
              "  <tbody>\n",
              "    <tr>\n",
              "      <th>5</th>\n",
              "      <td>кроссовки</td>\n",
              "      <td>u</td>\n",
              "      <td>3</td>\n",
              "      <td>зима</td>\n",
              "      <td>салатовый</td>\n",
              "      <td>4865</td>\n",
              "    </tr>\n",
              "    <tr>\n",
              "      <th>6</th>\n",
              "      <td>кеды</td>\n",
              "      <td>u</td>\n",
              "      <td>3</td>\n",
              "      <td>зима</td>\n",
              "      <td>голубой</td>\n",
              "      <td>2872</td>\n",
              "    </tr>\n",
              "    <tr>\n",
              "      <th>7</th>\n",
              "      <td>туфли с каблуком</td>\n",
              "      <td>f</td>\n",
              "      <td>3</td>\n",
              "      <td>демисезон</td>\n",
              "      <td>красный</td>\n",
              "      <td>2594</td>\n",
              "    </tr>\n",
              "    <tr>\n",
              "      <th>8</th>\n",
              "      <td>сапоги</td>\n",
              "      <td>u</td>\n",
              "      <td>3</td>\n",
              "      <td>лето</td>\n",
              "      <td>синий</td>\n",
              "      <td>3624</td>\n",
              "    </tr>\n",
              "    <tr>\n",
              "      <th>9</th>\n",
              "      <td>сапоги</td>\n",
              "      <td>u</td>\n",
              "      <td>3</td>\n",
              "      <td>демисезон</td>\n",
              "      <td>синий</td>\n",
              "      <td>3624</td>\n",
              "    </tr>\n",
              "  </tbody>\n",
              "</table>\n",
              "</div>"
            ],
            "text/plain": [
              "            clothes sex  part     season      color  price\n",
              "5         кроссовки   u     3       зима  салатовый   4865\n",
              "6              кеды   u     3       зима    голубой   2872\n",
              "7  туфли с каблуком   f     3  демисезон    красный   2594\n",
              "8            сапоги   u     3       лето      синий   3624\n",
              "9            сапоги   u     3  демисезон      синий   3624"
            ]
          },
          "metadata": {},
          "execution_count": 21
        }
      ]
    },
    {
      "cell_type": "markdown",
      "metadata": {
        "id": "6WNpla-k04Re"
      },
      "source": [
        "Заметьте, что верхняя граница не включается"
      ]
    },
    {
      "cell_type": "markdown",
      "metadata": {
        "id": "-n1jIwR81uts"
      },
      "source": [
        "Получить срез с n строки до последней"
      ]
    },
    {
      "cell_type": "code",
      "metadata": {
        "colab": {
          "base_uri": "https://localhost:8080/",
          "height": 202
        },
        "id": "JBOCFArw02yr",
        "outputId": "55c6b030-4fd1-44f8-da1e-2889e88e7eb1"
      },
      "source": [
        "df[130:]"
      ],
      "execution_count": null,
      "outputs": [
        {
          "output_type": "execute_result",
          "data": {
            "text/html": [
              "<div>\n",
              "<style scoped>\n",
              "    .dataframe tbody tr th:only-of-type {\n",
              "        vertical-align: middle;\n",
              "    }\n",
              "\n",
              "    .dataframe tbody tr th {\n",
              "        vertical-align: top;\n",
              "    }\n",
              "\n",
              "    .dataframe thead th {\n",
              "        text-align: right;\n",
              "    }\n",
              "</style>\n",
              "<table border=\"1\" class=\"dataframe\">\n",
              "  <thead>\n",
              "    <tr style=\"text-align: right;\">\n",
              "      <th></th>\n",
              "      <th>clothes</th>\n",
              "      <th>sex</th>\n",
              "      <th>part</th>\n",
              "      <th>season</th>\n",
              "      <th>color</th>\n",
              "      <th>price</th>\n",
              "    </tr>\n",
              "  </thead>\n",
              "  <tbody>\n",
              "    <tr>\n",
              "      <th>130</th>\n",
              "      <td>без аксессуара на шею</td>\n",
              "      <td>u</td>\n",
              "      <td>9</td>\n",
              "      <td>демисезон</td>\n",
              "      <td>без цвета</td>\n",
              "      <td>0</td>\n",
              "    </tr>\n",
              "    <tr>\n",
              "      <th>131</th>\n",
              "      <td>без аксессуара на шею</td>\n",
              "      <td>u</td>\n",
              "      <td>9</td>\n",
              "      <td>лето</td>\n",
              "      <td>без цвета</td>\n",
              "      <td>0</td>\n",
              "    </tr>\n",
              "    <tr>\n",
              "      <th>132</th>\n",
              "      <td>без перчаток</td>\n",
              "      <td>u</td>\n",
              "      <td>10</td>\n",
              "      <td>зима</td>\n",
              "      <td>без цвета</td>\n",
              "      <td>0</td>\n",
              "    </tr>\n",
              "    <tr>\n",
              "      <th>133</th>\n",
              "      <td>без перчаток</td>\n",
              "      <td>u</td>\n",
              "      <td>10</td>\n",
              "      <td>демисезон</td>\n",
              "      <td>без цвета</td>\n",
              "      <td>0</td>\n",
              "    </tr>\n",
              "    <tr>\n",
              "      <th>134</th>\n",
              "      <td>без перчаток</td>\n",
              "      <td>u</td>\n",
              "      <td>10</td>\n",
              "      <td>лето</td>\n",
              "      <td>без цвета</td>\n",
              "      <td>0</td>\n",
              "    </tr>\n",
              "  </tbody>\n",
              "</table>\n",
              "</div>"
            ],
            "text/plain": [
              "                   clothes sex  part     season      color  price\n",
              "130  без аксессуара на шею   u     9  демисезон  без цвета      0\n",
              "131  без аксессуара на шею   u     9       лето  без цвета      0\n",
              "132           без перчаток   u    10       зима  без цвета      0\n",
              "133           без перчаток   u    10  демисезон  без цвета      0\n",
              "134           без перчаток   u    10       лето  без цвета      0"
            ]
          },
          "metadata": {},
          "execution_count": 22
        }
      ]
    },
    {
      "cell_type": "markdown",
      "metadata": {
        "id": "AIOaPkat17dr"
      },
      "source": [
        "Получить последние n строк"
      ]
    },
    {
      "cell_type": "code",
      "metadata": {
        "colab": {
          "base_uri": "https://localhost:8080/",
          "height": 202
        },
        "id": "QdBmY0Pg142K",
        "outputId": "ef502308-4d07-439b-d495-bbc2589bff49"
      },
      "source": [
        "df[-5:]"
      ],
      "execution_count": null,
      "outputs": [
        {
          "output_type": "execute_result",
          "data": {
            "text/html": [
              "<div>\n",
              "<style scoped>\n",
              "    .dataframe tbody tr th:only-of-type {\n",
              "        vertical-align: middle;\n",
              "    }\n",
              "\n",
              "    .dataframe tbody tr th {\n",
              "        vertical-align: top;\n",
              "    }\n",
              "\n",
              "    .dataframe thead th {\n",
              "        text-align: right;\n",
              "    }\n",
              "</style>\n",
              "<table border=\"1\" class=\"dataframe\">\n",
              "  <thead>\n",
              "    <tr style=\"text-align: right;\">\n",
              "      <th></th>\n",
              "      <th>clothes</th>\n",
              "      <th>sex</th>\n",
              "      <th>part</th>\n",
              "      <th>season</th>\n",
              "      <th>color</th>\n",
              "      <th>price</th>\n",
              "    </tr>\n",
              "  </thead>\n",
              "  <tbody>\n",
              "    <tr>\n",
              "      <th>130</th>\n",
              "      <td>без аксессуара на шею</td>\n",
              "      <td>u</td>\n",
              "      <td>9</td>\n",
              "      <td>демисезон</td>\n",
              "      <td>без цвета</td>\n",
              "      <td>0</td>\n",
              "    </tr>\n",
              "    <tr>\n",
              "      <th>131</th>\n",
              "      <td>без аксессуара на шею</td>\n",
              "      <td>u</td>\n",
              "      <td>9</td>\n",
              "      <td>лето</td>\n",
              "      <td>без цвета</td>\n",
              "      <td>0</td>\n",
              "    </tr>\n",
              "    <tr>\n",
              "      <th>132</th>\n",
              "      <td>без перчаток</td>\n",
              "      <td>u</td>\n",
              "      <td>10</td>\n",
              "      <td>зима</td>\n",
              "      <td>без цвета</td>\n",
              "      <td>0</td>\n",
              "    </tr>\n",
              "    <tr>\n",
              "      <th>133</th>\n",
              "      <td>без перчаток</td>\n",
              "      <td>u</td>\n",
              "      <td>10</td>\n",
              "      <td>демисезон</td>\n",
              "      <td>без цвета</td>\n",
              "      <td>0</td>\n",
              "    </tr>\n",
              "    <tr>\n",
              "      <th>134</th>\n",
              "      <td>без перчаток</td>\n",
              "      <td>u</td>\n",
              "      <td>10</td>\n",
              "      <td>лето</td>\n",
              "      <td>без цвета</td>\n",
              "      <td>0</td>\n",
              "    </tr>\n",
              "  </tbody>\n",
              "</table>\n",
              "</div>"
            ],
            "text/plain": [
              "                   clothes sex  part     season      color  price\n",
              "130  без аксессуара на шею   u     9  демисезон  без цвета      0\n",
              "131  без аксессуара на шею   u     9       лето  без цвета      0\n",
              "132           без перчаток   u    10       зима  без цвета      0\n",
              "133           без перчаток   u    10  демисезон  без цвета      0\n",
              "134           без перчаток   u    10       лето  без цвета      0"
            ]
          },
          "metadata": {},
          "execution_count": 23
        }
      ]
    },
    {
      "cell_type": "markdown",
      "metadata": {
        "id": "sn8OGM5y2Euv"
      },
      "source": [
        "Получить срез \"с конца\" от -n элемента до -n' элемента"
      ]
    },
    {
      "cell_type": "code",
      "metadata": {
        "colab": {
          "base_uri": "https://localhost:8080/",
          "height": 233
        },
        "id": "_C4AxKIF1_uX",
        "outputId": "aa62cea8-4e67-462a-ba22-f645883191d5"
      },
      "source": [
        "df[-9:-3]"
      ],
      "execution_count": null,
      "outputs": [
        {
          "output_type": "execute_result",
          "data": {
            "text/html": [
              "<div>\n",
              "<style scoped>\n",
              "    .dataframe tbody tr th:only-of-type {\n",
              "        vertical-align: middle;\n",
              "    }\n",
              "\n",
              "    .dataframe tbody tr th {\n",
              "        vertical-align: top;\n",
              "    }\n",
              "\n",
              "    .dataframe thead th {\n",
              "        text-align: right;\n",
              "    }\n",
              "</style>\n",
              "<table border=\"1\" class=\"dataframe\">\n",
              "  <thead>\n",
              "    <tr style=\"text-align: right;\">\n",
              "      <th></th>\n",
              "      <th>clothes</th>\n",
              "      <th>sex</th>\n",
              "      <th>part</th>\n",
              "      <th>season</th>\n",
              "      <th>color</th>\n",
              "      <th>price</th>\n",
              "    </tr>\n",
              "  </thead>\n",
              "  <tbody>\n",
              "    <tr>\n",
              "      <th>126</th>\n",
              "      <td>без верхней одежды</td>\n",
              "      <td>u</td>\n",
              "      <td>8</td>\n",
              "      <td>зима</td>\n",
              "      <td>без цвета</td>\n",
              "      <td>0</td>\n",
              "    </tr>\n",
              "    <tr>\n",
              "      <th>127</th>\n",
              "      <td>без верхней одежды</td>\n",
              "      <td>u</td>\n",
              "      <td>8</td>\n",
              "      <td>демисезон</td>\n",
              "      <td>без цвета</td>\n",
              "      <td>0</td>\n",
              "    </tr>\n",
              "    <tr>\n",
              "      <th>128</th>\n",
              "      <td>без верхней одежды</td>\n",
              "      <td>u</td>\n",
              "      <td>8</td>\n",
              "      <td>лето</td>\n",
              "      <td>без цвета</td>\n",
              "      <td>0</td>\n",
              "    </tr>\n",
              "    <tr>\n",
              "      <th>129</th>\n",
              "      <td>без аксессуара на шею</td>\n",
              "      <td>u</td>\n",
              "      <td>9</td>\n",
              "      <td>зима</td>\n",
              "      <td>без цвета</td>\n",
              "      <td>0</td>\n",
              "    </tr>\n",
              "    <tr>\n",
              "      <th>130</th>\n",
              "      <td>без аксессуара на шею</td>\n",
              "      <td>u</td>\n",
              "      <td>9</td>\n",
              "      <td>демисезон</td>\n",
              "      <td>без цвета</td>\n",
              "      <td>0</td>\n",
              "    </tr>\n",
              "    <tr>\n",
              "      <th>131</th>\n",
              "      <td>без аксессуара на шею</td>\n",
              "      <td>u</td>\n",
              "      <td>9</td>\n",
              "      <td>лето</td>\n",
              "      <td>без цвета</td>\n",
              "      <td>0</td>\n",
              "    </tr>\n",
              "  </tbody>\n",
              "</table>\n",
              "</div>"
            ],
            "text/plain": [
              "                   clothes sex  part     season      color  price\n",
              "126     без верхней одежды   u     8       зима  без цвета      0\n",
              "127     без верхней одежды   u     8  демисезон  без цвета      0\n",
              "128     без верхней одежды   u     8       лето  без цвета      0\n",
              "129  без аксессуара на шею   u     9       зима  без цвета      0\n",
              "130  без аксессуара на шею   u     9  демисезон  без цвета      0\n",
              "131  без аксессуара на шею   u     9       лето  без цвета      0"
            ]
          },
          "metadata": {},
          "execution_count": 24
        }
      ]
    },
    {
      "cell_type": "markdown",
      "metadata": {
        "id": "plQ-279c2R5k"
      },
      "source": [
        "Получить срез с начала и с конца c n элемента до -n'"
      ]
    },
    {
      "cell_type": "code",
      "metadata": {
        "colab": {
          "base_uri": "https://localhost:8080/",
          "height": 355
        },
        "id": "5dNrMwAs2YDS",
        "outputId": "81c7ecf3-6a63-4ae6-a125-69fe59059229"
      },
      "source": [
        "df[120:-5]"
      ],
      "execution_count": null,
      "outputs": [
        {
          "output_type": "execute_result",
          "data": {
            "text/html": [
              "<div>\n",
              "<style scoped>\n",
              "    .dataframe tbody tr th:only-of-type {\n",
              "        vertical-align: middle;\n",
              "    }\n",
              "\n",
              "    .dataframe tbody tr th {\n",
              "        vertical-align: top;\n",
              "    }\n",
              "\n",
              "    .dataframe thead th {\n",
              "        text-align: right;\n",
              "    }\n",
              "</style>\n",
              "<table border=\"1\" class=\"dataframe\">\n",
              "  <thead>\n",
              "    <tr style=\"text-align: right;\">\n",
              "      <th></th>\n",
              "      <th>clothes</th>\n",
              "      <th>sex</th>\n",
              "      <th>part</th>\n",
              "      <th>season</th>\n",
              "      <th>color</th>\n",
              "      <th>price</th>\n",
              "    </tr>\n",
              "  </thead>\n",
              "  <tbody>\n",
              "    <tr>\n",
              "      <th>120</th>\n",
              "      <td>без очков</td>\n",
              "      <td>u</td>\n",
              "      <td>6</td>\n",
              "      <td>зима</td>\n",
              "      <td>без цвета</td>\n",
              "      <td>0</td>\n",
              "    </tr>\n",
              "    <tr>\n",
              "      <th>121</th>\n",
              "      <td>без очков</td>\n",
              "      <td>u</td>\n",
              "      <td>6</td>\n",
              "      <td>демисезон</td>\n",
              "      <td>без цвета</td>\n",
              "      <td>0</td>\n",
              "    </tr>\n",
              "    <tr>\n",
              "      <th>122</th>\n",
              "      <td>без очков</td>\n",
              "      <td>u</td>\n",
              "      <td>6</td>\n",
              "      <td>лето</td>\n",
              "      <td>без цвета</td>\n",
              "      <td>0</td>\n",
              "    </tr>\n",
              "    <tr>\n",
              "      <th>123</th>\n",
              "      <td>без головного убора</td>\n",
              "      <td>u</td>\n",
              "      <td>7</td>\n",
              "      <td>зима</td>\n",
              "      <td>без цвета</td>\n",
              "      <td>0</td>\n",
              "    </tr>\n",
              "    <tr>\n",
              "      <th>124</th>\n",
              "      <td>без головного убора</td>\n",
              "      <td>u</td>\n",
              "      <td>7</td>\n",
              "      <td>демисезон</td>\n",
              "      <td>без цвета</td>\n",
              "      <td>0</td>\n",
              "    </tr>\n",
              "    <tr>\n",
              "      <th>125</th>\n",
              "      <td>без головного убора</td>\n",
              "      <td>u</td>\n",
              "      <td>7</td>\n",
              "      <td>лето</td>\n",
              "      <td>без цвета</td>\n",
              "      <td>0</td>\n",
              "    </tr>\n",
              "    <tr>\n",
              "      <th>126</th>\n",
              "      <td>без верхней одежды</td>\n",
              "      <td>u</td>\n",
              "      <td>8</td>\n",
              "      <td>зима</td>\n",
              "      <td>без цвета</td>\n",
              "      <td>0</td>\n",
              "    </tr>\n",
              "    <tr>\n",
              "      <th>127</th>\n",
              "      <td>без верхней одежды</td>\n",
              "      <td>u</td>\n",
              "      <td>8</td>\n",
              "      <td>демисезон</td>\n",
              "      <td>без цвета</td>\n",
              "      <td>0</td>\n",
              "    </tr>\n",
              "    <tr>\n",
              "      <th>128</th>\n",
              "      <td>без верхней одежды</td>\n",
              "      <td>u</td>\n",
              "      <td>8</td>\n",
              "      <td>лето</td>\n",
              "      <td>без цвета</td>\n",
              "      <td>0</td>\n",
              "    </tr>\n",
              "    <tr>\n",
              "      <th>129</th>\n",
              "      <td>без аксессуара на шею</td>\n",
              "      <td>u</td>\n",
              "      <td>9</td>\n",
              "      <td>зима</td>\n",
              "      <td>без цвета</td>\n",
              "      <td>0</td>\n",
              "    </tr>\n",
              "  </tbody>\n",
              "</table>\n",
              "</div>"
            ],
            "text/plain": [
              "                   clothes sex  part     season      color  price\n",
              "120              без очков   u     6       зима  без цвета      0\n",
              "121              без очков   u     6  демисезон  без цвета      0\n",
              "122              без очков   u     6       лето  без цвета      0\n",
              "123    без головного убора   u     7       зима  без цвета      0\n",
              "124    без головного убора   u     7  демисезон  без цвета      0\n",
              "125    без головного убора   u     7       лето  без цвета      0\n",
              "126     без верхней одежды   u     8       зима  без цвета      0\n",
              "127     без верхней одежды   u     8  демисезон  без цвета      0\n",
              "128     без верхней одежды   u     8       лето  без цвета      0\n",
              "129  без аксессуара на шею   u     9       зима  без цвета      0"
            ]
          },
          "metadata": {},
          "execution_count": 25
        }
      ]
    },
    {
      "cell_type": "markdown",
      "metadata": {
        "id": "g3OvevVE2zq2"
      },
      "source": [
        "## Фильтры\n",
        "\n",
        "С помощью фильтров данные можно не только получать, но и перезаписывать."
      ]
    },
    {
      "cell_type": "markdown",
      "metadata": {
        "id": "fpScUqSl26xM"
      },
      "source": [
        "### Обращение к строке"
      ]
    },
    {
      "cell_type": "markdown",
      "metadata": {
        "id": "HDdF67KR2nIQ"
      },
      "source": [
        "Получить значения строки по ее номеру"
      ]
    },
    {
      "cell_type": "code",
      "metadata": {
        "colab": {
          "base_uri": "https://localhost:8080/"
        },
        "id": "AzS9zpkl2dob",
        "outputId": "7ecacc81-508d-4a56-faa6-884acdb4be29"
      },
      "source": [
        "df.iloc[120]"
      ],
      "execution_count": null,
      "outputs": [
        {
          "output_type": "execute_result",
          "data": {
            "text/plain": [
              "clothes       без очков\n",
              "sex                   u\n",
              "part                  6\n",
              "season             зима\n",
              "color         без цвета\n",
              "price                 0\n",
              "clothes_en    без очков\n",
              "Name: 120, dtype: object"
            ]
          },
          "metadata": {},
          "execution_count": 53
        }
      ]
    },
    {
      "cell_type": "markdown",
      "metadata": {
        "id": "UcHb1FN53Ie2"
      },
      "source": [
        "ИЛИ"
      ]
    },
    {
      "cell_type": "code",
      "metadata": {
        "colab": {
          "base_uri": "https://localhost:8080/"
        },
        "id": "OKvL74aR2_Ur",
        "outputId": "e37b53bf-c02e-4a6e-b8e2-d28f5cc0b35c"
      },
      "source": [
        "df.loc[120]"
      ],
      "execution_count": null,
      "outputs": [
        {
          "output_type": "execute_result",
          "data": {
            "text/plain": [
              "clothes    без очков\n",
              "sex                u\n",
              "part               6\n",
              "season          зима\n",
              "color      без цвета\n",
              "price              0\n",
              "Name: 120, dtype: object"
            ]
          },
          "metadata": {},
          "execution_count": 29
        }
      ]
    },
    {
      "cell_type": "markdown",
      "metadata": {
        "id": "eUNpR4bg3Rj1"
      },
      "source": [
        "### Обращение к значению по строке и столбцу"
      ]
    },
    {
      "cell_type": "code",
      "metadata": {
        "colab": {
          "base_uri": "https://localhost:8080/",
          "height": 35
        },
        "id": "SW95aJxF3KoK",
        "outputId": "c018e515-6c1f-413e-ba4f-14b8724d911e"
      },
      "source": [
        "df.loc[120, 'clothes']"
      ],
      "execution_count": null,
      "outputs": [
        {
          "output_type": "execute_result",
          "data": {
            "application/vnd.google.colaboratory.intrinsic+json": {
              "type": "string"
            },
            "text/plain": [
              "'без очков'"
            ]
          },
          "metadata": {},
          "execution_count": 31
        }
      ]
    },
    {
      "cell_type": "markdown",
      "metadata": {
        "id": "w2P0FRM93qRC"
      },
      "source": [
        "ИЛИ"
      ]
    },
    {
      "cell_type": "code",
      "metadata": {
        "colab": {
          "base_uri": "https://localhost:8080/",
          "height": 35
        },
        "id": "S1FLnuhq3hCb",
        "outputId": "539122e2-34d8-415e-d7a5-202898a20aa2"
      },
      "source": [
        "df.loc[120]['clothes']"
      ],
      "execution_count": null,
      "outputs": [
        {
          "output_type": "execute_result",
          "data": {
            "application/vnd.google.colaboratory.intrinsic+json": {
              "type": "string"
            },
            "text/plain": [
              "'без очков'"
            ]
          },
          "metadata": {},
          "execution_count": 33
        }
      ]
    },
    {
      "cell_type": "markdown",
      "metadata": {
        "id": "l_zTrin23sHJ"
      },
      "source": [
        "ИЛИ"
      ]
    },
    {
      "cell_type": "code",
      "metadata": {
        "colab": {
          "base_uri": "https://localhost:8080/",
          "height": 35
        },
        "id": "XWsX21Y53slo",
        "outputId": "23fc9cbf-0a2b-46c8-eebc-8e2abd1dff1d"
      },
      "source": [
        "df.loc[120].clothes"
      ],
      "execution_count": null,
      "outputs": [
        {
          "output_type": "execute_result",
          "data": {
            "application/vnd.google.colaboratory.intrinsic+json": {
              "type": "string"
            },
            "text/plain": [
              "'без очков'"
            ]
          },
          "metadata": {},
          "execution_count": 34
        }
      ]
    },
    {
      "cell_type": "markdown",
      "metadata": {
        "id": "Jxip6ro_3zcW"
      },
      "source": [
        "### Обращение к данным по условию\n",
        "\n",
        "|условие|обозначение|\n",
        "|:--|--|\n",
        "|`==`|равно\n",
        "|`!=`|неравно\n",
        "|`>`|больше\n",
        "|`<`|меньше\n",
        "|`>=`|больше или равно\n",
        "|`<=`|меньше или равно\n",
        "|`.isin()`| входит в\n",
        "|`.isna()`| пустое значение\n",
        "|`~`| отрицание\n"
      ]
    },
    {
      "cell_type": "markdown",
      "metadata": {
        "id": "9W5rg7f65aeZ"
      },
      "source": [
        "Равно"
      ]
    },
    {
      "cell_type": "code",
      "metadata": {
        "colab": {
          "base_uri": "https://localhost:8080/",
          "height": 631
        },
        "id": "eLD6_Zsd32KY",
        "outputId": "ff372171-d954-4a07-8c23-f76fd2f7bbba"
      },
      "source": [
        "df.loc[df.part == 3]"
      ],
      "execution_count": null,
      "outputs": [
        {
          "output_type": "execute_result",
          "data": {
            "text/html": [
              "<div>\n",
              "<style scoped>\n",
              "    .dataframe tbody tr th:only-of-type {\n",
              "        vertical-align: middle;\n",
              "    }\n",
              "\n",
              "    .dataframe tbody tr th {\n",
              "        vertical-align: top;\n",
              "    }\n",
              "\n",
              "    .dataframe thead th {\n",
              "        text-align: right;\n",
              "    }\n",
              "</style>\n",
              "<table border=\"1\" class=\"dataframe\">\n",
              "  <thead>\n",
              "    <tr style=\"text-align: right;\">\n",
              "      <th></th>\n",
              "      <th>clothes</th>\n",
              "      <th>sex</th>\n",
              "      <th>part</th>\n",
              "      <th>season</th>\n",
              "      <th>color</th>\n",
              "      <th>price</th>\n",
              "    </tr>\n",
              "  </thead>\n",
              "  <tbody>\n",
              "    <tr>\n",
              "      <th>5</th>\n",
              "      <td>кроссовки</td>\n",
              "      <td>u</td>\n",
              "      <td>3</td>\n",
              "      <td>зима</td>\n",
              "      <td>салатовый</td>\n",
              "      <td>4865</td>\n",
              "    </tr>\n",
              "    <tr>\n",
              "      <th>6</th>\n",
              "      <td>кеды</td>\n",
              "      <td>u</td>\n",
              "      <td>3</td>\n",
              "      <td>зима</td>\n",
              "      <td>голубой</td>\n",
              "      <td>2872</td>\n",
              "    </tr>\n",
              "    <tr>\n",
              "      <th>7</th>\n",
              "      <td>туфли с каблуком</td>\n",
              "      <td>f</td>\n",
              "      <td>3</td>\n",
              "      <td>демисезон</td>\n",
              "      <td>красный</td>\n",
              "      <td>2594</td>\n",
              "    </tr>\n",
              "    <tr>\n",
              "      <th>8</th>\n",
              "      <td>сапоги</td>\n",
              "      <td>u</td>\n",
              "      <td>3</td>\n",
              "      <td>лето</td>\n",
              "      <td>синий</td>\n",
              "      <td>3624</td>\n",
              "    </tr>\n",
              "    <tr>\n",
              "      <th>9</th>\n",
              "      <td>сапоги</td>\n",
              "      <td>u</td>\n",
              "      <td>3</td>\n",
              "      <td>демисезон</td>\n",
              "      <td>синий</td>\n",
              "      <td>3624</td>\n",
              "    </tr>\n",
              "    <tr>\n",
              "      <th>10</th>\n",
              "      <td>сапоги</td>\n",
              "      <td>u</td>\n",
              "      <td>3</td>\n",
              "      <td>зима</td>\n",
              "      <td>синий</td>\n",
              "      <td>3624</td>\n",
              "    </tr>\n",
              "    <tr>\n",
              "      <th>11</th>\n",
              "      <td>туфли с каблуком</td>\n",
              "      <td>f</td>\n",
              "      <td>3</td>\n",
              "      <td>лето</td>\n",
              "      <td>красный</td>\n",
              "      <td>2594</td>\n",
              "    </tr>\n",
              "    <tr>\n",
              "      <th>12</th>\n",
              "      <td>туфли без каблука</td>\n",
              "      <td>u</td>\n",
              "      <td>3</td>\n",
              "      <td>лето</td>\n",
              "      <td>горчичный</td>\n",
              "      <td>2868</td>\n",
              "    </tr>\n",
              "    <tr>\n",
              "      <th>13</th>\n",
              "      <td>туфли без каблука</td>\n",
              "      <td>u</td>\n",
              "      <td>3</td>\n",
              "      <td>демисезон</td>\n",
              "      <td>горчичный</td>\n",
              "      <td>2868</td>\n",
              "    </tr>\n",
              "    <tr>\n",
              "      <th>14</th>\n",
              "      <td>сандалии</td>\n",
              "      <td>u</td>\n",
              "      <td>3</td>\n",
              "      <td>лето</td>\n",
              "      <td>красный</td>\n",
              "      <td>2415</td>\n",
              "    </tr>\n",
              "    <tr>\n",
              "      <th>15</th>\n",
              "      <td>босоножки</td>\n",
              "      <td>f</td>\n",
              "      <td>3</td>\n",
              "      <td>лето</td>\n",
              "      <td>белый</td>\n",
              "      <td>4519</td>\n",
              "    </tr>\n",
              "    <tr>\n",
              "      <th>16</th>\n",
              "      <td>ботинки</td>\n",
              "      <td>u</td>\n",
              "      <td>3</td>\n",
              "      <td>лето</td>\n",
              "      <td>коричневый</td>\n",
              "      <td>3347</td>\n",
              "    </tr>\n",
              "    <tr>\n",
              "      <th>17</th>\n",
              "      <td>ботинки</td>\n",
              "      <td>u</td>\n",
              "      <td>3</td>\n",
              "      <td>демисезон</td>\n",
              "      <td>коричневый</td>\n",
              "      <td>3347</td>\n",
              "    </tr>\n",
              "    <tr>\n",
              "      <th>18</th>\n",
              "      <td>ботинки</td>\n",
              "      <td>u</td>\n",
              "      <td>3</td>\n",
              "      <td>зима</td>\n",
              "      <td>коричневый</td>\n",
              "      <td>3347</td>\n",
              "    </tr>\n",
              "    <tr>\n",
              "      <th>19</th>\n",
              "      <td>сланцы</td>\n",
              "      <td>u</td>\n",
              "      <td>3</td>\n",
              "      <td>лето</td>\n",
              "      <td>салатовый</td>\n",
              "      <td>3733</td>\n",
              "    </tr>\n",
              "    <tr>\n",
              "      <th>63</th>\n",
              "      <td>кроссовки</td>\n",
              "      <td>u</td>\n",
              "      <td>3</td>\n",
              "      <td>лето</td>\n",
              "      <td>салатовый</td>\n",
              "      <td>4865</td>\n",
              "    </tr>\n",
              "    <tr>\n",
              "      <th>64</th>\n",
              "      <td>кеды</td>\n",
              "      <td>u</td>\n",
              "      <td>3</td>\n",
              "      <td>лето</td>\n",
              "      <td>голубой</td>\n",
              "      <td>2872</td>\n",
              "    </tr>\n",
              "    <tr>\n",
              "      <th>70</th>\n",
              "      <td>кроссовки</td>\n",
              "      <td>u</td>\n",
              "      <td>3</td>\n",
              "      <td>демисезон</td>\n",
              "      <td>салатовый</td>\n",
              "      <td>4865</td>\n",
              "    </tr>\n",
              "    <tr>\n",
              "      <th>71</th>\n",
              "      <td>кеды</td>\n",
              "      <td>u</td>\n",
              "      <td>3</td>\n",
              "      <td>демисезон</td>\n",
              "      <td>голубой</td>\n",
              "      <td>2872</td>\n",
              "    </tr>\n",
              "  </tbody>\n",
              "</table>\n",
              "</div>"
            ],
            "text/plain": [
              "              clothes sex  part     season       color  price\n",
              "5           кроссовки   u     3       зима   салатовый   4865\n",
              "6                кеды   u     3       зима     голубой   2872\n",
              "7    туфли с каблуком   f     3  демисезон     красный   2594\n",
              "8              сапоги   u     3       лето       синий   3624\n",
              "9              сапоги   u     3  демисезон       синий   3624\n",
              "10             сапоги   u     3       зима       синий   3624\n",
              "11   туфли с каблуком   f     3       лето     красный   2594\n",
              "12  туфли без каблука   u     3       лето   горчичный   2868\n",
              "13  туфли без каблука   u     3  демисезон   горчичный   2868\n",
              "14           сандалии   u     3       лето     красный   2415\n",
              "15          босоножки   f     3       лето       белый   4519\n",
              "16            ботинки   u     3       лето  коричневый   3347\n",
              "17            ботинки   u     3  демисезон  коричневый   3347\n",
              "18            ботинки   u     3       зима  коричневый   3347\n",
              "19             сланцы   u     3       лето   салатовый   3733\n",
              "63          кроссовки   u     3       лето   салатовый   4865\n",
              "64               кеды   u     3       лето     голубой   2872\n",
              "70          кроссовки   u     3  демисезон   салатовый   4865\n",
              "71               кеды   u     3  демисезон     голубой   2872"
            ]
          },
          "metadata": {},
          "execution_count": 35
        }
      ]
    },
    {
      "cell_type": "code",
      "metadata": {
        "colab": {
          "base_uri": "https://localhost:8080/",
          "height": 141
        },
        "id": "Cr2iVw-X3_te",
        "outputId": "2afb65eb-b654-4b71-c6f7-d1a8e9a95fce"
      },
      "source": [
        "df.loc[df.clothes == 'кеды']"
      ],
      "execution_count": null,
      "outputs": [
        {
          "output_type": "execute_result",
          "data": {
            "text/html": [
              "<div>\n",
              "<style scoped>\n",
              "    .dataframe tbody tr th:only-of-type {\n",
              "        vertical-align: middle;\n",
              "    }\n",
              "\n",
              "    .dataframe tbody tr th {\n",
              "        vertical-align: top;\n",
              "    }\n",
              "\n",
              "    .dataframe thead th {\n",
              "        text-align: right;\n",
              "    }\n",
              "</style>\n",
              "<table border=\"1\" class=\"dataframe\">\n",
              "  <thead>\n",
              "    <tr style=\"text-align: right;\">\n",
              "      <th></th>\n",
              "      <th>clothes</th>\n",
              "      <th>sex</th>\n",
              "      <th>part</th>\n",
              "      <th>season</th>\n",
              "      <th>color</th>\n",
              "      <th>price</th>\n",
              "    </tr>\n",
              "  </thead>\n",
              "  <tbody>\n",
              "    <tr>\n",
              "      <th>6</th>\n",
              "      <td>кеды</td>\n",
              "      <td>u</td>\n",
              "      <td>3</td>\n",
              "      <td>зима</td>\n",
              "      <td>голубой</td>\n",
              "      <td>2872</td>\n",
              "    </tr>\n",
              "    <tr>\n",
              "      <th>64</th>\n",
              "      <td>кеды</td>\n",
              "      <td>u</td>\n",
              "      <td>3</td>\n",
              "      <td>лето</td>\n",
              "      <td>голубой</td>\n",
              "      <td>2872</td>\n",
              "    </tr>\n",
              "    <tr>\n",
              "      <th>71</th>\n",
              "      <td>кеды</td>\n",
              "      <td>u</td>\n",
              "      <td>3</td>\n",
              "      <td>демисезон</td>\n",
              "      <td>голубой</td>\n",
              "      <td>2872</td>\n",
              "    </tr>\n",
              "  </tbody>\n",
              "</table>\n",
              "</div>"
            ],
            "text/plain": [
              "   clothes sex  part     season    color  price\n",
              "6     кеды   u     3       зима  голубой   2872\n",
              "64    кеды   u     3       лето  голубой   2872\n",
              "71    кеды   u     3  демисезон  голубой   2872"
            ]
          },
          "metadata": {},
          "execution_count": 36
        }
      ]
    },
    {
      "cell_type": "markdown",
      "metadata": {
        "id": "UJxvNWVs5go3"
      },
      "source": [
        "Неравно"
      ]
    },
    {
      "cell_type": "code",
      "metadata": {
        "colab": {
          "base_uri": "https://localhost:8080/",
          "height": 539
        },
        "id": "ZI_pG4Eb5e7S",
        "outputId": "f49846b0-dffe-451f-ada2-5e7117486db2"
      },
      "source": [
        "df.loc[df.sex!='u']"
      ],
      "execution_count": null,
      "outputs": [
        {
          "output_type": "execute_result",
          "data": {
            "text/html": [
              "<div>\n",
              "<style scoped>\n",
              "    .dataframe tbody tr th:only-of-type {\n",
              "        vertical-align: middle;\n",
              "    }\n",
              "\n",
              "    .dataframe tbody tr th {\n",
              "        vertical-align: top;\n",
              "    }\n",
              "\n",
              "    .dataframe thead th {\n",
              "        text-align: right;\n",
              "    }\n",
              "</style>\n",
              "<table border=\"1\" class=\"dataframe\">\n",
              "  <thead>\n",
              "    <tr style=\"text-align: right;\">\n",
              "      <th></th>\n",
              "      <th>clothes</th>\n",
              "      <th>sex</th>\n",
              "      <th>part</th>\n",
              "      <th>season</th>\n",
              "      <th>color</th>\n",
              "      <th>price</th>\n",
              "    </tr>\n",
              "  </thead>\n",
              "  <tbody>\n",
              "    <tr>\n",
              "      <th>0</th>\n",
              "      <td>топ</td>\n",
              "      <td>f</td>\n",
              "      <td>1</td>\n",
              "      <td>зима</td>\n",
              "      <td>серый</td>\n",
              "      <td>1305</td>\n",
              "    </tr>\n",
              "    <tr>\n",
              "      <th>3</th>\n",
              "      <td>блуза</td>\n",
              "      <td>f</td>\n",
              "      <td>1</td>\n",
              "      <td>зима</td>\n",
              "      <td>красный</td>\n",
              "      <td>767</td>\n",
              "    </tr>\n",
              "    <tr>\n",
              "      <th>7</th>\n",
              "      <td>туфли с каблуком</td>\n",
              "      <td>f</td>\n",
              "      <td>3</td>\n",
              "      <td>демисезон</td>\n",
              "      <td>красный</td>\n",
              "      <td>2594</td>\n",
              "    </tr>\n",
              "    <tr>\n",
              "      <th>11</th>\n",
              "      <td>туфли с каблуком</td>\n",
              "      <td>f</td>\n",
              "      <td>3</td>\n",
              "      <td>лето</td>\n",
              "      <td>красный</td>\n",
              "      <td>2594</td>\n",
              "    </tr>\n",
              "    <tr>\n",
              "      <th>15</th>\n",
              "      <td>босоножки</td>\n",
              "      <td>f</td>\n",
              "      <td>3</td>\n",
              "      <td>лето</td>\n",
              "      <td>белый</td>\n",
              "      <td>4519</td>\n",
              "    </tr>\n",
              "    <tr>\n",
              "      <th>29</th>\n",
              "      <td>юбка</td>\n",
              "      <td>f</td>\n",
              "      <td>4</td>\n",
              "      <td>зима</td>\n",
              "      <td>коричневый</td>\n",
              "      <td>3988</td>\n",
              "    </tr>\n",
              "    <tr>\n",
              "      <th>31</th>\n",
              "      <td>платье</td>\n",
              "      <td>f</td>\n",
              "      <td>4</td>\n",
              "      <td>зима</td>\n",
              "      <td>голубой</td>\n",
              "      <td>4791</td>\n",
              "    </tr>\n",
              "    <tr>\n",
              "      <th>42</th>\n",
              "      <td>платок</td>\n",
              "      <td>f</td>\n",
              "      <td>7</td>\n",
              "      <td>зима</td>\n",
              "      <td>персиковый</td>\n",
              "      <td>1010</td>\n",
              "    </tr>\n",
              "    <tr>\n",
              "      <th>58</th>\n",
              "      <td>топ</td>\n",
              "      <td>f</td>\n",
              "      <td>1</td>\n",
              "      <td>лето</td>\n",
              "      <td>серый</td>\n",
              "      <td>1305</td>\n",
              "    </tr>\n",
              "    <tr>\n",
              "      <th>61</th>\n",
              "      <td>блуза</td>\n",
              "      <td>f</td>\n",
              "      <td>1</td>\n",
              "      <td>лето</td>\n",
              "      <td>красный</td>\n",
              "      <td>767</td>\n",
              "    </tr>\n",
              "    <tr>\n",
              "      <th>65</th>\n",
              "      <td>топ</td>\n",
              "      <td>f</td>\n",
              "      <td>1</td>\n",
              "      <td>демисезон</td>\n",
              "      <td>серый</td>\n",
              "      <td>1305</td>\n",
              "    </tr>\n",
              "    <tr>\n",
              "      <th>68</th>\n",
              "      <td>блуза</td>\n",
              "      <td>f</td>\n",
              "      <td>1</td>\n",
              "      <td>демисезон</td>\n",
              "      <td>красный</td>\n",
              "      <td>767</td>\n",
              "    </tr>\n",
              "    <tr>\n",
              "      <th>81</th>\n",
              "      <td>юбка</td>\n",
              "      <td>f</td>\n",
              "      <td>4</td>\n",
              "      <td>демисезон</td>\n",
              "      <td>коричневый</td>\n",
              "      <td>3988</td>\n",
              "    </tr>\n",
              "    <tr>\n",
              "      <th>83</th>\n",
              "      <td>платье</td>\n",
              "      <td>f</td>\n",
              "      <td>4</td>\n",
              "      <td>демисезон</td>\n",
              "      <td>голубой</td>\n",
              "      <td>4791</td>\n",
              "    </tr>\n",
              "    <tr>\n",
              "      <th>99</th>\n",
              "      <td>юбка</td>\n",
              "      <td>f</td>\n",
              "      <td>4</td>\n",
              "      <td>лето</td>\n",
              "      <td>коричневый</td>\n",
              "      <td>3988</td>\n",
              "    </tr>\n",
              "    <tr>\n",
              "      <th>101</th>\n",
              "      <td>платье</td>\n",
              "      <td>f</td>\n",
              "      <td>4</td>\n",
              "      <td>лето</td>\n",
              "      <td>голубой</td>\n",
              "      <td>4791</td>\n",
              "    </tr>\n",
              "  </tbody>\n",
              "</table>\n",
              "</div>"
            ],
            "text/plain": [
              "              clothes sex  part     season       color  price\n",
              "0                 топ   f     1       зима       серый   1305\n",
              "3               блуза   f     1       зима     красный    767\n",
              "7    туфли с каблуком   f     3  демисезон     красный   2594\n",
              "11   туфли с каблуком   f     3       лето     красный   2594\n",
              "15          босоножки   f     3       лето       белый   4519\n",
              "29               юбка   f     4       зима  коричневый   3988\n",
              "31             платье   f     4       зима     голубой   4791\n",
              "42             платок   f     7       зима  персиковый   1010\n",
              "58                топ   f     1       лето       серый   1305\n",
              "61              блуза   f     1       лето     красный    767\n",
              "65                топ   f     1  демисезон       серый   1305\n",
              "68              блуза   f     1  демисезон     красный    767\n",
              "81               юбка   f     4  демисезон  коричневый   3988\n",
              "83             платье   f     4  демисезон     голубой   4791\n",
              "99               юбка   f     4       лето  коричневый   3988\n",
              "101            платье   f     4       лето     голубой   4791"
            ]
          },
          "metadata": {},
          "execution_count": 37
        }
      ]
    },
    {
      "cell_type": "markdown",
      "metadata": {
        "id": "VlCOLpx-5ogG"
      },
      "source": [
        "Больше"
      ]
    },
    {
      "cell_type": "code",
      "metadata": {
        "colab": {
          "base_uri": "https://localhost:8080/",
          "height": 325
        },
        "id": "Fqpba0xw5ke1",
        "outputId": "a39db64b-957a-41b4-8e97-3d91b06775a1"
      },
      "source": [
        "df.loc[df.price > 10000]"
      ],
      "execution_count": null,
      "outputs": [
        {
          "output_type": "execute_result",
          "data": {
            "text/html": [
              "<div>\n",
              "<style scoped>\n",
              "    .dataframe tbody tr th:only-of-type {\n",
              "        vertical-align: middle;\n",
              "    }\n",
              "\n",
              "    .dataframe tbody tr th {\n",
              "        vertical-align: top;\n",
              "    }\n",
              "\n",
              "    .dataframe thead th {\n",
              "        text-align: right;\n",
              "    }\n",
              "</style>\n",
              "<table border=\"1\" class=\"dataframe\">\n",
              "  <thead>\n",
              "    <tr style=\"text-align: right;\">\n",
              "      <th></th>\n",
              "      <th>clothes</th>\n",
              "      <th>sex</th>\n",
              "      <th>part</th>\n",
              "      <th>season</th>\n",
              "      <th>color</th>\n",
              "      <th>price</th>\n",
              "    </tr>\n",
              "  </thead>\n",
              "  <tbody>\n",
              "    <tr>\n",
              "      <th>50</th>\n",
              "      <td>тренч</td>\n",
              "      <td>u</td>\n",
              "      <td>8</td>\n",
              "      <td>лето</td>\n",
              "      <td>синий</td>\n",
              "      <td>14330</td>\n",
              "    </tr>\n",
              "    <tr>\n",
              "      <th>51</th>\n",
              "      <td>пуховик</td>\n",
              "      <td>u</td>\n",
              "      <td>8</td>\n",
              "      <td>зима</td>\n",
              "      <td>голубой</td>\n",
              "      <td>13609</td>\n",
              "    </tr>\n",
              "    <tr>\n",
              "      <th>53</th>\n",
              "      <td>бомбер</td>\n",
              "      <td>u</td>\n",
              "      <td>8</td>\n",
              "      <td>демисезон</td>\n",
              "      <td>голубой</td>\n",
              "      <td>10056</td>\n",
              "    </tr>\n",
              "    <tr>\n",
              "      <th>54</th>\n",
              "      <td>шуба/дубленка</td>\n",
              "      <td>u</td>\n",
              "      <td>8</td>\n",
              "      <td>зима</td>\n",
              "      <td>горчичный</td>\n",
              "      <td>12462</td>\n",
              "    </tr>\n",
              "    <tr>\n",
              "      <th>55</th>\n",
              "      <td>бомбер</td>\n",
              "      <td>u</td>\n",
              "      <td>8</td>\n",
              "      <td>лето</td>\n",
              "      <td>голубой</td>\n",
              "      <td>10056</td>\n",
              "    </tr>\n",
              "    <tr>\n",
              "      <th>57</th>\n",
              "      <td>тренч</td>\n",
              "      <td>u</td>\n",
              "      <td>8</td>\n",
              "      <td>демисезон</td>\n",
              "      <td>синий</td>\n",
              "      <td>14330</td>\n",
              "    </tr>\n",
              "    <tr>\n",
              "      <th>111</th>\n",
              "      <td>жилет</td>\n",
              "      <td>u</td>\n",
              "      <td>8</td>\n",
              "      <td>зима</td>\n",
              "      <td>голубой</td>\n",
              "      <td>11916</td>\n",
              "    </tr>\n",
              "    <tr>\n",
              "      <th>112</th>\n",
              "      <td>жилет</td>\n",
              "      <td>u</td>\n",
              "      <td>8</td>\n",
              "      <td>демисезон</td>\n",
              "      <td>голубой</td>\n",
              "      <td>11916</td>\n",
              "    </tr>\n",
              "    <tr>\n",
              "      <th>113</th>\n",
              "      <td>жилет</td>\n",
              "      <td>u</td>\n",
              "      <td>8</td>\n",
              "      <td>лето</td>\n",
              "      <td>голубой</td>\n",
              "      <td>11916</td>\n",
              "    </tr>\n",
              "  </tbody>\n",
              "</table>\n",
              "</div>"
            ],
            "text/plain": [
              "           clothes sex  part     season      color  price\n",
              "50           тренч   u     8       лето      синий  14330\n",
              "51         пуховик   u     8       зима    голубой  13609\n",
              "53          бомбер   u     8  демисезон    голубой  10056\n",
              "54   шуба/дубленка   u     8       зима  горчичный  12462\n",
              "55          бомбер   u     8       лето    голубой  10056\n",
              "57           тренч   u     8  демисезон      синий  14330\n",
              "111          жилет   u     8       зима    голубой  11916\n",
              "112          жилет   u     8  демисезон    голубой  11916\n",
              "113          жилет   u     8       лето    голубой  11916"
            ]
          },
          "metadata": {},
          "execution_count": 38
        }
      ]
    },
    {
      "cell_type": "markdown",
      "metadata": {
        "id": "9aODibU75zCO"
      },
      "source": [
        "Меньше"
      ]
    },
    {
      "cell_type": "code",
      "metadata": {
        "colab": {
          "base_uri": "https://localhost:8080/",
          "height": 938
        },
        "id": "wDUJOj415wfr",
        "outputId": "adc1a8e4-05ad-44e7-b06c-895d9e55991f"
      },
      "source": [
        "df.loc[df.price < 1000]"
      ],
      "execution_count": null,
      "outputs": [
        {
          "output_type": "execute_result",
          "data": {
            "text/html": [
              "<div>\n",
              "<style scoped>\n",
              "    .dataframe tbody tr th:only-of-type {\n",
              "        vertical-align: middle;\n",
              "    }\n",
              "\n",
              "    .dataframe tbody tr th {\n",
              "        vertical-align: top;\n",
              "    }\n",
              "\n",
              "    .dataframe thead th {\n",
              "        text-align: right;\n",
              "    }\n",
              "</style>\n",
              "<table border=\"1\" class=\"dataframe\">\n",
              "  <thead>\n",
              "    <tr style=\"text-align: right;\">\n",
              "      <th></th>\n",
              "      <th>clothes</th>\n",
              "      <th>sex</th>\n",
              "      <th>part</th>\n",
              "      <th>season</th>\n",
              "      <th>color</th>\n",
              "      <th>price</th>\n",
              "    </tr>\n",
              "  </thead>\n",
              "  <tbody>\n",
              "    <tr>\n",
              "      <th>2</th>\n",
              "      <td>футболка</td>\n",
              "      <td>u</td>\n",
              "      <td>1</td>\n",
              "      <td>зима</td>\n",
              "      <td>голубой</td>\n",
              "      <td>715</td>\n",
              "    </tr>\n",
              "    <tr>\n",
              "      <th>3</th>\n",
              "      <td>блуза</td>\n",
              "      <td>f</td>\n",
              "      <td>1</td>\n",
              "      <td>зима</td>\n",
              "      <td>красный</td>\n",
              "      <td>767</td>\n",
              "    </tr>\n",
              "    <tr>\n",
              "      <th>47</th>\n",
              "      <td>перчатки</td>\n",
              "      <td>u</td>\n",
              "      <td>10</td>\n",
              "      <td>зима</td>\n",
              "      <td>синий</td>\n",
              "      <td>900</td>\n",
              "    </tr>\n",
              "    <tr>\n",
              "      <th>48</th>\n",
              "      <td>лонгслив</td>\n",
              "      <td>u</td>\n",
              "      <td>1</td>\n",
              "      <td>зима</td>\n",
              "      <td>чёрный</td>\n",
              "      <td>967</td>\n",
              "    </tr>\n",
              "    <tr>\n",
              "      <th>60</th>\n",
              "      <td>футболка</td>\n",
              "      <td>u</td>\n",
              "      <td>1</td>\n",
              "      <td>лето</td>\n",
              "      <td>голубой</td>\n",
              "      <td>715</td>\n",
              "    </tr>\n",
              "    <tr>\n",
              "      <th>61</th>\n",
              "      <td>блуза</td>\n",
              "      <td>f</td>\n",
              "      <td>1</td>\n",
              "      <td>лето</td>\n",
              "      <td>красный</td>\n",
              "      <td>767</td>\n",
              "    </tr>\n",
              "    <tr>\n",
              "      <th>67</th>\n",
              "      <td>футболка</td>\n",
              "      <td>u</td>\n",
              "      <td>1</td>\n",
              "      <td>демисезон</td>\n",
              "      <td>голубой</td>\n",
              "      <td>715</td>\n",
              "    </tr>\n",
              "    <tr>\n",
              "      <th>68</th>\n",
              "      <td>блуза</td>\n",
              "      <td>f</td>\n",
              "      <td>1</td>\n",
              "      <td>демисезон</td>\n",
              "      <td>красный</td>\n",
              "      <td>767</td>\n",
              "    </tr>\n",
              "    <tr>\n",
              "      <th>114</th>\n",
              "      <td>без верхней утепленной части</td>\n",
              "      <td>u</td>\n",
              "      <td>2</td>\n",
              "      <td>зима</td>\n",
              "      <td>без цвета</td>\n",
              "      <td>0</td>\n",
              "    </tr>\n",
              "    <tr>\n",
              "      <th>115</th>\n",
              "      <td>без верхней утепленной части</td>\n",
              "      <td>u</td>\n",
              "      <td>2</td>\n",
              "      <td>демисезон</td>\n",
              "      <td>без цвета</td>\n",
              "      <td>0</td>\n",
              "    </tr>\n",
              "    <tr>\n",
              "      <th>116</th>\n",
              "      <td>без верхней утепленной части</td>\n",
              "      <td>u</td>\n",
              "      <td>2</td>\n",
              "      <td>лето</td>\n",
              "      <td>без цвета</td>\n",
              "      <td>0</td>\n",
              "    </tr>\n",
              "    <tr>\n",
              "      <th>117</th>\n",
              "      <td>без сумки</td>\n",
              "      <td>u</td>\n",
              "      <td>5</td>\n",
              "      <td>зима</td>\n",
              "      <td>без цвета</td>\n",
              "      <td>0</td>\n",
              "    </tr>\n",
              "    <tr>\n",
              "      <th>118</th>\n",
              "      <td>без сумки</td>\n",
              "      <td>u</td>\n",
              "      <td>5</td>\n",
              "      <td>демисезон</td>\n",
              "      <td>без цвета</td>\n",
              "      <td>0</td>\n",
              "    </tr>\n",
              "    <tr>\n",
              "      <th>119</th>\n",
              "      <td>без сумки</td>\n",
              "      <td>u</td>\n",
              "      <td>5</td>\n",
              "      <td>лето</td>\n",
              "      <td>без цвета</td>\n",
              "      <td>0</td>\n",
              "    </tr>\n",
              "    <tr>\n",
              "      <th>120</th>\n",
              "      <td>без очков</td>\n",
              "      <td>u</td>\n",
              "      <td>6</td>\n",
              "      <td>зима</td>\n",
              "      <td>без цвета</td>\n",
              "      <td>0</td>\n",
              "    </tr>\n",
              "    <tr>\n",
              "      <th>121</th>\n",
              "      <td>без очков</td>\n",
              "      <td>u</td>\n",
              "      <td>6</td>\n",
              "      <td>демисезон</td>\n",
              "      <td>без цвета</td>\n",
              "      <td>0</td>\n",
              "    </tr>\n",
              "    <tr>\n",
              "      <th>122</th>\n",
              "      <td>без очков</td>\n",
              "      <td>u</td>\n",
              "      <td>6</td>\n",
              "      <td>лето</td>\n",
              "      <td>без цвета</td>\n",
              "      <td>0</td>\n",
              "    </tr>\n",
              "    <tr>\n",
              "      <th>123</th>\n",
              "      <td>без головного убора</td>\n",
              "      <td>u</td>\n",
              "      <td>7</td>\n",
              "      <td>зима</td>\n",
              "      <td>без цвета</td>\n",
              "      <td>0</td>\n",
              "    </tr>\n",
              "    <tr>\n",
              "      <th>124</th>\n",
              "      <td>без головного убора</td>\n",
              "      <td>u</td>\n",
              "      <td>7</td>\n",
              "      <td>демисезон</td>\n",
              "      <td>без цвета</td>\n",
              "      <td>0</td>\n",
              "    </tr>\n",
              "    <tr>\n",
              "      <th>125</th>\n",
              "      <td>без головного убора</td>\n",
              "      <td>u</td>\n",
              "      <td>7</td>\n",
              "      <td>лето</td>\n",
              "      <td>без цвета</td>\n",
              "      <td>0</td>\n",
              "    </tr>\n",
              "    <tr>\n",
              "      <th>126</th>\n",
              "      <td>без верхней одежды</td>\n",
              "      <td>u</td>\n",
              "      <td>8</td>\n",
              "      <td>зима</td>\n",
              "      <td>без цвета</td>\n",
              "      <td>0</td>\n",
              "    </tr>\n",
              "    <tr>\n",
              "      <th>127</th>\n",
              "      <td>без верхней одежды</td>\n",
              "      <td>u</td>\n",
              "      <td>8</td>\n",
              "      <td>демисезон</td>\n",
              "      <td>без цвета</td>\n",
              "      <td>0</td>\n",
              "    </tr>\n",
              "    <tr>\n",
              "      <th>128</th>\n",
              "      <td>без верхней одежды</td>\n",
              "      <td>u</td>\n",
              "      <td>8</td>\n",
              "      <td>лето</td>\n",
              "      <td>без цвета</td>\n",
              "      <td>0</td>\n",
              "    </tr>\n",
              "    <tr>\n",
              "      <th>129</th>\n",
              "      <td>без аксессуара на шею</td>\n",
              "      <td>u</td>\n",
              "      <td>9</td>\n",
              "      <td>зима</td>\n",
              "      <td>без цвета</td>\n",
              "      <td>0</td>\n",
              "    </tr>\n",
              "    <tr>\n",
              "      <th>130</th>\n",
              "      <td>без аксессуара на шею</td>\n",
              "      <td>u</td>\n",
              "      <td>9</td>\n",
              "      <td>демисезон</td>\n",
              "      <td>без цвета</td>\n",
              "      <td>0</td>\n",
              "    </tr>\n",
              "    <tr>\n",
              "      <th>131</th>\n",
              "      <td>без аксессуара на шею</td>\n",
              "      <td>u</td>\n",
              "      <td>9</td>\n",
              "      <td>лето</td>\n",
              "      <td>без цвета</td>\n",
              "      <td>0</td>\n",
              "    </tr>\n",
              "    <tr>\n",
              "      <th>132</th>\n",
              "      <td>без перчаток</td>\n",
              "      <td>u</td>\n",
              "      <td>10</td>\n",
              "      <td>зима</td>\n",
              "      <td>без цвета</td>\n",
              "      <td>0</td>\n",
              "    </tr>\n",
              "    <tr>\n",
              "      <th>133</th>\n",
              "      <td>без перчаток</td>\n",
              "      <td>u</td>\n",
              "      <td>10</td>\n",
              "      <td>демисезон</td>\n",
              "      <td>без цвета</td>\n",
              "      <td>0</td>\n",
              "    </tr>\n",
              "    <tr>\n",
              "      <th>134</th>\n",
              "      <td>без перчаток</td>\n",
              "      <td>u</td>\n",
              "      <td>10</td>\n",
              "      <td>лето</td>\n",
              "      <td>без цвета</td>\n",
              "      <td>0</td>\n",
              "    </tr>\n",
              "  </tbody>\n",
              "</table>\n",
              "</div>"
            ],
            "text/plain": [
              "                          clothes sex  part     season      color  price\n",
              "2                        футболка   u     1       зима    голубой    715\n",
              "3                           блуза   f     1       зима    красный    767\n",
              "47                       перчатки   u    10       зима      синий    900\n",
              "48                       лонгслив   u     1       зима     чёрный    967\n",
              "60                       футболка   u     1       лето    голубой    715\n",
              "61                          блуза   f     1       лето    красный    767\n",
              "67                       футболка   u     1  демисезон    голубой    715\n",
              "68                          блуза   f     1  демисезон    красный    767\n",
              "114  без верхней утепленной части   u     2       зима  без цвета      0\n",
              "115  без верхней утепленной части   u     2  демисезон  без цвета      0\n",
              "116  без верхней утепленной части   u     2       лето  без цвета      0\n",
              "117                     без сумки   u     5       зима  без цвета      0\n",
              "118                     без сумки   u     5  демисезон  без цвета      0\n",
              "119                     без сумки   u     5       лето  без цвета      0\n",
              "120                     без очков   u     6       зима  без цвета      0\n",
              "121                     без очков   u     6  демисезон  без цвета      0\n",
              "122                     без очков   u     6       лето  без цвета      0\n",
              "123           без головного убора   u     7       зима  без цвета      0\n",
              "124           без головного убора   u     7  демисезон  без цвета      0\n",
              "125           без головного убора   u     7       лето  без цвета      0\n",
              "126            без верхней одежды   u     8       зима  без цвета      0\n",
              "127            без верхней одежды   u     8  демисезон  без цвета      0\n",
              "128            без верхней одежды   u     8       лето  без цвета      0\n",
              "129         без аксессуара на шею   u     9       зима  без цвета      0\n",
              "130         без аксессуара на шею   u     9  демисезон  без цвета      0\n",
              "131         без аксессуара на шею   u     9       лето  без цвета      0\n",
              "132                  без перчаток   u    10       зима  без цвета      0\n",
              "133                  без перчаток   u    10  демисезон  без цвета      0\n",
              "134                  без перчаток   u    10       лето  без цвета      0"
            ]
          },
          "metadata": {},
          "execution_count": 40
        }
      ]
    },
    {
      "cell_type": "markdown",
      "metadata": {
        "id": "X9mTWVr76I-H"
      },
      "source": [
        "Входит в"
      ]
    },
    {
      "cell_type": "code",
      "metadata": {
        "colab": {
          "base_uri": "https://localhost:8080/",
          "height": 143
        },
        "id": "y7_qyxtq6EeA",
        "outputId": "13ef8aca-3866-4c27-8e64-bf9097736bf3"
      },
      "source": [
        "df.loc[df.color.isin(['красный ', 'чёрный'])]"
      ],
      "execution_count": null,
      "outputs": [
        {
          "output_type": "execute_result",
          "data": {
            "text/plain": [
              "     clothes sex  part     season   color  price clothes_en\n",
              "48  лонгслив   u     1       зима  чёрный    967   лонгслив\n",
              "52    пальто   u     8  демисезон  чёрный   5444     пальто\n",
              "56    пальто   u     8       лето  чёрный   5444     пальто"
            ],
            "text/html": [
              "\n",
              "  <div id=\"df-559c3147-a0dc-4de3-b70a-3c12c8ea416b\">\n",
              "    <div class=\"colab-df-container\">\n",
              "      <div>\n",
              "<style scoped>\n",
              "    .dataframe tbody tr th:only-of-type {\n",
              "        vertical-align: middle;\n",
              "    }\n",
              "\n",
              "    .dataframe tbody tr th {\n",
              "        vertical-align: top;\n",
              "    }\n",
              "\n",
              "    .dataframe thead th {\n",
              "        text-align: right;\n",
              "    }\n",
              "</style>\n",
              "<table border=\"1\" class=\"dataframe\">\n",
              "  <thead>\n",
              "    <tr style=\"text-align: right;\">\n",
              "      <th></th>\n",
              "      <th>clothes</th>\n",
              "      <th>sex</th>\n",
              "      <th>part</th>\n",
              "      <th>season</th>\n",
              "      <th>color</th>\n",
              "      <th>price</th>\n",
              "      <th>clothes_en</th>\n",
              "    </tr>\n",
              "  </thead>\n",
              "  <tbody>\n",
              "    <tr>\n",
              "      <th>48</th>\n",
              "      <td>лонгслив</td>\n",
              "      <td>u</td>\n",
              "      <td>1</td>\n",
              "      <td>зима</td>\n",
              "      <td>чёрный</td>\n",
              "      <td>967</td>\n",
              "      <td>лонгслив</td>\n",
              "    </tr>\n",
              "    <tr>\n",
              "      <th>52</th>\n",
              "      <td>пальто</td>\n",
              "      <td>u</td>\n",
              "      <td>8</td>\n",
              "      <td>демисезон</td>\n",
              "      <td>чёрный</td>\n",
              "      <td>5444</td>\n",
              "      <td>пальто</td>\n",
              "    </tr>\n",
              "    <tr>\n",
              "      <th>56</th>\n",
              "      <td>пальто</td>\n",
              "      <td>u</td>\n",
              "      <td>8</td>\n",
              "      <td>лето</td>\n",
              "      <td>чёрный</td>\n",
              "      <td>5444</td>\n",
              "      <td>пальто</td>\n",
              "    </tr>\n",
              "  </tbody>\n",
              "</table>\n",
              "</div>\n",
              "      <button class=\"colab-df-convert\" onclick=\"convertToInteractive('df-559c3147-a0dc-4de3-b70a-3c12c8ea416b')\"\n",
              "              title=\"Convert this dataframe to an interactive table.\"\n",
              "              style=\"display:none;\">\n",
              "        \n",
              "  <svg xmlns=\"http://www.w3.org/2000/svg\" height=\"24px\"viewBox=\"0 0 24 24\"\n",
              "       width=\"24px\">\n",
              "    <path d=\"M0 0h24v24H0V0z\" fill=\"none\"/>\n",
              "    <path d=\"M18.56 5.44l.94 2.06.94-2.06 2.06-.94-2.06-.94-.94-2.06-.94 2.06-2.06.94zm-11 1L8.5 8.5l.94-2.06 2.06-.94-2.06-.94L8.5 2.5l-.94 2.06-2.06.94zm10 10l.94 2.06.94-2.06 2.06-.94-2.06-.94-.94-2.06-.94 2.06-2.06.94z\"/><path d=\"M17.41 7.96l-1.37-1.37c-.4-.4-.92-.59-1.43-.59-.52 0-1.04.2-1.43.59L10.3 9.45l-7.72 7.72c-.78.78-.78 2.05 0 2.83L4 21.41c.39.39.9.59 1.41.59.51 0 1.02-.2 1.41-.59l7.78-7.78 2.81-2.81c.8-.78.8-2.07 0-2.86zM5.41 20L4 18.59l7.72-7.72 1.47 1.35L5.41 20z\"/>\n",
              "  </svg>\n",
              "      </button>\n",
              "      \n",
              "  <style>\n",
              "    .colab-df-container {\n",
              "      display:flex;\n",
              "      flex-wrap:wrap;\n",
              "      gap: 12px;\n",
              "    }\n",
              "\n",
              "    .colab-df-convert {\n",
              "      background-color: #E8F0FE;\n",
              "      border: none;\n",
              "      border-radius: 50%;\n",
              "      cursor: pointer;\n",
              "      display: none;\n",
              "      fill: #1967D2;\n",
              "      height: 32px;\n",
              "      padding: 0 0 0 0;\n",
              "      width: 32px;\n",
              "    }\n",
              "\n",
              "    .colab-df-convert:hover {\n",
              "      background-color: #E2EBFA;\n",
              "      box-shadow: 0px 1px 2px rgba(60, 64, 67, 0.3), 0px 1px 3px 1px rgba(60, 64, 67, 0.15);\n",
              "      fill: #174EA6;\n",
              "    }\n",
              "\n",
              "    [theme=dark] .colab-df-convert {\n",
              "      background-color: #3B4455;\n",
              "      fill: #D2E3FC;\n",
              "    }\n",
              "\n",
              "    [theme=dark] .colab-df-convert:hover {\n",
              "      background-color: #434B5C;\n",
              "      box-shadow: 0px 1px 3px 1px rgba(0, 0, 0, 0.15);\n",
              "      filter: drop-shadow(0px 1px 2px rgba(0, 0, 0, 0.3));\n",
              "      fill: #FFFFFF;\n",
              "    }\n",
              "  </style>\n",
              "\n",
              "      <script>\n",
              "        const buttonEl =\n",
              "          document.querySelector('#df-559c3147-a0dc-4de3-b70a-3c12c8ea416b button.colab-df-convert');\n",
              "        buttonEl.style.display =\n",
              "          google.colab.kernel.accessAllowed ? 'block' : 'none';\n",
              "\n",
              "        async function convertToInteractive(key) {\n",
              "          const element = document.querySelector('#df-559c3147-a0dc-4de3-b70a-3c12c8ea416b');\n",
              "          const dataTable =\n",
              "            await google.colab.kernel.invokeFunction('convertToInteractive',\n",
              "                                                     [key], {});\n",
              "          if (!dataTable) return;\n",
              "\n",
              "          const docLinkHtml = 'Like what you see? Visit the ' +\n",
              "            '<a target=\"_blank\" href=https://colab.research.google.com/notebooks/data_table.ipynb>data table notebook</a>'\n",
              "            + ' to learn more about interactive tables.';\n",
              "          element.innerHTML = '';\n",
              "          dataTable['output_type'] = 'display_data';\n",
              "          await google.colab.output.renderOutput(dataTable, element);\n",
              "          const docLink = document.createElement('div');\n",
              "          docLink.innerHTML = docLinkHtml;\n",
              "          element.appendChild(docLink);\n",
              "        }\n",
              "      </script>\n",
              "    </div>\n",
              "  </div>\n",
              "  "
            ]
          },
          "metadata": {},
          "execution_count": 33
        }
      ]
    },
    {
      "cell_type": "markdown",
      "metadata": {
        "id": "REWkQq517-T2"
      },
      "source": [
        "ИЛИ"
      ]
    },
    {
      "cell_type": "code",
      "metadata": {
        "colab": {
          "base_uri": "https://localhost:8080/",
          "height": 363
        },
        "id": "8ytYMevn7_V-",
        "outputId": "3344c5f2-c1fe-4556-c32f-36064a21dc31"
      },
      "source": [
        "colors = ['красный', 'чёрный']\n",
        "df.loc[df.color.isin(colors)]"
      ],
      "execution_count": null,
      "outputs": [
        {
          "output_type": "execute_result",
          "data": {
            "text/plain": [
              "             clothes sex  part     season    color  price        clothes_en\n",
              "3              блуза   f     1       зима  красный    767             блуза\n",
              "7   туфли с каблуком   f     3  демисезон  красный   2594  туфли с каблуком\n",
              "11  туфли с каблуком   f     3       лето  красный   2594  туфли с каблуком\n",
              "14          сандалии   u     3       лето  красный   2415          сандалии\n",
              "44              шарф   u     9       зима  красный   1012              шарф\n",
              "48          лонгслив   u     1       зима   чёрный    967          лонгслив\n",
              "52            пальто   u     8  демисезон   чёрный   5444            пальто\n",
              "56            пальто   u     8       лето   чёрный   5444            пальто\n",
              "61             блуза   f     1       лето  красный    767             блуза\n",
              "68             блуза   f     1  демисезон  красный    767             блуза"
            ],
            "text/html": [
              "\n",
              "  <div id=\"df-b5f30db8-d08c-4586-860b-edad435c2a70\">\n",
              "    <div class=\"colab-df-container\">\n",
              "      <div>\n",
              "<style scoped>\n",
              "    .dataframe tbody tr th:only-of-type {\n",
              "        vertical-align: middle;\n",
              "    }\n",
              "\n",
              "    .dataframe tbody tr th {\n",
              "        vertical-align: top;\n",
              "    }\n",
              "\n",
              "    .dataframe thead th {\n",
              "        text-align: right;\n",
              "    }\n",
              "</style>\n",
              "<table border=\"1\" class=\"dataframe\">\n",
              "  <thead>\n",
              "    <tr style=\"text-align: right;\">\n",
              "      <th></th>\n",
              "      <th>clothes</th>\n",
              "      <th>sex</th>\n",
              "      <th>part</th>\n",
              "      <th>season</th>\n",
              "      <th>color</th>\n",
              "      <th>price</th>\n",
              "      <th>clothes_en</th>\n",
              "    </tr>\n",
              "  </thead>\n",
              "  <tbody>\n",
              "    <tr>\n",
              "      <th>3</th>\n",
              "      <td>блуза</td>\n",
              "      <td>f</td>\n",
              "      <td>1</td>\n",
              "      <td>зима</td>\n",
              "      <td>красный</td>\n",
              "      <td>767</td>\n",
              "      <td>блуза</td>\n",
              "    </tr>\n",
              "    <tr>\n",
              "      <th>7</th>\n",
              "      <td>туфли с каблуком</td>\n",
              "      <td>f</td>\n",
              "      <td>3</td>\n",
              "      <td>демисезон</td>\n",
              "      <td>красный</td>\n",
              "      <td>2594</td>\n",
              "      <td>туфли с каблуком</td>\n",
              "    </tr>\n",
              "    <tr>\n",
              "      <th>11</th>\n",
              "      <td>туфли с каблуком</td>\n",
              "      <td>f</td>\n",
              "      <td>3</td>\n",
              "      <td>лето</td>\n",
              "      <td>красный</td>\n",
              "      <td>2594</td>\n",
              "      <td>туфли с каблуком</td>\n",
              "    </tr>\n",
              "    <tr>\n",
              "      <th>14</th>\n",
              "      <td>сандалии</td>\n",
              "      <td>u</td>\n",
              "      <td>3</td>\n",
              "      <td>лето</td>\n",
              "      <td>красный</td>\n",
              "      <td>2415</td>\n",
              "      <td>сандалии</td>\n",
              "    </tr>\n",
              "    <tr>\n",
              "      <th>44</th>\n",
              "      <td>шарф</td>\n",
              "      <td>u</td>\n",
              "      <td>9</td>\n",
              "      <td>зима</td>\n",
              "      <td>красный</td>\n",
              "      <td>1012</td>\n",
              "      <td>шарф</td>\n",
              "    </tr>\n",
              "    <tr>\n",
              "      <th>48</th>\n",
              "      <td>лонгслив</td>\n",
              "      <td>u</td>\n",
              "      <td>1</td>\n",
              "      <td>зима</td>\n",
              "      <td>чёрный</td>\n",
              "      <td>967</td>\n",
              "      <td>лонгслив</td>\n",
              "    </tr>\n",
              "    <tr>\n",
              "      <th>52</th>\n",
              "      <td>пальто</td>\n",
              "      <td>u</td>\n",
              "      <td>8</td>\n",
              "      <td>демисезон</td>\n",
              "      <td>чёрный</td>\n",
              "      <td>5444</td>\n",
              "      <td>пальто</td>\n",
              "    </tr>\n",
              "    <tr>\n",
              "      <th>56</th>\n",
              "      <td>пальто</td>\n",
              "      <td>u</td>\n",
              "      <td>8</td>\n",
              "      <td>лето</td>\n",
              "      <td>чёрный</td>\n",
              "      <td>5444</td>\n",
              "      <td>пальто</td>\n",
              "    </tr>\n",
              "    <tr>\n",
              "      <th>61</th>\n",
              "      <td>блуза</td>\n",
              "      <td>f</td>\n",
              "      <td>1</td>\n",
              "      <td>лето</td>\n",
              "      <td>красный</td>\n",
              "      <td>767</td>\n",
              "      <td>блуза</td>\n",
              "    </tr>\n",
              "    <tr>\n",
              "      <th>68</th>\n",
              "      <td>блуза</td>\n",
              "      <td>f</td>\n",
              "      <td>1</td>\n",
              "      <td>демисезон</td>\n",
              "      <td>красный</td>\n",
              "      <td>767</td>\n",
              "      <td>блуза</td>\n",
              "    </tr>\n",
              "  </tbody>\n",
              "</table>\n",
              "</div>\n",
              "      <button class=\"colab-df-convert\" onclick=\"convertToInteractive('df-b5f30db8-d08c-4586-860b-edad435c2a70')\"\n",
              "              title=\"Convert this dataframe to an interactive table.\"\n",
              "              style=\"display:none;\">\n",
              "        \n",
              "  <svg xmlns=\"http://www.w3.org/2000/svg\" height=\"24px\"viewBox=\"0 0 24 24\"\n",
              "       width=\"24px\">\n",
              "    <path d=\"M0 0h24v24H0V0z\" fill=\"none\"/>\n",
              "    <path d=\"M18.56 5.44l.94 2.06.94-2.06 2.06-.94-2.06-.94-.94-2.06-.94 2.06-2.06.94zm-11 1L8.5 8.5l.94-2.06 2.06-.94-2.06-.94L8.5 2.5l-.94 2.06-2.06.94zm10 10l.94 2.06.94-2.06 2.06-.94-2.06-.94-.94-2.06-.94 2.06-2.06.94z\"/><path d=\"M17.41 7.96l-1.37-1.37c-.4-.4-.92-.59-1.43-.59-.52 0-1.04.2-1.43.59L10.3 9.45l-7.72 7.72c-.78.78-.78 2.05 0 2.83L4 21.41c.39.39.9.59 1.41.59.51 0 1.02-.2 1.41-.59l7.78-7.78 2.81-2.81c.8-.78.8-2.07 0-2.86zM5.41 20L4 18.59l7.72-7.72 1.47 1.35L5.41 20z\"/>\n",
              "  </svg>\n",
              "      </button>\n",
              "      \n",
              "  <style>\n",
              "    .colab-df-container {\n",
              "      display:flex;\n",
              "      flex-wrap:wrap;\n",
              "      gap: 12px;\n",
              "    }\n",
              "\n",
              "    .colab-df-convert {\n",
              "      background-color: #E8F0FE;\n",
              "      border: none;\n",
              "      border-radius: 50%;\n",
              "      cursor: pointer;\n",
              "      display: none;\n",
              "      fill: #1967D2;\n",
              "      height: 32px;\n",
              "      padding: 0 0 0 0;\n",
              "      width: 32px;\n",
              "    }\n",
              "\n",
              "    .colab-df-convert:hover {\n",
              "      background-color: #E2EBFA;\n",
              "      box-shadow: 0px 1px 2px rgba(60, 64, 67, 0.3), 0px 1px 3px 1px rgba(60, 64, 67, 0.15);\n",
              "      fill: #174EA6;\n",
              "    }\n",
              "\n",
              "    [theme=dark] .colab-df-convert {\n",
              "      background-color: #3B4455;\n",
              "      fill: #D2E3FC;\n",
              "    }\n",
              "\n",
              "    [theme=dark] .colab-df-convert:hover {\n",
              "      background-color: #434B5C;\n",
              "      box-shadow: 0px 1px 3px 1px rgba(0, 0, 0, 0.15);\n",
              "      filter: drop-shadow(0px 1px 2px rgba(0, 0, 0, 0.3));\n",
              "      fill: #FFFFFF;\n",
              "    }\n",
              "  </style>\n",
              "\n",
              "      <script>\n",
              "        const buttonEl =\n",
              "          document.querySelector('#df-b5f30db8-d08c-4586-860b-edad435c2a70 button.colab-df-convert');\n",
              "        buttonEl.style.display =\n",
              "          google.colab.kernel.accessAllowed ? 'block' : 'none';\n",
              "\n",
              "        async function convertToInteractive(key) {\n",
              "          const element = document.querySelector('#df-b5f30db8-d08c-4586-860b-edad435c2a70');\n",
              "          const dataTable =\n",
              "            await google.colab.kernel.invokeFunction('convertToInteractive',\n",
              "                                                     [key], {});\n",
              "          if (!dataTable) return;\n",
              "\n",
              "          const docLinkHtml = 'Like what you see? Visit the ' +\n",
              "            '<a target=\"_blank\" href=https://colab.research.google.com/notebooks/data_table.ipynb>data table notebook</a>'\n",
              "            + ' to learn more about interactive tables.';\n",
              "          element.innerHTML = '';\n",
              "          dataTable['output_type'] = 'display_data';\n",
              "          await google.colab.output.renderOutput(dataTable, element);\n",
              "          const docLink = document.createElement('div');\n",
              "          docLink.innerHTML = docLinkHtml;\n",
              "          element.appendChild(docLink);\n",
              "        }\n",
              "      </script>\n",
              "    </div>\n",
              "  </div>\n",
              "  "
            ]
          },
          "metadata": {},
          "execution_count": 31
        }
      ]
    },
    {
      "cell_type": "markdown",
      "metadata": {
        "id": "7RMR3neb7Kgz"
      },
      "source": [
        "Нулевые значения"
      ]
    },
    {
      "cell_type": "code",
      "metadata": {
        "colab": {
          "base_uri": "https://localhost:8080/",
          "height": 49
        },
        "id": "-cVp--cK6Szk",
        "outputId": "2a2fc956-5e39-47ab-bc00-6ba377bc5fcd"
      },
      "source": [
        "df.loc[df.price.isna()]"
      ],
      "execution_count": null,
      "outputs": [
        {
          "output_type": "execute_result",
          "data": {
            "text/plain": [
              "Empty DataFrame\n",
              "Columns: [clothes, sex, part, season, color, price, clothes_en]\n",
              "Index: []"
            ],
            "text/html": [
              "\n",
              "  <div id=\"df-0fa9f876-f737-4f5d-99f0-5da3e3a1d0b5\">\n",
              "    <div class=\"colab-df-container\">\n",
              "      <div>\n",
              "<style scoped>\n",
              "    .dataframe tbody tr th:only-of-type {\n",
              "        vertical-align: middle;\n",
              "    }\n",
              "\n",
              "    .dataframe tbody tr th {\n",
              "        vertical-align: top;\n",
              "    }\n",
              "\n",
              "    .dataframe thead th {\n",
              "        text-align: right;\n",
              "    }\n",
              "</style>\n",
              "<table border=\"1\" class=\"dataframe\">\n",
              "  <thead>\n",
              "    <tr style=\"text-align: right;\">\n",
              "      <th></th>\n",
              "      <th>clothes</th>\n",
              "      <th>sex</th>\n",
              "      <th>part</th>\n",
              "      <th>season</th>\n",
              "      <th>color</th>\n",
              "      <th>price</th>\n",
              "      <th>clothes_en</th>\n",
              "    </tr>\n",
              "  </thead>\n",
              "  <tbody>\n",
              "  </tbody>\n",
              "</table>\n",
              "</div>\n",
              "      <button class=\"colab-df-convert\" onclick=\"convertToInteractive('df-0fa9f876-f737-4f5d-99f0-5da3e3a1d0b5')\"\n",
              "              title=\"Convert this dataframe to an interactive table.\"\n",
              "              style=\"display:none;\">\n",
              "        \n",
              "  <svg xmlns=\"http://www.w3.org/2000/svg\" height=\"24px\"viewBox=\"0 0 24 24\"\n",
              "       width=\"24px\">\n",
              "    <path d=\"M0 0h24v24H0V0z\" fill=\"none\"/>\n",
              "    <path d=\"M18.56 5.44l.94 2.06.94-2.06 2.06-.94-2.06-.94-.94-2.06-.94 2.06-2.06.94zm-11 1L8.5 8.5l.94-2.06 2.06-.94-2.06-.94L8.5 2.5l-.94 2.06-2.06.94zm10 10l.94 2.06.94-2.06 2.06-.94-2.06-.94-.94-2.06-.94 2.06-2.06.94z\"/><path d=\"M17.41 7.96l-1.37-1.37c-.4-.4-.92-.59-1.43-.59-.52 0-1.04.2-1.43.59L10.3 9.45l-7.72 7.72c-.78.78-.78 2.05 0 2.83L4 21.41c.39.39.9.59 1.41.59.51 0 1.02-.2 1.41-.59l7.78-7.78 2.81-2.81c.8-.78.8-2.07 0-2.86zM5.41 20L4 18.59l7.72-7.72 1.47 1.35L5.41 20z\"/>\n",
              "  </svg>\n",
              "      </button>\n",
              "      \n",
              "  <style>\n",
              "    .colab-df-container {\n",
              "      display:flex;\n",
              "      flex-wrap:wrap;\n",
              "      gap: 12px;\n",
              "    }\n",
              "\n",
              "    .colab-df-convert {\n",
              "      background-color: #E8F0FE;\n",
              "      border: none;\n",
              "      border-radius: 50%;\n",
              "      cursor: pointer;\n",
              "      display: none;\n",
              "      fill: #1967D2;\n",
              "      height: 32px;\n",
              "      padding: 0 0 0 0;\n",
              "      width: 32px;\n",
              "    }\n",
              "\n",
              "    .colab-df-convert:hover {\n",
              "      background-color: #E2EBFA;\n",
              "      box-shadow: 0px 1px 2px rgba(60, 64, 67, 0.3), 0px 1px 3px 1px rgba(60, 64, 67, 0.15);\n",
              "      fill: #174EA6;\n",
              "    }\n",
              "\n",
              "    [theme=dark] .colab-df-convert {\n",
              "      background-color: #3B4455;\n",
              "      fill: #D2E3FC;\n",
              "    }\n",
              "\n",
              "    [theme=dark] .colab-df-convert:hover {\n",
              "      background-color: #434B5C;\n",
              "      box-shadow: 0px 1px 3px 1px rgba(0, 0, 0, 0.15);\n",
              "      filter: drop-shadow(0px 1px 2px rgba(0, 0, 0, 0.3));\n",
              "      fill: #FFFFFF;\n",
              "    }\n",
              "  </style>\n",
              "\n",
              "      <script>\n",
              "        const buttonEl =\n",
              "          document.querySelector('#df-0fa9f876-f737-4f5d-99f0-5da3e3a1d0b5 button.colab-df-convert');\n",
              "        buttonEl.style.display =\n",
              "          google.colab.kernel.accessAllowed ? 'block' : 'none';\n",
              "\n",
              "        async function convertToInteractive(key) {\n",
              "          const element = document.querySelector('#df-0fa9f876-f737-4f5d-99f0-5da3e3a1d0b5');\n",
              "          const dataTable =\n",
              "            await google.colab.kernel.invokeFunction('convertToInteractive',\n",
              "                                                     [key], {});\n",
              "          if (!dataTable) return;\n",
              "\n",
              "          const docLinkHtml = 'Like what you see? Visit the ' +\n",
              "            '<a target=\"_blank\" href=https://colab.research.google.com/notebooks/data_table.ipynb>data table notebook</a>'\n",
              "            + ' to learn more about interactive tables.';\n",
              "          element.innerHTML = '';\n",
              "          dataTable['output_type'] = 'display_data';\n",
              "          await google.colab.output.renderOutput(dataTable, element);\n",
              "          const docLink = document.createElement('div');\n",
              "          docLink.innerHTML = docLinkHtml;\n",
              "          element.appendChild(docLink);\n",
              "        }\n",
              "      </script>\n",
              "    </div>\n",
              "  </div>\n",
              "  "
            ]
          },
          "metadata": {},
          "execution_count": 31
        }
      ]
    },
    {
      "cell_type": "code",
      "source": [
        "df.info()"
      ],
      "metadata": {
        "colab": {
          "base_uri": "https://localhost:8080/"
        },
        "id": "GE28rwQbhn3-",
        "outputId": "b8803389-ed52-412f-b2ce-3ee88a256e00"
      },
      "execution_count": null,
      "outputs": [
        {
          "output_type": "stream",
          "name": "stdout",
          "text": [
            "<class 'pandas.core.frame.DataFrame'>\n",
            "RangeIndex: 135 entries, 0 to 134\n",
            "Data columns (total 7 columns):\n",
            " #   Column      Non-Null Count  Dtype \n",
            "---  ------      --------------  ----- \n",
            " 0   clothes     135 non-null    object\n",
            " 1   sex         135 non-null    object\n",
            " 2   part        135 non-null    int64 \n",
            " 3   season      135 non-null    object\n",
            " 4   color       135 non-null    object\n",
            " 5   price       135 non-null    int64 \n",
            " 6   clothes_en  135 non-null    object\n",
            "dtypes: int64(2), object(5)\n",
            "memory usage: 7.5+ KB\n"
          ]
        }
      ]
    },
    {
      "cell_type": "markdown",
      "metadata": {
        "id": "5w9KkVPO7SYR"
      },
      "source": [
        "Таких нет :)"
      ]
    },
    {
      "cell_type": "markdown",
      "metadata": {
        "id": "mm74WyAQ7UlI"
      },
      "source": [
        "Отрицание применяем к последним двум проверкам: на вхождение и нулевые значения"
      ]
    },
    {
      "cell_type": "code",
      "metadata": {
        "colab": {
          "base_uri": "https://localhost:8080/",
          "height": 269
        },
        "id": "wQSyp4Qz7kBZ",
        "outputId": "c8253c03-26fe-4a37-b2e3-ef18e600fbcd"
      },
      "source": [
        "df.loc[ (~df.color.isin(['красный', 'чёрный', 'голубой', 'серый', 'белый', 'без цвета']))]"
      ],
      "execution_count": null,
      "outputs": [
        {
          "output_type": "execute_result",
          "data": {
            "text/plain": [
              "                color\n",
              "4    оливкого-зелёный\n",
              "5           салатовый\n",
              "8               синий\n",
              "12          горчичный\n",
              "16         коричневый\n",
              "25         персиковый\n",
              "108        фиолетовый"
            ],
            "text/html": [
              "\n",
              "  <div id=\"df-a5c81085-2331-4749-8397-876331dcd289\">\n",
              "    <div class=\"colab-df-container\">\n",
              "      <div>\n",
              "<style scoped>\n",
              "    .dataframe tbody tr th:only-of-type {\n",
              "        vertical-align: middle;\n",
              "    }\n",
              "\n",
              "    .dataframe tbody tr th {\n",
              "        vertical-align: top;\n",
              "    }\n",
              "\n",
              "    .dataframe thead th {\n",
              "        text-align: right;\n",
              "    }\n",
              "</style>\n",
              "<table border=\"1\" class=\"dataframe\">\n",
              "  <thead>\n",
              "    <tr style=\"text-align: right;\">\n",
              "      <th></th>\n",
              "      <th>color</th>\n",
              "    </tr>\n",
              "  </thead>\n",
              "  <tbody>\n",
              "    <tr>\n",
              "      <th>4</th>\n",
              "      <td>оливкого-зелёный</td>\n",
              "    </tr>\n",
              "    <tr>\n",
              "      <th>5</th>\n",
              "      <td>салатовый</td>\n",
              "    </tr>\n",
              "    <tr>\n",
              "      <th>8</th>\n",
              "      <td>синий</td>\n",
              "    </tr>\n",
              "    <tr>\n",
              "      <th>12</th>\n",
              "      <td>горчичный</td>\n",
              "    </tr>\n",
              "    <tr>\n",
              "      <th>16</th>\n",
              "      <td>коричневый</td>\n",
              "    </tr>\n",
              "    <tr>\n",
              "      <th>25</th>\n",
              "      <td>персиковый</td>\n",
              "    </tr>\n",
              "    <tr>\n",
              "      <th>108</th>\n",
              "      <td>фиолетовый</td>\n",
              "    </tr>\n",
              "  </tbody>\n",
              "</table>\n",
              "</div>\n",
              "      <button class=\"colab-df-convert\" onclick=\"convertToInteractive('df-a5c81085-2331-4749-8397-876331dcd289')\"\n",
              "              title=\"Convert this dataframe to an interactive table.\"\n",
              "              style=\"display:none;\">\n",
              "        \n",
              "  <svg xmlns=\"http://www.w3.org/2000/svg\" height=\"24px\"viewBox=\"0 0 24 24\"\n",
              "       width=\"24px\">\n",
              "    <path d=\"M0 0h24v24H0V0z\" fill=\"none\"/>\n",
              "    <path d=\"M18.56 5.44l.94 2.06.94-2.06 2.06-.94-2.06-.94-.94-2.06-.94 2.06-2.06.94zm-11 1L8.5 8.5l.94-2.06 2.06-.94-2.06-.94L8.5 2.5l-.94 2.06-2.06.94zm10 10l.94 2.06.94-2.06 2.06-.94-2.06-.94-.94-2.06-.94 2.06-2.06.94z\"/><path d=\"M17.41 7.96l-1.37-1.37c-.4-.4-.92-.59-1.43-.59-.52 0-1.04.2-1.43.59L10.3 9.45l-7.72 7.72c-.78.78-.78 2.05 0 2.83L4 21.41c.39.39.9.59 1.41.59.51 0 1.02-.2 1.41-.59l7.78-7.78 2.81-2.81c.8-.78.8-2.07 0-2.86zM5.41 20L4 18.59l7.72-7.72 1.47 1.35L5.41 20z\"/>\n",
              "  </svg>\n",
              "      </button>\n",
              "      \n",
              "  <style>\n",
              "    .colab-df-container {\n",
              "      display:flex;\n",
              "      flex-wrap:wrap;\n",
              "      gap: 12px;\n",
              "    }\n",
              "\n",
              "    .colab-df-convert {\n",
              "      background-color: #E8F0FE;\n",
              "      border: none;\n",
              "      border-radius: 50%;\n",
              "      cursor: pointer;\n",
              "      display: none;\n",
              "      fill: #1967D2;\n",
              "      height: 32px;\n",
              "      padding: 0 0 0 0;\n",
              "      width: 32px;\n",
              "    }\n",
              "\n",
              "    .colab-df-convert:hover {\n",
              "      background-color: #E2EBFA;\n",
              "      box-shadow: 0px 1px 2px rgba(60, 64, 67, 0.3), 0px 1px 3px 1px rgba(60, 64, 67, 0.15);\n",
              "      fill: #174EA6;\n",
              "    }\n",
              "\n",
              "    [theme=dark] .colab-df-convert {\n",
              "      background-color: #3B4455;\n",
              "      fill: #D2E3FC;\n",
              "    }\n",
              "\n",
              "    [theme=dark] .colab-df-convert:hover {\n",
              "      background-color: #434B5C;\n",
              "      box-shadow: 0px 1px 3px 1px rgba(0, 0, 0, 0.15);\n",
              "      filter: drop-shadow(0px 1px 2px rgba(0, 0, 0, 0.3));\n",
              "      fill: #FFFFFF;\n",
              "    }\n",
              "  </style>\n",
              "\n",
              "      <script>\n",
              "        const buttonEl =\n",
              "          document.querySelector('#df-a5c81085-2331-4749-8397-876331dcd289 button.colab-df-convert');\n",
              "        buttonEl.style.display =\n",
              "          google.colab.kernel.accessAllowed ? 'block' : 'none';\n",
              "\n",
              "        async function convertToInteractive(key) {\n",
              "          const element = document.querySelector('#df-a5c81085-2331-4749-8397-876331dcd289');\n",
              "          const dataTable =\n",
              "            await google.colab.kernel.invokeFunction('convertToInteractive',\n",
              "                                                     [key], {});\n",
              "          if (!dataTable) return;\n",
              "\n",
              "          const docLinkHtml = 'Like what you see? Visit the ' +\n",
              "            '<a target=\"_blank\" href=https://colab.research.google.com/notebooks/data_table.ipynb>data table notebook</a>'\n",
              "            + ' to learn more about interactive tables.';\n",
              "          element.innerHTML = '';\n",
              "          dataTable['output_type'] = 'display_data';\n",
              "          await google.colab.output.renderOutput(dataTable, element);\n",
              "          const docLink = document.createElement('div');\n",
              "          docLink.innerHTML = docLinkHtml;\n",
              "          element.appendChild(docLink);\n",
              "        }\n",
              "      </script>\n",
              "    </div>\n",
              "  </div>\n",
              "  "
            ]
          },
          "metadata": {},
          "execution_count": 39
        }
      ]
    },
    {
      "cell_type": "code",
      "metadata": {
        "colab": {
          "base_uri": "https://localhost:8080/",
          "height": 415
        },
        "id": "KxDxCt747Tkz",
        "outputId": "0a7476a8-aa99-470b-e8b4-f140217ee290"
      },
      "source": [
        "df.loc[~df.price.isna()]"
      ],
      "execution_count": null,
      "outputs": [
        {
          "output_type": "execute_result",
          "data": {
            "text/html": [
              "<div>\n",
              "<style scoped>\n",
              "    .dataframe tbody tr th:only-of-type {\n",
              "        vertical-align: middle;\n",
              "    }\n",
              "\n",
              "    .dataframe tbody tr th {\n",
              "        vertical-align: top;\n",
              "    }\n",
              "\n",
              "    .dataframe thead th {\n",
              "        text-align: right;\n",
              "    }\n",
              "</style>\n",
              "<table border=\"1\" class=\"dataframe\">\n",
              "  <thead>\n",
              "    <tr style=\"text-align: right;\">\n",
              "      <th></th>\n",
              "      <th>clothes</th>\n",
              "      <th>sex</th>\n",
              "      <th>part</th>\n",
              "      <th>season</th>\n",
              "      <th>color</th>\n",
              "      <th>price</th>\n",
              "    </tr>\n",
              "  </thead>\n",
              "  <tbody>\n",
              "    <tr>\n",
              "      <th>0</th>\n",
              "      <td>топ</td>\n",
              "      <td>f</td>\n",
              "      <td>1</td>\n",
              "      <td>зима</td>\n",
              "      <td>серый</td>\n",
              "      <td>1305</td>\n",
              "    </tr>\n",
              "    <tr>\n",
              "      <th>1</th>\n",
              "      <td>рубашка</td>\n",
              "      <td>u</td>\n",
              "      <td>1</td>\n",
              "      <td>зима</td>\n",
              "      <td>серый</td>\n",
              "      <td>1969</td>\n",
              "    </tr>\n",
              "    <tr>\n",
              "      <th>2</th>\n",
              "      <td>футболка</td>\n",
              "      <td>u</td>\n",
              "      <td>1</td>\n",
              "      <td>зима</td>\n",
              "      <td>голубой</td>\n",
              "      <td>715</td>\n",
              "    </tr>\n",
              "    <tr>\n",
              "      <th>3</th>\n",
              "      <td>блуза</td>\n",
              "      <td>f</td>\n",
              "      <td>1</td>\n",
              "      <td>зима</td>\n",
              "      <td>красный</td>\n",
              "      <td>767</td>\n",
              "    </tr>\n",
              "    <tr>\n",
              "      <th>4</th>\n",
              "      <td>водолазка</td>\n",
              "      <td>u</td>\n",
              "      <td>1</td>\n",
              "      <td>зима</td>\n",
              "      <td>оливкого-зелёный</td>\n",
              "      <td>1379</td>\n",
              "    </tr>\n",
              "    <tr>\n",
              "      <th>...</th>\n",
              "      <td>...</td>\n",
              "      <td>...</td>\n",
              "      <td>...</td>\n",
              "      <td>...</td>\n",
              "      <td>...</td>\n",
              "      <td>...</td>\n",
              "    </tr>\n",
              "    <tr>\n",
              "      <th>130</th>\n",
              "      <td>без аксессуара на шею</td>\n",
              "      <td>u</td>\n",
              "      <td>9</td>\n",
              "      <td>демисезон</td>\n",
              "      <td>без цвета</td>\n",
              "      <td>0</td>\n",
              "    </tr>\n",
              "    <tr>\n",
              "      <th>131</th>\n",
              "      <td>без аксессуара на шею</td>\n",
              "      <td>u</td>\n",
              "      <td>9</td>\n",
              "      <td>лето</td>\n",
              "      <td>без цвета</td>\n",
              "      <td>0</td>\n",
              "    </tr>\n",
              "    <tr>\n",
              "      <th>132</th>\n",
              "      <td>без перчаток</td>\n",
              "      <td>u</td>\n",
              "      <td>10</td>\n",
              "      <td>зима</td>\n",
              "      <td>без цвета</td>\n",
              "      <td>0</td>\n",
              "    </tr>\n",
              "    <tr>\n",
              "      <th>133</th>\n",
              "      <td>без перчаток</td>\n",
              "      <td>u</td>\n",
              "      <td>10</td>\n",
              "      <td>демисезон</td>\n",
              "      <td>без цвета</td>\n",
              "      <td>0</td>\n",
              "    </tr>\n",
              "    <tr>\n",
              "      <th>134</th>\n",
              "      <td>без перчаток</td>\n",
              "      <td>u</td>\n",
              "      <td>10</td>\n",
              "      <td>лето</td>\n",
              "      <td>без цвета</td>\n",
              "      <td>0</td>\n",
              "    </tr>\n",
              "  </tbody>\n",
              "</table>\n",
              "<p>135 rows × 6 columns</p>\n",
              "</div>"
            ],
            "text/plain": [
              "                   clothes sex  part     season             color  price\n",
              "0                      топ   f     1       зима             серый   1305\n",
              "1                  рубашка   u     1       зима             серый   1969\n",
              "2                 футболка   u     1       зима           голубой    715\n",
              "3                    блуза   f     1       зима           красный    767\n",
              "4                водолазка   u     1       зима  оливкого-зелёный   1379\n",
              "..                     ...  ..   ...        ...               ...    ...\n",
              "130  без аксессуара на шею   u     9  демисезон         без цвета      0\n",
              "131  без аксессуара на шею   u     9       лето         без цвета      0\n",
              "132           без перчаток   u    10       зима         без цвета      0\n",
              "133           без перчаток   u    10  демисезон         без цвета      0\n",
              "134           без перчаток   u    10       лето         без цвета      0\n",
              "\n",
              "[135 rows x 6 columns]"
            ]
          },
          "metadata": {},
          "execution_count": 49
        }
      ]
    },
    {
      "cell_type": "code",
      "source": [
        "df.loc[df.clothes.astype(int).str.contains('без')]"
      ],
      "metadata": {
        "colab": {
          "base_uri": "https://localhost:8080/",
          "height": 771
        },
        "id": "IhrDvZa-M5gI",
        "outputId": "aa6dea9d-368c-4711-b1ab-655048063255"
      },
      "execution_count": null,
      "outputs": [
        {
          "output_type": "execute_result",
          "data": {
            "text/plain": [
              "                          clothes sex  part     season      color  price  \\\n",
              "12              туфли без каблука   u     3       лето  горчичный   2868   \n",
              "13              туфли без каблука   u     3  демисезон  горчичный   2868   \n",
              "114  без верхней утепленной части   u     2       зима  без цвета      0   \n",
              "115  без верхней утепленной части   u     2  демисезон  без цвета      0   \n",
              "116  без верхней утепленной части   u     2       лето  без цвета      0   \n",
              "117                     без сумки   u     5       зима  без цвета      0   \n",
              "118                     без сумки   u     5  демисезон  без цвета      0   \n",
              "119                     без сумки   u     5       лето  без цвета      0   \n",
              "120                     без очков   u     6       зима  без цвета      0   \n",
              "121                     без очков   u     6  демисезон  без цвета      0   \n",
              "122                     без очков   u     6       лето  без цвета      0   \n",
              "123           без головного убора   u     7       зима  без цвета      0   \n",
              "124           без головного убора   u     7  демисезон  без цвета      0   \n",
              "125           без головного убора   u     7       лето  без цвета      0   \n",
              "126            без верхней одежды   u     8       зима  без цвета      0   \n",
              "127            без верхней одежды   u     8  демисезон  без цвета      0   \n",
              "128            без верхней одежды   u     8       лето  без цвета      0   \n",
              "129         без аксессуара на шею   u     9       зима  без цвета      0   \n",
              "130         без аксессуара на шею   u     9  демисезон  без цвета      0   \n",
              "131         без аксессуара на шею   u     9       лето  без цвета      0   \n",
              "132                  без перчаток   u    10       зима  без цвета      0   \n",
              "133                  без перчаток   u    10  демисезон  без цвета      0   \n",
              "134                  без перчаток   u    10       лето  без цвета      0   \n",
              "\n",
              "                       clothes_en  \n",
              "12              туфли без каблука  \n",
              "13              туфли без каблука  \n",
              "114  без верхней утепленной части  \n",
              "115  без верхней утепленной части  \n",
              "116  без верхней утепленной части  \n",
              "117                     без сумки  \n",
              "118                     без сумки  \n",
              "119                     без сумки  \n",
              "120                     без очков  \n",
              "121                     без очков  \n",
              "122                     без очков  \n",
              "123           без головного убора  \n",
              "124           без головного убора  \n",
              "125           без головного убора  \n",
              "126            без верхней одежды  \n",
              "127            без верхней одежды  \n",
              "128            без верхней одежды  \n",
              "129         без аксессуара на шею  \n",
              "130         без аксессуара на шею  \n",
              "131         без аксессуара на шею  \n",
              "132                  без перчаток  \n",
              "133                  без перчаток  \n",
              "134                  без перчаток  "
            ],
            "text/html": [
              "\n",
              "  <div id=\"df-9fafe546-20dc-4da9-b1b2-dcf3ed065bd3\">\n",
              "    <div class=\"colab-df-container\">\n",
              "      <div>\n",
              "<style scoped>\n",
              "    .dataframe tbody tr th:only-of-type {\n",
              "        vertical-align: middle;\n",
              "    }\n",
              "\n",
              "    .dataframe tbody tr th {\n",
              "        vertical-align: top;\n",
              "    }\n",
              "\n",
              "    .dataframe thead th {\n",
              "        text-align: right;\n",
              "    }\n",
              "</style>\n",
              "<table border=\"1\" class=\"dataframe\">\n",
              "  <thead>\n",
              "    <tr style=\"text-align: right;\">\n",
              "      <th></th>\n",
              "      <th>clothes</th>\n",
              "      <th>sex</th>\n",
              "      <th>part</th>\n",
              "      <th>season</th>\n",
              "      <th>color</th>\n",
              "      <th>price</th>\n",
              "      <th>clothes_en</th>\n",
              "    </tr>\n",
              "  </thead>\n",
              "  <tbody>\n",
              "    <tr>\n",
              "      <th>12</th>\n",
              "      <td>туфли без каблука</td>\n",
              "      <td>u</td>\n",
              "      <td>3</td>\n",
              "      <td>лето</td>\n",
              "      <td>горчичный</td>\n",
              "      <td>2868</td>\n",
              "      <td>туфли без каблука</td>\n",
              "    </tr>\n",
              "    <tr>\n",
              "      <th>13</th>\n",
              "      <td>туфли без каблука</td>\n",
              "      <td>u</td>\n",
              "      <td>3</td>\n",
              "      <td>демисезон</td>\n",
              "      <td>горчичный</td>\n",
              "      <td>2868</td>\n",
              "      <td>туфли без каблука</td>\n",
              "    </tr>\n",
              "    <tr>\n",
              "      <th>114</th>\n",
              "      <td>без верхней утепленной части</td>\n",
              "      <td>u</td>\n",
              "      <td>2</td>\n",
              "      <td>зима</td>\n",
              "      <td>без цвета</td>\n",
              "      <td>0</td>\n",
              "      <td>без верхней утепленной части</td>\n",
              "    </tr>\n",
              "    <tr>\n",
              "      <th>115</th>\n",
              "      <td>без верхней утепленной части</td>\n",
              "      <td>u</td>\n",
              "      <td>2</td>\n",
              "      <td>демисезон</td>\n",
              "      <td>без цвета</td>\n",
              "      <td>0</td>\n",
              "      <td>без верхней утепленной части</td>\n",
              "    </tr>\n",
              "    <tr>\n",
              "      <th>116</th>\n",
              "      <td>без верхней утепленной части</td>\n",
              "      <td>u</td>\n",
              "      <td>2</td>\n",
              "      <td>лето</td>\n",
              "      <td>без цвета</td>\n",
              "      <td>0</td>\n",
              "      <td>без верхней утепленной части</td>\n",
              "    </tr>\n",
              "    <tr>\n",
              "      <th>117</th>\n",
              "      <td>без сумки</td>\n",
              "      <td>u</td>\n",
              "      <td>5</td>\n",
              "      <td>зима</td>\n",
              "      <td>без цвета</td>\n",
              "      <td>0</td>\n",
              "      <td>без сумки</td>\n",
              "    </tr>\n",
              "    <tr>\n",
              "      <th>118</th>\n",
              "      <td>без сумки</td>\n",
              "      <td>u</td>\n",
              "      <td>5</td>\n",
              "      <td>демисезон</td>\n",
              "      <td>без цвета</td>\n",
              "      <td>0</td>\n",
              "      <td>без сумки</td>\n",
              "    </tr>\n",
              "    <tr>\n",
              "      <th>119</th>\n",
              "      <td>без сумки</td>\n",
              "      <td>u</td>\n",
              "      <td>5</td>\n",
              "      <td>лето</td>\n",
              "      <td>без цвета</td>\n",
              "      <td>0</td>\n",
              "      <td>без сумки</td>\n",
              "    </tr>\n",
              "    <tr>\n",
              "      <th>120</th>\n",
              "      <td>без очков</td>\n",
              "      <td>u</td>\n",
              "      <td>6</td>\n",
              "      <td>зима</td>\n",
              "      <td>без цвета</td>\n",
              "      <td>0</td>\n",
              "      <td>без очков</td>\n",
              "    </tr>\n",
              "    <tr>\n",
              "      <th>121</th>\n",
              "      <td>без очков</td>\n",
              "      <td>u</td>\n",
              "      <td>6</td>\n",
              "      <td>демисезон</td>\n",
              "      <td>без цвета</td>\n",
              "      <td>0</td>\n",
              "      <td>без очков</td>\n",
              "    </tr>\n",
              "    <tr>\n",
              "      <th>122</th>\n",
              "      <td>без очков</td>\n",
              "      <td>u</td>\n",
              "      <td>6</td>\n",
              "      <td>лето</td>\n",
              "      <td>без цвета</td>\n",
              "      <td>0</td>\n",
              "      <td>без очков</td>\n",
              "    </tr>\n",
              "    <tr>\n",
              "      <th>123</th>\n",
              "      <td>без головного убора</td>\n",
              "      <td>u</td>\n",
              "      <td>7</td>\n",
              "      <td>зима</td>\n",
              "      <td>без цвета</td>\n",
              "      <td>0</td>\n",
              "      <td>без головного убора</td>\n",
              "    </tr>\n",
              "    <tr>\n",
              "      <th>124</th>\n",
              "      <td>без головного убора</td>\n",
              "      <td>u</td>\n",
              "      <td>7</td>\n",
              "      <td>демисезон</td>\n",
              "      <td>без цвета</td>\n",
              "      <td>0</td>\n",
              "      <td>без головного убора</td>\n",
              "    </tr>\n",
              "    <tr>\n",
              "      <th>125</th>\n",
              "      <td>без головного убора</td>\n",
              "      <td>u</td>\n",
              "      <td>7</td>\n",
              "      <td>лето</td>\n",
              "      <td>без цвета</td>\n",
              "      <td>0</td>\n",
              "      <td>без головного убора</td>\n",
              "    </tr>\n",
              "    <tr>\n",
              "      <th>126</th>\n",
              "      <td>без верхней одежды</td>\n",
              "      <td>u</td>\n",
              "      <td>8</td>\n",
              "      <td>зима</td>\n",
              "      <td>без цвета</td>\n",
              "      <td>0</td>\n",
              "      <td>без верхней одежды</td>\n",
              "    </tr>\n",
              "    <tr>\n",
              "      <th>127</th>\n",
              "      <td>без верхней одежды</td>\n",
              "      <td>u</td>\n",
              "      <td>8</td>\n",
              "      <td>демисезон</td>\n",
              "      <td>без цвета</td>\n",
              "      <td>0</td>\n",
              "      <td>без верхней одежды</td>\n",
              "    </tr>\n",
              "    <tr>\n",
              "      <th>128</th>\n",
              "      <td>без верхней одежды</td>\n",
              "      <td>u</td>\n",
              "      <td>8</td>\n",
              "      <td>лето</td>\n",
              "      <td>без цвета</td>\n",
              "      <td>0</td>\n",
              "      <td>без верхней одежды</td>\n",
              "    </tr>\n",
              "    <tr>\n",
              "      <th>129</th>\n",
              "      <td>без аксессуара на шею</td>\n",
              "      <td>u</td>\n",
              "      <td>9</td>\n",
              "      <td>зима</td>\n",
              "      <td>без цвета</td>\n",
              "      <td>0</td>\n",
              "      <td>без аксессуара на шею</td>\n",
              "    </tr>\n",
              "    <tr>\n",
              "      <th>130</th>\n",
              "      <td>без аксессуара на шею</td>\n",
              "      <td>u</td>\n",
              "      <td>9</td>\n",
              "      <td>демисезон</td>\n",
              "      <td>без цвета</td>\n",
              "      <td>0</td>\n",
              "      <td>без аксессуара на шею</td>\n",
              "    </tr>\n",
              "    <tr>\n",
              "      <th>131</th>\n",
              "      <td>без аксессуара на шею</td>\n",
              "      <td>u</td>\n",
              "      <td>9</td>\n",
              "      <td>лето</td>\n",
              "      <td>без цвета</td>\n",
              "      <td>0</td>\n",
              "      <td>без аксессуара на шею</td>\n",
              "    </tr>\n",
              "    <tr>\n",
              "      <th>132</th>\n",
              "      <td>без перчаток</td>\n",
              "      <td>u</td>\n",
              "      <td>10</td>\n",
              "      <td>зима</td>\n",
              "      <td>без цвета</td>\n",
              "      <td>0</td>\n",
              "      <td>без перчаток</td>\n",
              "    </tr>\n",
              "    <tr>\n",
              "      <th>133</th>\n",
              "      <td>без перчаток</td>\n",
              "      <td>u</td>\n",
              "      <td>10</td>\n",
              "      <td>демисезон</td>\n",
              "      <td>без цвета</td>\n",
              "      <td>0</td>\n",
              "      <td>без перчаток</td>\n",
              "    </tr>\n",
              "    <tr>\n",
              "      <th>134</th>\n",
              "      <td>без перчаток</td>\n",
              "      <td>u</td>\n",
              "      <td>10</td>\n",
              "      <td>лето</td>\n",
              "      <td>без цвета</td>\n",
              "      <td>0</td>\n",
              "      <td>без перчаток</td>\n",
              "    </tr>\n",
              "  </tbody>\n",
              "</table>\n",
              "</div>\n",
              "      <button class=\"colab-df-convert\" onclick=\"convertToInteractive('df-9fafe546-20dc-4da9-b1b2-dcf3ed065bd3')\"\n",
              "              title=\"Convert this dataframe to an interactive table.\"\n",
              "              style=\"display:none;\">\n",
              "        \n",
              "  <svg xmlns=\"http://www.w3.org/2000/svg\" height=\"24px\"viewBox=\"0 0 24 24\"\n",
              "       width=\"24px\">\n",
              "    <path d=\"M0 0h24v24H0V0z\" fill=\"none\"/>\n",
              "    <path d=\"M18.56 5.44l.94 2.06.94-2.06 2.06-.94-2.06-.94-.94-2.06-.94 2.06-2.06.94zm-11 1L8.5 8.5l.94-2.06 2.06-.94-2.06-.94L8.5 2.5l-.94 2.06-2.06.94zm10 10l.94 2.06.94-2.06 2.06-.94-2.06-.94-.94-2.06-.94 2.06-2.06.94z\"/><path d=\"M17.41 7.96l-1.37-1.37c-.4-.4-.92-.59-1.43-.59-.52 0-1.04.2-1.43.59L10.3 9.45l-7.72 7.72c-.78.78-.78 2.05 0 2.83L4 21.41c.39.39.9.59 1.41.59.51 0 1.02-.2 1.41-.59l7.78-7.78 2.81-2.81c.8-.78.8-2.07 0-2.86zM5.41 20L4 18.59l7.72-7.72 1.47 1.35L5.41 20z\"/>\n",
              "  </svg>\n",
              "      </button>\n",
              "      \n",
              "  <style>\n",
              "    .colab-df-container {\n",
              "      display:flex;\n",
              "      flex-wrap:wrap;\n",
              "      gap: 12px;\n",
              "    }\n",
              "\n",
              "    .colab-df-convert {\n",
              "      background-color: #E8F0FE;\n",
              "      border: none;\n",
              "      border-radius: 50%;\n",
              "      cursor: pointer;\n",
              "      display: none;\n",
              "      fill: #1967D2;\n",
              "      height: 32px;\n",
              "      padding: 0 0 0 0;\n",
              "      width: 32px;\n",
              "    }\n",
              "\n",
              "    .colab-df-convert:hover {\n",
              "      background-color: #E2EBFA;\n",
              "      box-shadow: 0px 1px 2px rgba(60, 64, 67, 0.3), 0px 1px 3px 1px rgba(60, 64, 67, 0.15);\n",
              "      fill: #174EA6;\n",
              "    }\n",
              "\n",
              "    [theme=dark] .colab-df-convert {\n",
              "      background-color: #3B4455;\n",
              "      fill: #D2E3FC;\n",
              "    }\n",
              "\n",
              "    [theme=dark] .colab-df-convert:hover {\n",
              "      background-color: #434B5C;\n",
              "      box-shadow: 0px 1px 3px 1px rgba(0, 0, 0, 0.15);\n",
              "      filter: drop-shadow(0px 1px 2px rgba(0, 0, 0, 0.3));\n",
              "      fill: #FFFFFF;\n",
              "    }\n",
              "  </style>\n",
              "\n",
              "      <script>\n",
              "        const buttonEl =\n",
              "          document.querySelector('#df-9fafe546-20dc-4da9-b1b2-dcf3ed065bd3 button.colab-df-convert');\n",
              "        buttonEl.style.display =\n",
              "          google.colab.kernel.accessAllowed ? 'block' : 'none';\n",
              "\n",
              "        async function convertToInteractive(key) {\n",
              "          const element = document.querySelector('#df-9fafe546-20dc-4da9-b1b2-dcf3ed065bd3');\n",
              "          const dataTable =\n",
              "            await google.colab.kernel.invokeFunction('convertToInteractive',\n",
              "                                                     [key], {});\n",
              "          if (!dataTable) return;\n",
              "\n",
              "          const docLinkHtml = 'Like what you see? Visit the ' +\n",
              "            '<a target=\"_blank\" href=https://colab.research.google.com/notebooks/data_table.ipynb>data table notebook</a>'\n",
              "            + ' to learn more about interactive tables.';\n",
              "          element.innerHTML = '';\n",
              "          dataTable['output_type'] = 'display_data';\n",
              "          await google.colab.output.renderOutput(dataTable, element);\n",
              "          const docLink = document.createElement('div');\n",
              "          docLink.innerHTML = docLinkHtml;\n",
              "          element.appendChild(docLink);\n",
              "        }\n",
              "      </script>\n",
              "    </div>\n",
              "  </div>\n",
              "  "
            ]
          },
          "metadata": {},
          "execution_count": 35
        }
      ]
    },
    {
      "cell_type": "markdown",
      "metadata": {
        "id": "6nrC9wrW8ctF"
      },
      "source": [
        "### Обращение к данным по нескольким условиям\n",
        "\n",
        "Условия должны быть в круглых скобках `()` и между условиями должны быть операторы: `&` - AND (И), `|` - OR (ИЛИ)."
      ]
    },
    {
      "cell_type": "code",
      "metadata": {
        "colab": {
          "base_uri": "https://localhost:8080/",
          "height": 237
        },
        "id": "GjtzWGUi8fTE",
        "outputId": "b30dc6ae-eb21-4f57-fb58-8b877e4b0eff"
      },
      "source": [
        "df.loc[(df.season == 'лето') & (df.part == 8)]"
      ],
      "execution_count": null,
      "outputs": [
        {
          "output_type": "execute_result",
          "data": {
            "text/plain": [
              "                clothes sex  part season       color  price  \\\n",
              "50                тренч   u     8   лето       синий  14330   \n",
              "55               бомбер   u     8   лето     голубой  10056   \n",
              "56               пальто   u     8   лето      чёрный   5444   \n",
              "110              куртка   u     8   лето  фиолетовый   9754   \n",
              "113               жилет   u     8   лето     голубой  11916   \n",
              "128  без верхней одежды   u     8   лето   без цвета      0   \n",
              "\n",
              "             clothes_en  \n",
              "50                тренч  \n",
              "55               бомбер  \n",
              "56               пальто  \n",
              "110              куртка  \n",
              "113               жилет  \n",
              "128  без верхней одежды  "
            ],
            "text/html": [
              "\n",
              "  <div id=\"df-48980b67-5520-40af-b174-efcb5dfafb3b\">\n",
              "    <div class=\"colab-df-container\">\n",
              "      <div>\n",
              "<style scoped>\n",
              "    .dataframe tbody tr th:only-of-type {\n",
              "        vertical-align: middle;\n",
              "    }\n",
              "\n",
              "    .dataframe tbody tr th {\n",
              "        vertical-align: top;\n",
              "    }\n",
              "\n",
              "    .dataframe thead th {\n",
              "        text-align: right;\n",
              "    }\n",
              "</style>\n",
              "<table border=\"1\" class=\"dataframe\">\n",
              "  <thead>\n",
              "    <tr style=\"text-align: right;\">\n",
              "      <th></th>\n",
              "      <th>clothes</th>\n",
              "      <th>sex</th>\n",
              "      <th>part</th>\n",
              "      <th>season</th>\n",
              "      <th>color</th>\n",
              "      <th>price</th>\n",
              "      <th>clothes_en</th>\n",
              "    </tr>\n",
              "  </thead>\n",
              "  <tbody>\n",
              "    <tr>\n",
              "      <th>50</th>\n",
              "      <td>тренч</td>\n",
              "      <td>u</td>\n",
              "      <td>8</td>\n",
              "      <td>лето</td>\n",
              "      <td>синий</td>\n",
              "      <td>14330</td>\n",
              "      <td>тренч</td>\n",
              "    </tr>\n",
              "    <tr>\n",
              "      <th>55</th>\n",
              "      <td>бомбер</td>\n",
              "      <td>u</td>\n",
              "      <td>8</td>\n",
              "      <td>лето</td>\n",
              "      <td>голубой</td>\n",
              "      <td>10056</td>\n",
              "      <td>бомбер</td>\n",
              "    </tr>\n",
              "    <tr>\n",
              "      <th>56</th>\n",
              "      <td>пальто</td>\n",
              "      <td>u</td>\n",
              "      <td>8</td>\n",
              "      <td>лето</td>\n",
              "      <td>чёрный</td>\n",
              "      <td>5444</td>\n",
              "      <td>пальто</td>\n",
              "    </tr>\n",
              "    <tr>\n",
              "      <th>110</th>\n",
              "      <td>куртка</td>\n",
              "      <td>u</td>\n",
              "      <td>8</td>\n",
              "      <td>лето</td>\n",
              "      <td>фиолетовый</td>\n",
              "      <td>9754</td>\n",
              "      <td>куртка</td>\n",
              "    </tr>\n",
              "    <tr>\n",
              "      <th>113</th>\n",
              "      <td>жилет</td>\n",
              "      <td>u</td>\n",
              "      <td>8</td>\n",
              "      <td>лето</td>\n",
              "      <td>голубой</td>\n",
              "      <td>11916</td>\n",
              "      <td>жилет</td>\n",
              "    </tr>\n",
              "    <tr>\n",
              "      <th>128</th>\n",
              "      <td>без верхней одежды</td>\n",
              "      <td>u</td>\n",
              "      <td>8</td>\n",
              "      <td>лето</td>\n",
              "      <td>без цвета</td>\n",
              "      <td>0</td>\n",
              "      <td>без верхней одежды</td>\n",
              "    </tr>\n",
              "  </tbody>\n",
              "</table>\n",
              "</div>\n",
              "      <button class=\"colab-df-convert\" onclick=\"convertToInteractive('df-48980b67-5520-40af-b174-efcb5dfafb3b')\"\n",
              "              title=\"Convert this dataframe to an interactive table.\"\n",
              "              style=\"display:none;\">\n",
              "        \n",
              "  <svg xmlns=\"http://www.w3.org/2000/svg\" height=\"24px\"viewBox=\"0 0 24 24\"\n",
              "       width=\"24px\">\n",
              "    <path d=\"M0 0h24v24H0V0z\" fill=\"none\"/>\n",
              "    <path d=\"M18.56 5.44l.94 2.06.94-2.06 2.06-.94-2.06-.94-.94-2.06-.94 2.06-2.06.94zm-11 1L8.5 8.5l.94-2.06 2.06-.94-2.06-.94L8.5 2.5l-.94 2.06-2.06.94zm10 10l.94 2.06.94-2.06 2.06-.94-2.06-.94-.94-2.06-.94 2.06-2.06.94z\"/><path d=\"M17.41 7.96l-1.37-1.37c-.4-.4-.92-.59-1.43-.59-.52 0-1.04.2-1.43.59L10.3 9.45l-7.72 7.72c-.78.78-.78 2.05 0 2.83L4 21.41c.39.39.9.59 1.41.59.51 0 1.02-.2 1.41-.59l7.78-7.78 2.81-2.81c.8-.78.8-2.07 0-2.86zM5.41 20L4 18.59l7.72-7.72 1.47 1.35L5.41 20z\"/>\n",
              "  </svg>\n",
              "      </button>\n",
              "      \n",
              "  <style>\n",
              "    .colab-df-container {\n",
              "      display:flex;\n",
              "      flex-wrap:wrap;\n",
              "      gap: 12px;\n",
              "    }\n",
              "\n",
              "    .colab-df-convert {\n",
              "      background-color: #E8F0FE;\n",
              "      border: none;\n",
              "      border-radius: 50%;\n",
              "      cursor: pointer;\n",
              "      display: none;\n",
              "      fill: #1967D2;\n",
              "      height: 32px;\n",
              "      padding: 0 0 0 0;\n",
              "      width: 32px;\n",
              "    }\n",
              "\n",
              "    .colab-df-convert:hover {\n",
              "      background-color: #E2EBFA;\n",
              "      box-shadow: 0px 1px 2px rgba(60, 64, 67, 0.3), 0px 1px 3px 1px rgba(60, 64, 67, 0.15);\n",
              "      fill: #174EA6;\n",
              "    }\n",
              "\n",
              "    [theme=dark] .colab-df-convert {\n",
              "      background-color: #3B4455;\n",
              "      fill: #D2E3FC;\n",
              "    }\n",
              "\n",
              "    [theme=dark] .colab-df-convert:hover {\n",
              "      background-color: #434B5C;\n",
              "      box-shadow: 0px 1px 3px 1px rgba(0, 0, 0, 0.15);\n",
              "      filter: drop-shadow(0px 1px 2px rgba(0, 0, 0, 0.3));\n",
              "      fill: #FFFFFF;\n",
              "    }\n",
              "  </style>\n",
              "\n",
              "      <script>\n",
              "        const buttonEl =\n",
              "          document.querySelector('#df-48980b67-5520-40af-b174-efcb5dfafb3b button.colab-df-convert');\n",
              "        buttonEl.style.display =\n",
              "          google.colab.kernel.accessAllowed ? 'block' : 'none';\n",
              "\n",
              "        async function convertToInteractive(key) {\n",
              "          const element = document.querySelector('#df-48980b67-5520-40af-b174-efcb5dfafb3b');\n",
              "          const dataTable =\n",
              "            await google.colab.kernel.invokeFunction('convertToInteractive',\n",
              "                                                     [key], {});\n",
              "          if (!dataTable) return;\n",
              "\n",
              "          const docLinkHtml = 'Like what you see? Visit the ' +\n",
              "            '<a target=\"_blank\" href=https://colab.research.google.com/notebooks/data_table.ipynb>data table notebook</a>'\n",
              "            + ' to learn more about interactive tables.';\n",
              "          element.innerHTML = '';\n",
              "          dataTable['output_type'] = 'display_data';\n",
              "          await google.colab.output.renderOutput(dataTable, element);\n",
              "          const docLink = document.createElement('div');\n",
              "          docLink.innerHTML = docLinkHtml;\n",
              "          element.appendChild(docLink);\n",
              "        }\n",
              "      </script>\n",
              "    </div>\n",
              "  </div>\n",
              "  "
            ]
          },
          "metadata": {},
          "execution_count": 39
        }
      ]
    },
    {
      "cell_type": "code",
      "metadata": {
        "colab": {
          "base_uri": "https://localhost:8080/",
          "height": 1000
        },
        "id": "jxg3lLZz9R5n",
        "outputId": "cb9f8cd9-80ac-4769-f198-a84fa206bfeb"
      },
      "source": [
        "df.loc[(df.season == 'лето') | (df.part == 8)]"
      ],
      "execution_count": null,
      "outputs": [
        {
          "output_type": "execute_result",
          "data": {
            "text/html": [
              "<div>\n",
              "<style scoped>\n",
              "    .dataframe tbody tr th:only-of-type {\n",
              "        vertical-align: middle;\n",
              "    }\n",
              "\n",
              "    .dataframe tbody tr th {\n",
              "        vertical-align: top;\n",
              "    }\n",
              "\n",
              "    .dataframe thead th {\n",
              "        text-align: right;\n",
              "    }\n",
              "</style>\n",
              "<table border=\"1\" class=\"dataframe\">\n",
              "  <thead>\n",
              "    <tr style=\"text-align: right;\">\n",
              "      <th></th>\n",
              "      <th>clothes</th>\n",
              "      <th>sex</th>\n",
              "      <th>part</th>\n",
              "      <th>season</th>\n",
              "      <th>color</th>\n",
              "      <th>price</th>\n",
              "    </tr>\n",
              "  </thead>\n",
              "  <tbody>\n",
              "    <tr>\n",
              "      <th>8</th>\n",
              "      <td>сапоги</td>\n",
              "      <td>u</td>\n",
              "      <td>3</td>\n",
              "      <td>лето</td>\n",
              "      <td>синий</td>\n",
              "      <td>3624</td>\n",
              "    </tr>\n",
              "    <tr>\n",
              "      <th>11</th>\n",
              "      <td>туфли с каблуком</td>\n",
              "      <td>f</td>\n",
              "      <td>3</td>\n",
              "      <td>лето</td>\n",
              "      <td>красный</td>\n",
              "      <td>2594</td>\n",
              "    </tr>\n",
              "    <tr>\n",
              "      <th>12</th>\n",
              "      <td>туфли без каблука</td>\n",
              "      <td>u</td>\n",
              "      <td>3</td>\n",
              "      <td>лето</td>\n",
              "      <td>горчичный</td>\n",
              "      <td>2868</td>\n",
              "    </tr>\n",
              "    <tr>\n",
              "      <th>14</th>\n",
              "      <td>сандалии</td>\n",
              "      <td>u</td>\n",
              "      <td>3</td>\n",
              "      <td>лето</td>\n",
              "      <td>красный</td>\n",
              "      <td>2415</td>\n",
              "    </tr>\n",
              "    <tr>\n",
              "      <th>15</th>\n",
              "      <td>босоножки</td>\n",
              "      <td>f</td>\n",
              "      <td>3</td>\n",
              "      <td>лето</td>\n",
              "      <td>белый</td>\n",
              "      <td>4519</td>\n",
              "    </tr>\n",
              "    <tr>\n",
              "      <th>16</th>\n",
              "      <td>ботинки</td>\n",
              "      <td>u</td>\n",
              "      <td>3</td>\n",
              "      <td>лето</td>\n",
              "      <td>коричневый</td>\n",
              "      <td>3347</td>\n",
              "    </tr>\n",
              "    <tr>\n",
              "      <th>19</th>\n",
              "      <td>сланцы</td>\n",
              "      <td>u</td>\n",
              "      <td>3</td>\n",
              "      <td>лето</td>\n",
              "      <td>салатовый</td>\n",
              "      <td>3733</td>\n",
              "    </tr>\n",
              "    <tr>\n",
              "      <th>50</th>\n",
              "      <td>тренч</td>\n",
              "      <td>u</td>\n",
              "      <td>8</td>\n",
              "      <td>лето</td>\n",
              "      <td>синий</td>\n",
              "      <td>14330</td>\n",
              "    </tr>\n",
              "    <tr>\n",
              "      <th>51</th>\n",
              "      <td>пуховик</td>\n",
              "      <td>u</td>\n",
              "      <td>8</td>\n",
              "      <td>зима</td>\n",
              "      <td>голубой</td>\n",
              "      <td>13609</td>\n",
              "    </tr>\n",
              "    <tr>\n",
              "      <th>52</th>\n",
              "      <td>пальто</td>\n",
              "      <td>u</td>\n",
              "      <td>8</td>\n",
              "      <td>демисезон</td>\n",
              "      <td>чёрный</td>\n",
              "      <td>5444</td>\n",
              "    </tr>\n",
              "    <tr>\n",
              "      <th>53</th>\n",
              "      <td>бомбер</td>\n",
              "      <td>u</td>\n",
              "      <td>8</td>\n",
              "      <td>демисезон</td>\n",
              "      <td>голубой</td>\n",
              "      <td>10056</td>\n",
              "    </tr>\n",
              "    <tr>\n",
              "      <th>54</th>\n",
              "      <td>шуба/дубленка</td>\n",
              "      <td>u</td>\n",
              "      <td>8</td>\n",
              "      <td>зима</td>\n",
              "      <td>горчичный</td>\n",
              "      <td>12462</td>\n",
              "    </tr>\n",
              "    <tr>\n",
              "      <th>55</th>\n",
              "      <td>бомбер</td>\n",
              "      <td>u</td>\n",
              "      <td>8</td>\n",
              "      <td>лето</td>\n",
              "      <td>голубой</td>\n",
              "      <td>10056</td>\n",
              "    </tr>\n",
              "    <tr>\n",
              "      <th>56</th>\n",
              "      <td>пальто</td>\n",
              "      <td>u</td>\n",
              "      <td>8</td>\n",
              "      <td>лето</td>\n",
              "      <td>чёрный</td>\n",
              "      <td>5444</td>\n",
              "    </tr>\n",
              "    <tr>\n",
              "      <th>57</th>\n",
              "      <td>тренч</td>\n",
              "      <td>u</td>\n",
              "      <td>8</td>\n",
              "      <td>демисезон</td>\n",
              "      <td>синий</td>\n",
              "      <td>14330</td>\n",
              "    </tr>\n",
              "    <tr>\n",
              "      <th>58</th>\n",
              "      <td>топ</td>\n",
              "      <td>f</td>\n",
              "      <td>1</td>\n",
              "      <td>лето</td>\n",
              "      <td>серый</td>\n",
              "      <td>1305</td>\n",
              "    </tr>\n",
              "    <tr>\n",
              "      <th>59</th>\n",
              "      <td>рубашка</td>\n",
              "      <td>u</td>\n",
              "      <td>1</td>\n",
              "      <td>лето</td>\n",
              "      <td>серый</td>\n",
              "      <td>1969</td>\n",
              "    </tr>\n",
              "    <tr>\n",
              "      <th>60</th>\n",
              "      <td>футболка</td>\n",
              "      <td>u</td>\n",
              "      <td>1</td>\n",
              "      <td>лето</td>\n",
              "      <td>голубой</td>\n",
              "      <td>715</td>\n",
              "    </tr>\n",
              "    <tr>\n",
              "      <th>61</th>\n",
              "      <td>блуза</td>\n",
              "      <td>f</td>\n",
              "      <td>1</td>\n",
              "      <td>лето</td>\n",
              "      <td>красный</td>\n",
              "      <td>767</td>\n",
              "    </tr>\n",
              "    <tr>\n",
              "      <th>62</th>\n",
              "      <td>водолазка</td>\n",
              "      <td>u</td>\n",
              "      <td>1</td>\n",
              "      <td>лето</td>\n",
              "      <td>оливкого-зелёный</td>\n",
              "      <td>1379</td>\n",
              "    </tr>\n",
              "    <tr>\n",
              "      <th>63</th>\n",
              "      <td>кроссовки</td>\n",
              "      <td>u</td>\n",
              "      <td>3</td>\n",
              "      <td>лето</td>\n",
              "      <td>салатовый</td>\n",
              "      <td>4865</td>\n",
              "    </tr>\n",
              "    <tr>\n",
              "      <th>64</th>\n",
              "      <td>кеды</td>\n",
              "      <td>u</td>\n",
              "      <td>3</td>\n",
              "      <td>лето</td>\n",
              "      <td>голубой</td>\n",
              "      <td>2872</td>\n",
              "    </tr>\n",
              "    <tr>\n",
              "      <th>90</th>\n",
              "      <td>олимпийка</td>\n",
              "      <td>u</td>\n",
              "      <td>2</td>\n",
              "      <td>лето</td>\n",
              "      <td>коричневый</td>\n",
              "      <td>3893</td>\n",
              "    </tr>\n",
              "    <tr>\n",
              "      <th>91</th>\n",
              "      <td>худи</td>\n",
              "      <td>u</td>\n",
              "      <td>2</td>\n",
              "      <td>лето</td>\n",
              "      <td>голубой</td>\n",
              "      <td>1625</td>\n",
              "    </tr>\n",
              "    <tr>\n",
              "      <th>92</th>\n",
              "      <td>свитшот</td>\n",
              "      <td>u</td>\n",
              "      <td>2</td>\n",
              "      <td>лето</td>\n",
              "      <td>салатовый</td>\n",
              "      <td>3851</td>\n",
              "    </tr>\n",
              "    <tr>\n",
              "      <th>93</th>\n",
              "      <td>свитер</td>\n",
              "      <td>u</td>\n",
              "      <td>2</td>\n",
              "      <td>лето</td>\n",
              "      <td>белый</td>\n",
              "      <td>4626</td>\n",
              "    </tr>\n",
              "    <tr>\n",
              "      <th>94</th>\n",
              "      <td>кардиган</td>\n",
              "      <td>u</td>\n",
              "      <td>2</td>\n",
              "      <td>лето</td>\n",
              "      <td>голубой</td>\n",
              "      <td>1654</td>\n",
              "    </tr>\n",
              "    <tr>\n",
              "      <th>95</th>\n",
              "      <td>пиджак</td>\n",
              "      <td>u</td>\n",
              "      <td>2</td>\n",
              "      <td>лето</td>\n",
              "      <td>персиковый</td>\n",
              "      <td>2451</td>\n",
              "    </tr>\n",
              "    <tr>\n",
              "      <th>96</th>\n",
              "      <td>брюки</td>\n",
              "      <td>u</td>\n",
              "      <td>4</td>\n",
              "      <td>лето</td>\n",
              "      <td>серый</td>\n",
              "      <td>4801</td>\n",
              "    </tr>\n",
              "    <tr>\n",
              "      <th>97</th>\n",
              "      <td>джинсы</td>\n",
              "      <td>u</td>\n",
              "      <td>4</td>\n",
              "      <td>лето</td>\n",
              "      <td>белый</td>\n",
              "      <td>1801</td>\n",
              "    </tr>\n",
              "    <tr>\n",
              "      <th>98</th>\n",
              "      <td>шорты</td>\n",
              "      <td>u</td>\n",
              "      <td>4</td>\n",
              "      <td>лето</td>\n",
              "      <td>голубой</td>\n",
              "      <td>4850</td>\n",
              "    </tr>\n",
              "    <tr>\n",
              "      <th>99</th>\n",
              "      <td>юбка</td>\n",
              "      <td>f</td>\n",
              "      <td>4</td>\n",
              "      <td>лето</td>\n",
              "      <td>коричневый</td>\n",
              "      <td>3988</td>\n",
              "    </tr>\n",
              "    <tr>\n",
              "      <th>100</th>\n",
              "      <td>жилет</td>\n",
              "      <td>u</td>\n",
              "      <td>2</td>\n",
              "      <td>лето</td>\n",
              "      <td>голубой</td>\n",
              "      <td>4072</td>\n",
              "    </tr>\n",
              "    <tr>\n",
              "      <th>101</th>\n",
              "      <td>платье</td>\n",
              "      <td>f</td>\n",
              "      <td>4</td>\n",
              "      <td>лето</td>\n",
              "      <td>голубой</td>\n",
              "      <td>4791</td>\n",
              "    </tr>\n",
              "    <tr>\n",
              "      <th>102</th>\n",
              "      <td>комбенизон</td>\n",
              "      <td>u</td>\n",
              "      <td>4</td>\n",
              "      <td>лето</td>\n",
              "      <td>белый</td>\n",
              "      <td>1878</td>\n",
              "    </tr>\n",
              "    <tr>\n",
              "      <th>103</th>\n",
              "      <td>шопер</td>\n",
              "      <td>u</td>\n",
              "      <td>5</td>\n",
              "      <td>лето</td>\n",
              "      <td>оливкого-зелёный</td>\n",
              "      <td>2313</td>\n",
              "    </tr>\n",
              "    <tr>\n",
              "      <th>104</th>\n",
              "      <td>сумка мини</td>\n",
              "      <td>u</td>\n",
              "      <td>5</td>\n",
              "      <td>лето</td>\n",
              "      <td>персиковый</td>\n",
              "      <td>2433</td>\n",
              "    </tr>\n",
              "    <tr>\n",
              "      <th>105</th>\n",
              "      <td>сумка большая</td>\n",
              "      <td>u</td>\n",
              "      <td>5</td>\n",
              "      <td>лето</td>\n",
              "      <td>оливкого-зелёный</td>\n",
              "      <td>2031</td>\n",
              "    </tr>\n",
              "    <tr>\n",
              "      <th>106</th>\n",
              "      <td>рюкзак</td>\n",
              "      <td>u</td>\n",
              "      <td>5</td>\n",
              "      <td>лето</td>\n",
              "      <td>салатовый</td>\n",
              "      <td>2263</td>\n",
              "    </tr>\n",
              "    <tr>\n",
              "      <th>107</th>\n",
              "      <td>очки</td>\n",
              "      <td>u</td>\n",
              "      <td>6</td>\n",
              "      <td>лето</td>\n",
              "      <td>синий</td>\n",
              "      <td>2000</td>\n",
              "    </tr>\n",
              "    <tr>\n",
              "      <th>108</th>\n",
              "      <td>куртка</td>\n",
              "      <td>u</td>\n",
              "      <td>8</td>\n",
              "      <td>зима</td>\n",
              "      <td>фиолетовый</td>\n",
              "      <td>9754</td>\n",
              "    </tr>\n",
              "    <tr>\n",
              "      <th>109</th>\n",
              "      <td>куртка</td>\n",
              "      <td>u</td>\n",
              "      <td>8</td>\n",
              "      <td>демисезон</td>\n",
              "      <td>фиолетовый</td>\n",
              "      <td>9754</td>\n",
              "    </tr>\n",
              "    <tr>\n",
              "      <th>110</th>\n",
              "      <td>куртка</td>\n",
              "      <td>u</td>\n",
              "      <td>8</td>\n",
              "      <td>лето</td>\n",
              "      <td>фиолетовый</td>\n",
              "      <td>9754</td>\n",
              "    </tr>\n",
              "    <tr>\n",
              "      <th>111</th>\n",
              "      <td>жилет</td>\n",
              "      <td>u</td>\n",
              "      <td>8</td>\n",
              "      <td>зима</td>\n",
              "      <td>голубой</td>\n",
              "      <td>11916</td>\n",
              "    </tr>\n",
              "    <tr>\n",
              "      <th>112</th>\n",
              "      <td>жилет</td>\n",
              "      <td>u</td>\n",
              "      <td>8</td>\n",
              "      <td>демисезон</td>\n",
              "      <td>голубой</td>\n",
              "      <td>11916</td>\n",
              "    </tr>\n",
              "    <tr>\n",
              "      <th>113</th>\n",
              "      <td>жилет</td>\n",
              "      <td>u</td>\n",
              "      <td>8</td>\n",
              "      <td>лето</td>\n",
              "      <td>голубой</td>\n",
              "      <td>11916</td>\n",
              "    </tr>\n",
              "    <tr>\n",
              "      <th>116</th>\n",
              "      <td>без верхней утепленной части</td>\n",
              "      <td>u</td>\n",
              "      <td>2</td>\n",
              "      <td>лето</td>\n",
              "      <td>без цвета</td>\n",
              "      <td>0</td>\n",
              "    </tr>\n",
              "    <tr>\n",
              "      <th>119</th>\n",
              "      <td>без сумки</td>\n",
              "      <td>u</td>\n",
              "      <td>5</td>\n",
              "      <td>лето</td>\n",
              "      <td>без цвета</td>\n",
              "      <td>0</td>\n",
              "    </tr>\n",
              "    <tr>\n",
              "      <th>122</th>\n",
              "      <td>без очков</td>\n",
              "      <td>u</td>\n",
              "      <td>6</td>\n",
              "      <td>лето</td>\n",
              "      <td>без цвета</td>\n",
              "      <td>0</td>\n",
              "    </tr>\n",
              "    <tr>\n",
              "      <th>125</th>\n",
              "      <td>без головного убора</td>\n",
              "      <td>u</td>\n",
              "      <td>7</td>\n",
              "      <td>лето</td>\n",
              "      <td>без цвета</td>\n",
              "      <td>0</td>\n",
              "    </tr>\n",
              "    <tr>\n",
              "      <th>126</th>\n",
              "      <td>без верхней одежды</td>\n",
              "      <td>u</td>\n",
              "      <td>8</td>\n",
              "      <td>зима</td>\n",
              "      <td>без цвета</td>\n",
              "      <td>0</td>\n",
              "    </tr>\n",
              "    <tr>\n",
              "      <th>127</th>\n",
              "      <td>без верхней одежды</td>\n",
              "      <td>u</td>\n",
              "      <td>8</td>\n",
              "      <td>демисезон</td>\n",
              "      <td>без цвета</td>\n",
              "      <td>0</td>\n",
              "    </tr>\n",
              "    <tr>\n",
              "      <th>128</th>\n",
              "      <td>без верхней одежды</td>\n",
              "      <td>u</td>\n",
              "      <td>8</td>\n",
              "      <td>лето</td>\n",
              "      <td>без цвета</td>\n",
              "      <td>0</td>\n",
              "    </tr>\n",
              "    <tr>\n",
              "      <th>131</th>\n",
              "      <td>без аксессуара на шею</td>\n",
              "      <td>u</td>\n",
              "      <td>9</td>\n",
              "      <td>лето</td>\n",
              "      <td>без цвета</td>\n",
              "      <td>0</td>\n",
              "    </tr>\n",
              "    <tr>\n",
              "      <th>134</th>\n",
              "      <td>без перчаток</td>\n",
              "      <td>u</td>\n",
              "      <td>10</td>\n",
              "      <td>лето</td>\n",
              "      <td>без цвета</td>\n",
              "      <td>0</td>\n",
              "    </tr>\n",
              "  </tbody>\n",
              "</table>\n",
              "</div>"
            ],
            "text/plain": [
              "                          clothes sex  part     season             color  price\n",
              "8                          сапоги   u     3       лето             синий   3624\n",
              "11               туфли с каблуком   f     3       лето           красный   2594\n",
              "12              туфли без каблука   u     3       лето         горчичный   2868\n",
              "14                       сандалии   u     3       лето           красный   2415\n",
              "15                      босоножки   f     3       лето             белый   4519\n",
              "16                        ботинки   u     3       лето        коричневый   3347\n",
              "19                         сланцы   u     3       лето         салатовый   3733\n",
              "50                          тренч   u     8       лето             синий  14330\n",
              "51                        пуховик   u     8       зима           голубой  13609\n",
              "52                         пальто   u     8  демисезон            чёрный   5444\n",
              "53                         бомбер   u     8  демисезон           голубой  10056\n",
              "54                  шуба/дубленка   u     8       зима         горчичный  12462\n",
              "55                         бомбер   u     8       лето           голубой  10056\n",
              "56                         пальто   u     8       лето            чёрный   5444\n",
              "57                          тренч   u     8  демисезон             синий  14330\n",
              "58                            топ   f     1       лето             серый   1305\n",
              "59                        рубашка   u     1       лето             серый   1969\n",
              "60                       футболка   u     1       лето           голубой    715\n",
              "61                          блуза   f     1       лето           красный    767\n",
              "62                      водолазка   u     1       лето  оливкого-зелёный   1379\n",
              "63                      кроссовки   u     3       лето         салатовый   4865\n",
              "64                           кеды   u     3       лето           голубой   2872\n",
              "90                      олимпийка   u     2       лето        коричневый   3893\n",
              "91                           худи   u     2       лето           голубой   1625\n",
              "92                        свитшот   u     2       лето         салатовый   3851\n",
              "93                         свитер   u     2       лето             белый   4626\n",
              "94                       кардиган   u     2       лето           голубой   1654\n",
              "95                         пиджак   u     2       лето        персиковый   2451\n",
              "96                          брюки   u     4       лето             серый   4801\n",
              "97                         джинсы   u     4       лето             белый   1801\n",
              "98                          шорты   u     4       лето           голубой   4850\n",
              "99                           юбка   f     4       лето        коричневый   3988\n",
              "100                         жилет   u     2       лето           голубой   4072\n",
              "101                        платье   f     4       лето           голубой   4791\n",
              "102                    комбенизон   u     4       лето             белый   1878\n",
              "103                         шопер   u     5       лето  оливкого-зелёный   2313\n",
              "104                    сумка мини   u     5       лето        персиковый   2433\n",
              "105                 сумка большая   u     5       лето  оливкого-зелёный   2031\n",
              "106                        рюкзак   u     5       лето         салатовый   2263\n",
              "107                          очки   u     6       лето             синий   2000\n",
              "108                        куртка   u     8       зима        фиолетовый   9754\n",
              "109                        куртка   u     8  демисезон        фиолетовый   9754\n",
              "110                        куртка   u     8       лето        фиолетовый   9754\n",
              "111                         жилет   u     8       зима           голубой  11916\n",
              "112                         жилет   u     8  демисезон           голубой  11916\n",
              "113                         жилет   u     8       лето           голубой  11916\n",
              "116  без верхней утепленной части   u     2       лето         без цвета      0\n",
              "119                     без сумки   u     5       лето         без цвета      0\n",
              "122                     без очков   u     6       лето         без цвета      0\n",
              "125           без головного убора   u     7       лето         без цвета      0\n",
              "126            без верхней одежды   u     8       зима         без цвета      0\n",
              "127            без верхней одежды   u     8  демисезон         без цвета      0\n",
              "128            без верхней одежды   u     8       лето         без цвета      0\n",
              "131         без аксессуара на шею   u     9       лето         без цвета      0\n",
              "134                  без перчаток   u    10       лето         без цвета      0"
            ]
          },
          "metadata": {},
          "execution_count": 55
        }
      ]
    },
    {
      "cell_type": "code",
      "metadata": {
        "colab": {
          "base_uri": "https://localhost:8080/",
          "height": 655
        },
        "id": "vfWg4hiP9S7l",
        "outputId": "c15ad2bc-6f5a-4ef0-f7dd-4d9d41aa3082"
      },
      "source": [
        "df.loc[(df.season == 'лето') | (df.season == 'зима')]"
      ],
      "execution_count": null,
      "outputs": [
        {
          "output_type": "execute_result",
          "data": {
            "text/plain": [
              "                   clothes sex  part season             color  price  \\\n",
              "0                      топ   f     1   зима             серый   1305   \n",
              "1                  рубашка   u     1   зима             серый   1969   \n",
              "2                 футболка   u     1   зима           голубой    715   \n",
              "3                    блуза   f     1   зима           красный    767   \n",
              "4                водолазка   u     1   зима  оливкого-зелёный   1379   \n",
              "..                     ...  ..   ...    ...               ...    ...   \n",
              "128     без верхней одежды   u     8   лето         без цвета      0   \n",
              "129  без аксессуара на шею   u     9   зима         без цвета      0   \n",
              "131  без аксессуара на шею   u     9   лето         без цвета      0   \n",
              "132           без перчаток   u    10   зима         без цвета      0   \n",
              "134           без перчаток   u    10   лето         без цвета      0   \n",
              "\n",
              "                clothes_en  \n",
              "0                      top  \n",
              "1                  рубашка  \n",
              "2                  t-shirt  \n",
              "3                    блуза  \n",
              "4                водолазка  \n",
              "..                     ...  \n",
              "128     без верхней одежды  \n",
              "129  без аксессуара на шею  \n",
              "131  без аксессуара на шею  \n",
              "132           без перчаток  \n",
              "134           без перчаток  \n",
              "\n",
              "[94 rows x 7 columns]"
            ],
            "text/html": [
              "\n",
              "  <div id=\"df-dc159d03-54c1-4650-bcf1-980f0589b0f4\">\n",
              "    <div class=\"colab-df-container\">\n",
              "      <div>\n",
              "<style scoped>\n",
              "    .dataframe tbody tr th:only-of-type {\n",
              "        vertical-align: middle;\n",
              "    }\n",
              "\n",
              "    .dataframe tbody tr th {\n",
              "        vertical-align: top;\n",
              "    }\n",
              "\n",
              "    .dataframe thead th {\n",
              "        text-align: right;\n",
              "    }\n",
              "</style>\n",
              "<table border=\"1\" class=\"dataframe\">\n",
              "  <thead>\n",
              "    <tr style=\"text-align: right;\">\n",
              "      <th></th>\n",
              "      <th>clothes</th>\n",
              "      <th>sex</th>\n",
              "      <th>part</th>\n",
              "      <th>season</th>\n",
              "      <th>color</th>\n",
              "      <th>price</th>\n",
              "      <th>clothes_en</th>\n",
              "    </tr>\n",
              "  </thead>\n",
              "  <tbody>\n",
              "    <tr>\n",
              "      <th>0</th>\n",
              "      <td>топ</td>\n",
              "      <td>f</td>\n",
              "      <td>1</td>\n",
              "      <td>зима</td>\n",
              "      <td>серый</td>\n",
              "      <td>1305</td>\n",
              "      <td>top</td>\n",
              "    </tr>\n",
              "    <tr>\n",
              "      <th>1</th>\n",
              "      <td>рубашка</td>\n",
              "      <td>u</td>\n",
              "      <td>1</td>\n",
              "      <td>зима</td>\n",
              "      <td>серый</td>\n",
              "      <td>1969</td>\n",
              "      <td>рубашка</td>\n",
              "    </tr>\n",
              "    <tr>\n",
              "      <th>2</th>\n",
              "      <td>футболка</td>\n",
              "      <td>u</td>\n",
              "      <td>1</td>\n",
              "      <td>зима</td>\n",
              "      <td>голубой</td>\n",
              "      <td>715</td>\n",
              "      <td>t-shirt</td>\n",
              "    </tr>\n",
              "    <tr>\n",
              "      <th>3</th>\n",
              "      <td>блуза</td>\n",
              "      <td>f</td>\n",
              "      <td>1</td>\n",
              "      <td>зима</td>\n",
              "      <td>красный</td>\n",
              "      <td>767</td>\n",
              "      <td>блуза</td>\n",
              "    </tr>\n",
              "    <tr>\n",
              "      <th>4</th>\n",
              "      <td>водолазка</td>\n",
              "      <td>u</td>\n",
              "      <td>1</td>\n",
              "      <td>зима</td>\n",
              "      <td>оливкого-зелёный</td>\n",
              "      <td>1379</td>\n",
              "      <td>водолазка</td>\n",
              "    </tr>\n",
              "    <tr>\n",
              "      <th>...</th>\n",
              "      <td>...</td>\n",
              "      <td>...</td>\n",
              "      <td>...</td>\n",
              "      <td>...</td>\n",
              "      <td>...</td>\n",
              "      <td>...</td>\n",
              "      <td>...</td>\n",
              "    </tr>\n",
              "    <tr>\n",
              "      <th>128</th>\n",
              "      <td>без верхней одежды</td>\n",
              "      <td>u</td>\n",
              "      <td>8</td>\n",
              "      <td>лето</td>\n",
              "      <td>без цвета</td>\n",
              "      <td>0</td>\n",
              "      <td>без верхней одежды</td>\n",
              "    </tr>\n",
              "    <tr>\n",
              "      <th>129</th>\n",
              "      <td>без аксессуара на шею</td>\n",
              "      <td>u</td>\n",
              "      <td>9</td>\n",
              "      <td>зима</td>\n",
              "      <td>без цвета</td>\n",
              "      <td>0</td>\n",
              "      <td>без аксессуара на шею</td>\n",
              "    </tr>\n",
              "    <tr>\n",
              "      <th>131</th>\n",
              "      <td>без аксессуара на шею</td>\n",
              "      <td>u</td>\n",
              "      <td>9</td>\n",
              "      <td>лето</td>\n",
              "      <td>без цвета</td>\n",
              "      <td>0</td>\n",
              "      <td>без аксессуара на шею</td>\n",
              "    </tr>\n",
              "    <tr>\n",
              "      <th>132</th>\n",
              "      <td>без перчаток</td>\n",
              "      <td>u</td>\n",
              "      <td>10</td>\n",
              "      <td>зима</td>\n",
              "      <td>без цвета</td>\n",
              "      <td>0</td>\n",
              "      <td>без перчаток</td>\n",
              "    </tr>\n",
              "    <tr>\n",
              "      <th>134</th>\n",
              "      <td>без перчаток</td>\n",
              "      <td>u</td>\n",
              "      <td>10</td>\n",
              "      <td>лето</td>\n",
              "      <td>без цвета</td>\n",
              "      <td>0</td>\n",
              "      <td>без перчаток</td>\n",
              "    </tr>\n",
              "  </tbody>\n",
              "</table>\n",
              "<p>94 rows × 7 columns</p>\n",
              "</div>\n",
              "      <button class=\"colab-df-convert\" onclick=\"convertToInteractive('df-dc159d03-54c1-4650-bcf1-980f0589b0f4')\"\n",
              "              title=\"Convert this dataframe to an interactive table.\"\n",
              "              style=\"display:none;\">\n",
              "        \n",
              "  <svg xmlns=\"http://www.w3.org/2000/svg\" height=\"24px\"viewBox=\"0 0 24 24\"\n",
              "       width=\"24px\">\n",
              "    <path d=\"M0 0h24v24H0V0z\" fill=\"none\"/>\n",
              "    <path d=\"M18.56 5.44l.94 2.06.94-2.06 2.06-.94-2.06-.94-.94-2.06-.94 2.06-2.06.94zm-11 1L8.5 8.5l.94-2.06 2.06-.94-2.06-.94L8.5 2.5l-.94 2.06-2.06.94zm10 10l.94 2.06.94-2.06 2.06-.94-2.06-.94-.94-2.06-.94 2.06-2.06.94z\"/><path d=\"M17.41 7.96l-1.37-1.37c-.4-.4-.92-.59-1.43-.59-.52 0-1.04.2-1.43.59L10.3 9.45l-7.72 7.72c-.78.78-.78 2.05 0 2.83L4 21.41c.39.39.9.59 1.41.59.51 0 1.02-.2 1.41-.59l7.78-7.78 2.81-2.81c.8-.78.8-2.07 0-2.86zM5.41 20L4 18.59l7.72-7.72 1.47 1.35L5.41 20z\"/>\n",
              "  </svg>\n",
              "      </button>\n",
              "      \n",
              "  <style>\n",
              "    .colab-df-container {\n",
              "      display:flex;\n",
              "      flex-wrap:wrap;\n",
              "      gap: 12px;\n",
              "    }\n",
              "\n",
              "    .colab-df-convert {\n",
              "      background-color: #E8F0FE;\n",
              "      border: none;\n",
              "      border-radius: 50%;\n",
              "      cursor: pointer;\n",
              "      display: none;\n",
              "      fill: #1967D2;\n",
              "      height: 32px;\n",
              "      padding: 0 0 0 0;\n",
              "      width: 32px;\n",
              "    }\n",
              "\n",
              "    .colab-df-convert:hover {\n",
              "      background-color: #E2EBFA;\n",
              "      box-shadow: 0px 1px 2px rgba(60, 64, 67, 0.3), 0px 1px 3px 1px rgba(60, 64, 67, 0.15);\n",
              "      fill: #174EA6;\n",
              "    }\n",
              "\n",
              "    [theme=dark] .colab-df-convert {\n",
              "      background-color: #3B4455;\n",
              "      fill: #D2E3FC;\n",
              "    }\n",
              "\n",
              "    [theme=dark] .colab-df-convert:hover {\n",
              "      background-color: #434B5C;\n",
              "      box-shadow: 0px 1px 3px 1px rgba(0, 0, 0, 0.15);\n",
              "      filter: drop-shadow(0px 1px 2px rgba(0, 0, 0, 0.3));\n",
              "      fill: #FFFFFF;\n",
              "    }\n",
              "  </style>\n",
              "\n",
              "      <script>\n",
              "        const buttonEl =\n",
              "          document.querySelector('#df-dc159d03-54c1-4650-bcf1-980f0589b0f4 button.colab-df-convert');\n",
              "        buttonEl.style.display =\n",
              "          google.colab.kernel.accessAllowed ? 'block' : 'none';\n",
              "\n",
              "        async function convertToInteractive(key) {\n",
              "          const element = document.querySelector('#df-dc159d03-54c1-4650-bcf1-980f0589b0f4');\n",
              "          const dataTable =\n",
              "            await google.colab.kernel.invokeFunction('convertToInteractive',\n",
              "                                                     [key], {});\n",
              "          if (!dataTable) return;\n",
              "\n",
              "          const docLinkHtml = 'Like what you see? Visit the ' +\n",
              "            '<a target=\"_blank\" href=https://colab.research.google.com/notebooks/data_table.ipynb>data table notebook</a>'\n",
              "            + ' to learn more about interactive tables.';\n",
              "          element.innerHTML = '';\n",
              "          dataTable['output_type'] = 'display_data';\n",
              "          await google.colab.output.renderOutput(dataTable, element);\n",
              "          const docLink = document.createElement('div');\n",
              "          docLink.innerHTML = docLinkHtml;\n",
              "          element.appendChild(docLink);\n",
              "        }\n",
              "      </script>\n",
              "    </div>\n",
              "  </div>\n",
              "  "
            ]
          },
          "metadata": {},
          "execution_count": 55
        }
      ]
    },
    {
      "cell_type": "markdown",
      "metadata": {
        "id": "W7EV2d6N9ySq"
      },
      "source": [
        "## Получить значения колонки по условию"
      ]
    },
    {
      "cell_type": "code",
      "source": [
        "df"
      ],
      "metadata": {
        "colab": {
          "base_uri": "https://localhost:8080/",
          "height": 661
        },
        "id": "_utcSn4HIqv1",
        "outputId": "8f258dbc-de4a-4bf2-bc25-b7d050125a24"
      },
      "execution_count": null,
      "outputs": [
        {
          "output_type": "execute_result",
          "data": {
            "text/plain": [
              "                   clothes sex  part     season             color  price  \\\n",
              "0                      топ   f     1       зима             серый   1305   \n",
              "1                  рубашка   u     1       зима             серый   1969   \n",
              "2                 футболка   u     1       зима           голубой    715   \n",
              "3                    блуза   f     1       зима           красный    767   \n",
              "4                водолазка   u     1       зима  оливкого-зелёный   1379   \n",
              "..                     ...  ..   ...        ...               ...    ...   \n",
              "130  без аксессуара на шею   u     9  демисезон         без цвета      0   \n",
              "131  без аксессуара на шею   u     9       лето         без цвета      0   \n",
              "132           без перчаток   u    10       зима         без цвета      0   \n",
              "133           без перчаток   u    10  демисезон         без цвета      0   \n",
              "134           без перчаток   u    10       лето         без цвета      0   \n",
              "\n",
              "                clothes_en  \n",
              "0                      top  \n",
              "1                  рубашка  \n",
              "2                  t-shirt  \n",
              "3                    блуза  \n",
              "4                водолазка  \n",
              "..                     ...  \n",
              "130  без аксессуара на шею  \n",
              "131  без аксессуара на шею  \n",
              "132           без перчаток  \n",
              "133           без перчаток  \n",
              "134           без перчаток  \n",
              "\n",
              "[135 rows x 7 columns]"
            ],
            "text/html": [
              "\n",
              "  <div id=\"df-e112359b-40f7-4578-b14e-0a8d2cdde414\">\n",
              "    <div class=\"colab-df-container\">\n",
              "      <div>\n",
              "<style scoped>\n",
              "    .dataframe tbody tr th:only-of-type {\n",
              "        vertical-align: middle;\n",
              "    }\n",
              "\n",
              "    .dataframe tbody tr th {\n",
              "        vertical-align: top;\n",
              "    }\n",
              "\n",
              "    .dataframe thead th {\n",
              "        text-align: right;\n",
              "    }\n",
              "</style>\n",
              "<table border=\"1\" class=\"dataframe\">\n",
              "  <thead>\n",
              "    <tr style=\"text-align: right;\">\n",
              "      <th></th>\n",
              "      <th>clothes</th>\n",
              "      <th>sex</th>\n",
              "      <th>part</th>\n",
              "      <th>season</th>\n",
              "      <th>color</th>\n",
              "      <th>price</th>\n",
              "      <th>clothes_en</th>\n",
              "    </tr>\n",
              "  </thead>\n",
              "  <tbody>\n",
              "    <tr>\n",
              "      <th>0</th>\n",
              "      <td>топ</td>\n",
              "      <td>f</td>\n",
              "      <td>1</td>\n",
              "      <td>зима</td>\n",
              "      <td>серый</td>\n",
              "      <td>1305</td>\n",
              "      <td>top</td>\n",
              "    </tr>\n",
              "    <tr>\n",
              "      <th>1</th>\n",
              "      <td>рубашка</td>\n",
              "      <td>u</td>\n",
              "      <td>1</td>\n",
              "      <td>зима</td>\n",
              "      <td>серый</td>\n",
              "      <td>1969</td>\n",
              "      <td>рубашка</td>\n",
              "    </tr>\n",
              "    <tr>\n",
              "      <th>2</th>\n",
              "      <td>футболка</td>\n",
              "      <td>u</td>\n",
              "      <td>1</td>\n",
              "      <td>зима</td>\n",
              "      <td>голубой</td>\n",
              "      <td>715</td>\n",
              "      <td>t-shirt</td>\n",
              "    </tr>\n",
              "    <tr>\n",
              "      <th>3</th>\n",
              "      <td>блуза</td>\n",
              "      <td>f</td>\n",
              "      <td>1</td>\n",
              "      <td>зима</td>\n",
              "      <td>красный</td>\n",
              "      <td>767</td>\n",
              "      <td>блуза</td>\n",
              "    </tr>\n",
              "    <tr>\n",
              "      <th>4</th>\n",
              "      <td>водолазка</td>\n",
              "      <td>u</td>\n",
              "      <td>1</td>\n",
              "      <td>зима</td>\n",
              "      <td>оливкого-зелёный</td>\n",
              "      <td>1379</td>\n",
              "      <td>водолазка</td>\n",
              "    </tr>\n",
              "    <tr>\n",
              "      <th>...</th>\n",
              "      <td>...</td>\n",
              "      <td>...</td>\n",
              "      <td>...</td>\n",
              "      <td>...</td>\n",
              "      <td>...</td>\n",
              "      <td>...</td>\n",
              "      <td>...</td>\n",
              "    </tr>\n",
              "    <tr>\n",
              "      <th>130</th>\n",
              "      <td>без аксессуара на шею</td>\n",
              "      <td>u</td>\n",
              "      <td>9</td>\n",
              "      <td>демисезон</td>\n",
              "      <td>без цвета</td>\n",
              "      <td>0</td>\n",
              "      <td>без аксессуара на шею</td>\n",
              "    </tr>\n",
              "    <tr>\n",
              "      <th>131</th>\n",
              "      <td>без аксессуара на шею</td>\n",
              "      <td>u</td>\n",
              "      <td>9</td>\n",
              "      <td>лето</td>\n",
              "      <td>без цвета</td>\n",
              "      <td>0</td>\n",
              "      <td>без аксессуара на шею</td>\n",
              "    </tr>\n",
              "    <tr>\n",
              "      <th>132</th>\n",
              "      <td>без перчаток</td>\n",
              "      <td>u</td>\n",
              "      <td>10</td>\n",
              "      <td>зима</td>\n",
              "      <td>без цвета</td>\n",
              "      <td>0</td>\n",
              "      <td>без перчаток</td>\n",
              "    </tr>\n",
              "    <tr>\n",
              "      <th>133</th>\n",
              "      <td>без перчаток</td>\n",
              "      <td>u</td>\n",
              "      <td>10</td>\n",
              "      <td>демисезон</td>\n",
              "      <td>без цвета</td>\n",
              "      <td>0</td>\n",
              "      <td>без перчаток</td>\n",
              "    </tr>\n",
              "    <tr>\n",
              "      <th>134</th>\n",
              "      <td>без перчаток</td>\n",
              "      <td>u</td>\n",
              "      <td>10</td>\n",
              "      <td>лето</td>\n",
              "      <td>без цвета</td>\n",
              "      <td>0</td>\n",
              "      <td>без перчаток</td>\n",
              "    </tr>\n",
              "  </tbody>\n",
              "</table>\n",
              "<p>135 rows × 7 columns</p>\n",
              "</div>\n",
              "      <button class=\"colab-df-convert\" onclick=\"convertToInteractive('df-e112359b-40f7-4578-b14e-0a8d2cdde414')\"\n",
              "              title=\"Convert this dataframe to an interactive table.\"\n",
              "              style=\"display:none;\">\n",
              "        \n",
              "  <svg xmlns=\"http://www.w3.org/2000/svg\" height=\"24px\"viewBox=\"0 0 24 24\"\n",
              "       width=\"24px\">\n",
              "    <path d=\"M0 0h24v24H0V0z\" fill=\"none\"/>\n",
              "    <path d=\"M18.56 5.44l.94 2.06.94-2.06 2.06-.94-2.06-.94-.94-2.06-.94 2.06-2.06.94zm-11 1L8.5 8.5l.94-2.06 2.06-.94-2.06-.94L8.5 2.5l-.94 2.06-2.06.94zm10 10l.94 2.06.94-2.06 2.06-.94-2.06-.94-.94-2.06-.94 2.06-2.06.94z\"/><path d=\"M17.41 7.96l-1.37-1.37c-.4-.4-.92-.59-1.43-.59-.52 0-1.04.2-1.43.59L10.3 9.45l-7.72 7.72c-.78.78-.78 2.05 0 2.83L4 21.41c.39.39.9.59 1.41.59.51 0 1.02-.2 1.41-.59l7.78-7.78 2.81-2.81c.8-.78.8-2.07 0-2.86zM5.41 20L4 18.59l7.72-7.72 1.47 1.35L5.41 20z\"/>\n",
              "  </svg>\n",
              "      </button>\n",
              "      \n",
              "  <style>\n",
              "    .colab-df-container {\n",
              "      display:flex;\n",
              "      flex-wrap:wrap;\n",
              "      gap: 12px;\n",
              "    }\n",
              "\n",
              "    .colab-df-convert {\n",
              "      background-color: #E8F0FE;\n",
              "      border: none;\n",
              "      border-radius: 50%;\n",
              "      cursor: pointer;\n",
              "      display: none;\n",
              "      fill: #1967D2;\n",
              "      height: 32px;\n",
              "      padding: 0 0 0 0;\n",
              "      width: 32px;\n",
              "    }\n",
              "\n",
              "    .colab-df-convert:hover {\n",
              "      background-color: #E2EBFA;\n",
              "      box-shadow: 0px 1px 2px rgba(60, 64, 67, 0.3), 0px 1px 3px 1px rgba(60, 64, 67, 0.15);\n",
              "      fill: #174EA6;\n",
              "    }\n",
              "\n",
              "    [theme=dark] .colab-df-convert {\n",
              "      background-color: #3B4455;\n",
              "      fill: #D2E3FC;\n",
              "    }\n",
              "\n",
              "    [theme=dark] .colab-df-convert:hover {\n",
              "      background-color: #434B5C;\n",
              "      box-shadow: 0px 1px 3px 1px rgba(0, 0, 0, 0.15);\n",
              "      filter: drop-shadow(0px 1px 2px rgba(0, 0, 0, 0.3));\n",
              "      fill: #FFFFFF;\n",
              "    }\n",
              "  </style>\n",
              "\n",
              "      <script>\n",
              "        const buttonEl =\n",
              "          document.querySelector('#df-e112359b-40f7-4578-b14e-0a8d2cdde414 button.colab-df-convert');\n",
              "        buttonEl.style.display =\n",
              "          google.colab.kernel.accessAllowed ? 'block' : 'none';\n",
              "\n",
              "        async function convertToInteractive(key) {\n",
              "          const element = document.querySelector('#df-e112359b-40f7-4578-b14e-0a8d2cdde414');\n",
              "          const dataTable =\n",
              "            await google.colab.kernel.invokeFunction('convertToInteractive',\n",
              "                                                     [key], {});\n",
              "          if (!dataTable) return;\n",
              "\n",
              "          const docLinkHtml = 'Like what you see? Visit the ' +\n",
              "            '<a target=\"_blank\" href=https://colab.research.google.com/notebooks/data_table.ipynb>data table notebook</a>'\n",
              "            + ' to learn more about interactive tables.';\n",
              "          element.innerHTML = '';\n",
              "          dataTable['output_type'] = 'display_data';\n",
              "          await google.colab.output.renderOutput(dataTable, element);\n",
              "          const docLink = document.createElement('div');\n",
              "          docLink.innerHTML = docLinkHtml;\n",
              "          element.appendChild(docLink);\n",
              "        }\n",
              "      </script>\n",
              "    </div>\n",
              "  </div>\n",
              "  "
            ]
          },
          "metadata": {},
          "execution_count": 56
        }
      ]
    },
    {
      "cell_type": "code",
      "metadata": {
        "colab": {
          "base_uri": "https://localhost:8080/",
          "height": 332
        },
        "id": "Eo9LH1IH9isE",
        "outputId": "ad6b8709-235b-48b4-df32-831108886d61"
      },
      "source": [
        "df.loc[(df.price <= 5000) & (df.part == 4) & (df.color.isin([\"белый\", \"серый\"])), 'clothes'].reset_index()"
      ],
      "execution_count": null,
      "outputs": [
        {
          "output_type": "execute_result",
          "data": {
            "text/plain": [
              "   index     clothes\n",
              "0     26       брюки\n",
              "1     27      джинсы\n",
              "2     32  комбенизон\n",
              "3     78       брюки\n",
              "4     79      джинсы\n",
              "5     84  комбенизон\n",
              "6     96       брюки\n",
              "7     97      джинсы\n",
              "8    102  комбенизон"
            ],
            "text/html": [
              "\n",
              "  <div id=\"df-96a19827-d746-4e5d-95d9-29d5a3f62282\">\n",
              "    <div class=\"colab-df-container\">\n",
              "      <div>\n",
              "<style scoped>\n",
              "    .dataframe tbody tr th:only-of-type {\n",
              "        vertical-align: middle;\n",
              "    }\n",
              "\n",
              "    .dataframe tbody tr th {\n",
              "        vertical-align: top;\n",
              "    }\n",
              "\n",
              "    .dataframe thead th {\n",
              "        text-align: right;\n",
              "    }\n",
              "</style>\n",
              "<table border=\"1\" class=\"dataframe\">\n",
              "  <thead>\n",
              "    <tr style=\"text-align: right;\">\n",
              "      <th></th>\n",
              "      <th>index</th>\n",
              "      <th>clothes</th>\n",
              "    </tr>\n",
              "  </thead>\n",
              "  <tbody>\n",
              "    <tr>\n",
              "      <th>0</th>\n",
              "      <td>26</td>\n",
              "      <td>брюки</td>\n",
              "    </tr>\n",
              "    <tr>\n",
              "      <th>1</th>\n",
              "      <td>27</td>\n",
              "      <td>джинсы</td>\n",
              "    </tr>\n",
              "    <tr>\n",
              "      <th>2</th>\n",
              "      <td>32</td>\n",
              "      <td>комбенизон</td>\n",
              "    </tr>\n",
              "    <tr>\n",
              "      <th>3</th>\n",
              "      <td>78</td>\n",
              "      <td>брюки</td>\n",
              "    </tr>\n",
              "    <tr>\n",
              "      <th>4</th>\n",
              "      <td>79</td>\n",
              "      <td>джинсы</td>\n",
              "    </tr>\n",
              "    <tr>\n",
              "      <th>5</th>\n",
              "      <td>84</td>\n",
              "      <td>комбенизон</td>\n",
              "    </tr>\n",
              "    <tr>\n",
              "      <th>6</th>\n",
              "      <td>96</td>\n",
              "      <td>брюки</td>\n",
              "    </tr>\n",
              "    <tr>\n",
              "      <th>7</th>\n",
              "      <td>97</td>\n",
              "      <td>джинсы</td>\n",
              "    </tr>\n",
              "    <tr>\n",
              "      <th>8</th>\n",
              "      <td>102</td>\n",
              "      <td>комбенизон</td>\n",
              "    </tr>\n",
              "  </tbody>\n",
              "</table>\n",
              "</div>\n",
              "      <button class=\"colab-df-convert\" onclick=\"convertToInteractive('df-96a19827-d746-4e5d-95d9-29d5a3f62282')\"\n",
              "              title=\"Convert this dataframe to an interactive table.\"\n",
              "              style=\"display:none;\">\n",
              "        \n",
              "  <svg xmlns=\"http://www.w3.org/2000/svg\" height=\"24px\"viewBox=\"0 0 24 24\"\n",
              "       width=\"24px\">\n",
              "    <path d=\"M0 0h24v24H0V0z\" fill=\"none\"/>\n",
              "    <path d=\"M18.56 5.44l.94 2.06.94-2.06 2.06-.94-2.06-.94-.94-2.06-.94 2.06-2.06.94zm-11 1L8.5 8.5l.94-2.06 2.06-.94-2.06-.94L8.5 2.5l-.94 2.06-2.06.94zm10 10l.94 2.06.94-2.06 2.06-.94-2.06-.94-.94-2.06-.94 2.06-2.06.94z\"/><path d=\"M17.41 7.96l-1.37-1.37c-.4-.4-.92-.59-1.43-.59-.52 0-1.04.2-1.43.59L10.3 9.45l-7.72 7.72c-.78.78-.78 2.05 0 2.83L4 21.41c.39.39.9.59 1.41.59.51 0 1.02-.2 1.41-.59l7.78-7.78 2.81-2.81c.8-.78.8-2.07 0-2.86zM5.41 20L4 18.59l7.72-7.72 1.47 1.35L5.41 20z\"/>\n",
              "  </svg>\n",
              "      </button>\n",
              "      \n",
              "  <style>\n",
              "    .colab-df-container {\n",
              "      display:flex;\n",
              "      flex-wrap:wrap;\n",
              "      gap: 12px;\n",
              "    }\n",
              "\n",
              "    .colab-df-convert {\n",
              "      background-color: #E8F0FE;\n",
              "      border: none;\n",
              "      border-radius: 50%;\n",
              "      cursor: pointer;\n",
              "      display: none;\n",
              "      fill: #1967D2;\n",
              "      height: 32px;\n",
              "      padding: 0 0 0 0;\n",
              "      width: 32px;\n",
              "    }\n",
              "\n",
              "    .colab-df-convert:hover {\n",
              "      background-color: #E2EBFA;\n",
              "      box-shadow: 0px 1px 2px rgba(60, 64, 67, 0.3), 0px 1px 3px 1px rgba(60, 64, 67, 0.15);\n",
              "      fill: #174EA6;\n",
              "    }\n",
              "\n",
              "    [theme=dark] .colab-df-convert {\n",
              "      background-color: #3B4455;\n",
              "      fill: #D2E3FC;\n",
              "    }\n",
              "\n",
              "    [theme=dark] .colab-df-convert:hover {\n",
              "      background-color: #434B5C;\n",
              "      box-shadow: 0px 1px 3px 1px rgba(0, 0, 0, 0.15);\n",
              "      filter: drop-shadow(0px 1px 2px rgba(0, 0, 0, 0.3));\n",
              "      fill: #FFFFFF;\n",
              "    }\n",
              "  </style>\n",
              "\n",
              "      <script>\n",
              "        const buttonEl =\n",
              "          document.querySelector('#df-96a19827-d746-4e5d-95d9-29d5a3f62282 button.colab-df-convert');\n",
              "        buttonEl.style.display =\n",
              "          google.colab.kernel.accessAllowed ? 'block' : 'none';\n",
              "\n",
              "        async function convertToInteractive(key) {\n",
              "          const element = document.querySelector('#df-96a19827-d746-4e5d-95d9-29d5a3f62282');\n",
              "          const dataTable =\n",
              "            await google.colab.kernel.invokeFunction('convertToInteractive',\n",
              "                                                     [key], {});\n",
              "          if (!dataTable) return;\n",
              "\n",
              "          const docLinkHtml = 'Like what you see? Visit the ' +\n",
              "            '<a target=\"_blank\" href=https://colab.research.google.com/notebooks/data_table.ipynb>data table notebook</a>'\n",
              "            + ' to learn more about interactive tables.';\n",
              "          element.innerHTML = '';\n",
              "          dataTable['output_type'] = 'display_data';\n",
              "          await google.colab.output.renderOutput(dataTable, element);\n",
              "          const docLink = document.createElement('div');\n",
              "          docLink.innerHTML = docLinkHtml;\n",
              "          element.appendChild(docLink);\n",
              "        }\n",
              "      </script>\n",
              "    </div>\n",
              "  </div>\n",
              "  "
            ]
          },
          "metadata": {},
          "execution_count": 44
        }
      ]
    },
    {
      "cell_type": "code",
      "source": [
        "pd.DataFrame(df.loc[(df.price <= 5000) & (df.part == 4) & (df.color.isin([\"белый\", \"серый\"])), 'clothes'])"
      ],
      "metadata": {
        "colab": {
          "base_uri": "https://localhost:8080/",
          "height": 331
        },
        "id": "5qctjRY8j2ns",
        "outputId": "92db1b0e-a7a4-40ba-d2c4-c4a105ffc1c4"
      },
      "execution_count": null,
      "outputs": [
        {
          "output_type": "execute_result",
          "data": {
            "text/plain": [
              "        clothes\n",
              "26        брюки\n",
              "27       джинсы\n",
              "32   комбенизон\n",
              "78        брюки\n",
              "79       джинсы\n",
              "84   комбенизон\n",
              "96        брюки\n",
              "97       джинсы\n",
              "102  комбенизон"
            ],
            "text/html": [
              "\n",
              "  <div id=\"df-f7c67c75-ffa7-49cf-a1dd-705fee7d888b\">\n",
              "    <div class=\"colab-df-container\">\n",
              "      <div>\n",
              "<style scoped>\n",
              "    .dataframe tbody tr th:only-of-type {\n",
              "        vertical-align: middle;\n",
              "    }\n",
              "\n",
              "    .dataframe tbody tr th {\n",
              "        vertical-align: top;\n",
              "    }\n",
              "\n",
              "    .dataframe thead th {\n",
              "        text-align: right;\n",
              "    }\n",
              "</style>\n",
              "<table border=\"1\" class=\"dataframe\">\n",
              "  <thead>\n",
              "    <tr style=\"text-align: right;\">\n",
              "      <th></th>\n",
              "      <th>clothes</th>\n",
              "    </tr>\n",
              "  </thead>\n",
              "  <tbody>\n",
              "    <tr>\n",
              "      <th>26</th>\n",
              "      <td>брюки</td>\n",
              "    </tr>\n",
              "    <tr>\n",
              "      <th>27</th>\n",
              "      <td>джинсы</td>\n",
              "    </tr>\n",
              "    <tr>\n",
              "      <th>32</th>\n",
              "      <td>комбенизон</td>\n",
              "    </tr>\n",
              "    <tr>\n",
              "      <th>78</th>\n",
              "      <td>брюки</td>\n",
              "    </tr>\n",
              "    <tr>\n",
              "      <th>79</th>\n",
              "      <td>джинсы</td>\n",
              "    </tr>\n",
              "    <tr>\n",
              "      <th>84</th>\n",
              "      <td>комбенизон</td>\n",
              "    </tr>\n",
              "    <tr>\n",
              "      <th>96</th>\n",
              "      <td>брюки</td>\n",
              "    </tr>\n",
              "    <tr>\n",
              "      <th>97</th>\n",
              "      <td>джинсы</td>\n",
              "    </tr>\n",
              "    <tr>\n",
              "      <th>102</th>\n",
              "      <td>комбенизон</td>\n",
              "    </tr>\n",
              "  </tbody>\n",
              "</table>\n",
              "</div>\n",
              "      <button class=\"colab-df-convert\" onclick=\"convertToInteractive('df-f7c67c75-ffa7-49cf-a1dd-705fee7d888b')\"\n",
              "              title=\"Convert this dataframe to an interactive table.\"\n",
              "              style=\"display:none;\">\n",
              "        \n",
              "  <svg xmlns=\"http://www.w3.org/2000/svg\" height=\"24px\"viewBox=\"0 0 24 24\"\n",
              "       width=\"24px\">\n",
              "    <path d=\"M0 0h24v24H0V0z\" fill=\"none\"/>\n",
              "    <path d=\"M18.56 5.44l.94 2.06.94-2.06 2.06-.94-2.06-.94-.94-2.06-.94 2.06-2.06.94zm-11 1L8.5 8.5l.94-2.06 2.06-.94-2.06-.94L8.5 2.5l-.94 2.06-2.06.94zm10 10l.94 2.06.94-2.06 2.06-.94-2.06-.94-.94-2.06-.94 2.06-2.06.94z\"/><path d=\"M17.41 7.96l-1.37-1.37c-.4-.4-.92-.59-1.43-.59-.52 0-1.04.2-1.43.59L10.3 9.45l-7.72 7.72c-.78.78-.78 2.05 0 2.83L4 21.41c.39.39.9.59 1.41.59.51 0 1.02-.2 1.41-.59l7.78-7.78 2.81-2.81c.8-.78.8-2.07 0-2.86zM5.41 20L4 18.59l7.72-7.72 1.47 1.35L5.41 20z\"/>\n",
              "  </svg>\n",
              "      </button>\n",
              "      \n",
              "  <style>\n",
              "    .colab-df-container {\n",
              "      display:flex;\n",
              "      flex-wrap:wrap;\n",
              "      gap: 12px;\n",
              "    }\n",
              "\n",
              "    .colab-df-convert {\n",
              "      background-color: #E8F0FE;\n",
              "      border: none;\n",
              "      border-radius: 50%;\n",
              "      cursor: pointer;\n",
              "      display: none;\n",
              "      fill: #1967D2;\n",
              "      height: 32px;\n",
              "      padding: 0 0 0 0;\n",
              "      width: 32px;\n",
              "    }\n",
              "\n",
              "    .colab-df-convert:hover {\n",
              "      background-color: #E2EBFA;\n",
              "      box-shadow: 0px 1px 2px rgba(60, 64, 67, 0.3), 0px 1px 3px 1px rgba(60, 64, 67, 0.15);\n",
              "      fill: #174EA6;\n",
              "    }\n",
              "\n",
              "    [theme=dark] .colab-df-convert {\n",
              "      background-color: #3B4455;\n",
              "      fill: #D2E3FC;\n",
              "    }\n",
              "\n",
              "    [theme=dark] .colab-df-convert:hover {\n",
              "      background-color: #434B5C;\n",
              "      box-shadow: 0px 1px 3px 1px rgba(0, 0, 0, 0.15);\n",
              "      filter: drop-shadow(0px 1px 2px rgba(0, 0, 0, 0.3));\n",
              "      fill: #FFFFFF;\n",
              "    }\n",
              "  </style>\n",
              "\n",
              "      <script>\n",
              "        const buttonEl =\n",
              "          document.querySelector('#df-f7c67c75-ffa7-49cf-a1dd-705fee7d888b button.colab-df-convert');\n",
              "        buttonEl.style.display =\n",
              "          google.colab.kernel.accessAllowed ? 'block' : 'none';\n",
              "\n",
              "        async function convertToInteractive(key) {\n",
              "          const element = document.querySelector('#df-f7c67c75-ffa7-49cf-a1dd-705fee7d888b');\n",
              "          const dataTable =\n",
              "            await google.colab.kernel.invokeFunction('convertToInteractive',\n",
              "                                                     [key], {});\n",
              "          if (!dataTable) return;\n",
              "\n",
              "          const docLinkHtml = 'Like what you see? Visit the ' +\n",
              "            '<a target=\"_blank\" href=https://colab.research.google.com/notebooks/data_table.ipynb>data table notebook</a>'\n",
              "            + ' to learn more about interactive tables.';\n",
              "          element.innerHTML = '';\n",
              "          dataTable['output_type'] = 'display_data';\n",
              "          await google.colab.output.renderOutput(dataTable, element);\n",
              "          const docLink = document.createElement('div');\n",
              "          docLink.innerHTML = docLinkHtml;\n",
              "          element.appendChild(docLink);\n",
              "        }\n",
              "      </script>\n",
              "    </div>\n",
              "  </div>\n",
              "  "
            ]
          },
          "metadata": {},
          "execution_count": 40
        }
      ]
    },
    {
      "cell_type": "markdown",
      "metadata": {
        "id": "4KbVvl3U-SoX"
      },
      "source": [
        "Преобразовать значение выше в список"
      ]
    },
    {
      "cell_type": "code",
      "metadata": {
        "colab": {
          "base_uri": "https://localhost:8080/"
        },
        "id": "EsMkOCW6-Wtg",
        "outputId": "634176bf-1663-4c20-e120-9cb4621101d8"
      },
      "source": [
        "df.loc[(df.price <= 5000) & (df.part == 4) & (df.color.isin([\"белый\", \"серый\"])), 'clothes'].to_list()"
      ],
      "execution_count": null,
      "outputs": [
        {
          "output_type": "execute_result",
          "data": {
            "text/plain": [
              "['брюки',\n",
              " 'джинсы',\n",
              " 'комбенизон',\n",
              " 'брюки',\n",
              " 'джинсы',\n",
              " 'комбенизон',\n",
              " 'брюки',\n",
              " 'джинсы',\n",
              " 'комбенизон']"
            ]
          },
          "metadata": {},
          "execution_count": 41
        }
      ]
    },
    {
      "cell_type": "markdown",
      "metadata": {
        "id": "b6vmBqLJ-apZ"
      },
      "source": [
        "ИЛИ"
      ]
    },
    {
      "cell_type": "code",
      "metadata": {
        "colab": {
          "base_uri": "https://localhost:8080/"
        },
        "id": "-2jvH_ty-Yby",
        "outputId": "8297fffa-2bbe-4277-9ff8-9b0c936e0fa9"
      },
      "source": [
        "list(df.loc[(df.price <= 5000) & (df.part == 4) & (df.color.isin([\"белый\", \"серый\"]))].clothes)"
      ],
      "execution_count": null,
      "outputs": [
        {
          "output_type": "execute_result",
          "data": {
            "text/plain": [
              "['брюки',\n",
              " 'джинсы',\n",
              " 'комбенизон',\n",
              " 'брюки',\n",
              " 'джинсы',\n",
              " 'комбенизон',\n",
              " 'брюки',\n",
              " 'джинсы',\n",
              " 'комбенизон']"
            ]
          },
          "metadata": {},
          "execution_count": 71
        }
      ]
    },
    {
      "cell_type": "markdown",
      "metadata": {
        "id": "EJa2XbOC-hID"
      },
      "source": [
        "Получить уникальные значения колонки по условию"
      ]
    },
    {
      "cell_type": "code",
      "metadata": {
        "colab": {
          "base_uri": "https://localhost:8080/"
        },
        "id": "jZuf_Nzx-lEn",
        "outputId": "7d7435e8-7c86-4667-cb5e-b87c5abaa865"
      },
      "source": [
        "list(\n",
        "    set(\n",
        "        df.loc[(df.price <= 5000) & (df.part == 4) & (df.color.isin([\"белый\", \"серый\"]))].clothes\n",
        "        )\n",
        "    )\n",
        "# ИЛИ\n",
        "# list(set(df.loc[(df.price <= 5000) & (df.part == 4) & (df.color.isin([\"белый\", \"серый\"]))].clothes))"
      ],
      "execution_count": null,
      "outputs": [
        {
          "output_type": "execute_result",
          "data": {
            "text/plain": [
              "['комбенизон', 'джинсы', 'брюки']"
            ]
          },
          "metadata": {},
          "execution_count": 73
        }
      ]
    },
    {
      "cell_type": "code",
      "source": [
        "df.loc[(df.price <= 5000) & (df.part == 4) & (df.color.isin([\"белый\", \"серый\"]))].clothes.drop_duplicates().values"
      ],
      "metadata": {
        "colab": {
          "base_uri": "https://localhost:8080/"
        },
        "id": "Gnqk1MXsJmPD",
        "outputId": "1664a342-2f2f-4d2b-96a9-25f65c18a1ce"
      },
      "execution_count": null,
      "outputs": [
        {
          "output_type": "execute_result",
          "data": {
            "text/plain": [
              "array(['брюки', 'джинсы', 'комбенизон'], dtype=object)"
            ]
          },
          "metadata": {},
          "execution_count": 67
        }
      ]
    },
    {
      "cell_type": "markdown",
      "source": [
        "```\n",
        ".drop_duplicates().values == .unique()\n",
        "```"
      ],
      "metadata": {
        "id": "v9OtTffKkiq7"
      }
    },
    {
      "cell_type": "code",
      "source": [
        "df.loc[(df.price <= 5000) & (df.part == 4) & (df.color.isin([\"белый\", \"серый\"]))].clothes.unique()"
      ],
      "metadata": {
        "colab": {
          "base_uri": "https://localhost:8080/"
        },
        "id": "LEbxeyCQkNhc",
        "outputId": "55315586-61c5-4d01-dd29-2734d1f48d14"
      },
      "execution_count": null,
      "outputs": [
        {
          "output_type": "execute_result",
          "data": {
            "text/plain": [
              "array(['брюки', 'джинсы', 'комбенизон'], dtype=object)"
            ]
          },
          "metadata": {},
          "execution_count": 42
        }
      ]
    },
    {
      "cell_type": "markdown",
      "metadata": {
        "id": "2rkGvSU6SMg2"
      },
      "source": [
        "## Сортировка значений"
      ]
    },
    {
      "cell_type": "markdown",
      "metadata": {
        "id": "RmpctjGXSs-x"
      },
      "source": [
        "По возрастанию \n",
        "\n",
        "По полю `price`"
      ]
    },
    {
      "cell_type": "code",
      "metadata": {
        "id": "iRzrlEeF_FsS",
        "colab": {
          "base_uri": "https://localhost:8080/",
          "height": 257
        },
        "outputId": "a64fcd5a-1379-42cc-c0ba-243119778ab3"
      },
      "source": [
        "df.loc[(df.part==1) & (df.season=='зима')].sort_values('price')"
      ],
      "execution_count": null,
      "outputs": [
        {
          "output_type": "execute_result",
          "data": {
            "text/plain": [
              "      clothes sex  part season             color  price clothes_en\n",
              "2    футболка   u     1   зима           голубой    715    t-shirt\n",
              "3       блуза   f     1   зима           красный    767      блуза\n",
              "48   лонгслив   u     1   зима            чёрный    967   лонгслив\n",
              "49       поло   u     1   зима         салатовый   1088       поло\n",
              "0         топ   f     1   зима             серый   1305        top\n",
              "4   водолазка   u     1   зима  оливкого-зелёный   1379  водолазка\n",
              "1     рубашка   u     1   зима             серый   1969    рубашка"
            ],
            "text/html": [
              "\n",
              "  <div id=\"df-02d8a454-e38b-4c1b-aaa4-379e5a56ad7c\">\n",
              "    <div class=\"colab-df-container\">\n",
              "      <div>\n",
              "<style scoped>\n",
              "    .dataframe tbody tr th:only-of-type {\n",
              "        vertical-align: middle;\n",
              "    }\n",
              "\n",
              "    .dataframe tbody tr th {\n",
              "        vertical-align: top;\n",
              "    }\n",
              "\n",
              "    .dataframe thead th {\n",
              "        text-align: right;\n",
              "    }\n",
              "</style>\n",
              "<table border=\"1\" class=\"dataframe\">\n",
              "  <thead>\n",
              "    <tr style=\"text-align: right;\">\n",
              "      <th></th>\n",
              "      <th>clothes</th>\n",
              "      <th>sex</th>\n",
              "      <th>part</th>\n",
              "      <th>season</th>\n",
              "      <th>color</th>\n",
              "      <th>price</th>\n",
              "      <th>clothes_en</th>\n",
              "    </tr>\n",
              "  </thead>\n",
              "  <tbody>\n",
              "    <tr>\n",
              "      <th>2</th>\n",
              "      <td>футболка</td>\n",
              "      <td>u</td>\n",
              "      <td>1</td>\n",
              "      <td>зима</td>\n",
              "      <td>голубой</td>\n",
              "      <td>715</td>\n",
              "      <td>t-shirt</td>\n",
              "    </tr>\n",
              "    <tr>\n",
              "      <th>3</th>\n",
              "      <td>блуза</td>\n",
              "      <td>f</td>\n",
              "      <td>1</td>\n",
              "      <td>зима</td>\n",
              "      <td>красный</td>\n",
              "      <td>767</td>\n",
              "      <td>блуза</td>\n",
              "    </tr>\n",
              "    <tr>\n",
              "      <th>48</th>\n",
              "      <td>лонгслив</td>\n",
              "      <td>u</td>\n",
              "      <td>1</td>\n",
              "      <td>зима</td>\n",
              "      <td>чёрный</td>\n",
              "      <td>967</td>\n",
              "      <td>лонгслив</td>\n",
              "    </tr>\n",
              "    <tr>\n",
              "      <th>49</th>\n",
              "      <td>поло</td>\n",
              "      <td>u</td>\n",
              "      <td>1</td>\n",
              "      <td>зима</td>\n",
              "      <td>салатовый</td>\n",
              "      <td>1088</td>\n",
              "      <td>поло</td>\n",
              "    </tr>\n",
              "    <tr>\n",
              "      <th>0</th>\n",
              "      <td>топ</td>\n",
              "      <td>f</td>\n",
              "      <td>1</td>\n",
              "      <td>зима</td>\n",
              "      <td>серый</td>\n",
              "      <td>1305</td>\n",
              "      <td>top</td>\n",
              "    </tr>\n",
              "    <tr>\n",
              "      <th>4</th>\n",
              "      <td>водолазка</td>\n",
              "      <td>u</td>\n",
              "      <td>1</td>\n",
              "      <td>зима</td>\n",
              "      <td>оливкого-зелёный</td>\n",
              "      <td>1379</td>\n",
              "      <td>водолазка</td>\n",
              "    </tr>\n",
              "    <tr>\n",
              "      <th>1</th>\n",
              "      <td>рубашка</td>\n",
              "      <td>u</td>\n",
              "      <td>1</td>\n",
              "      <td>зима</td>\n",
              "      <td>серый</td>\n",
              "      <td>1969</td>\n",
              "      <td>рубашка</td>\n",
              "    </tr>\n",
              "  </tbody>\n",
              "</table>\n",
              "</div>\n",
              "      <button class=\"colab-df-convert\" onclick=\"convertToInteractive('df-02d8a454-e38b-4c1b-aaa4-379e5a56ad7c')\"\n",
              "              title=\"Convert this dataframe to an interactive table.\"\n",
              "              style=\"display:none;\">\n",
              "        \n",
              "  <svg xmlns=\"http://www.w3.org/2000/svg\" height=\"24px\"viewBox=\"0 0 24 24\"\n",
              "       width=\"24px\">\n",
              "    <path d=\"M0 0h24v24H0V0z\" fill=\"none\"/>\n",
              "    <path d=\"M18.56 5.44l.94 2.06.94-2.06 2.06-.94-2.06-.94-.94-2.06-.94 2.06-2.06.94zm-11 1L8.5 8.5l.94-2.06 2.06-.94-2.06-.94L8.5 2.5l-.94 2.06-2.06.94zm10 10l.94 2.06.94-2.06 2.06-.94-2.06-.94-.94-2.06-.94 2.06-2.06.94z\"/><path d=\"M17.41 7.96l-1.37-1.37c-.4-.4-.92-.59-1.43-.59-.52 0-1.04.2-1.43.59L10.3 9.45l-7.72 7.72c-.78.78-.78 2.05 0 2.83L4 21.41c.39.39.9.59 1.41.59.51 0 1.02-.2 1.41-.59l7.78-7.78 2.81-2.81c.8-.78.8-2.07 0-2.86zM5.41 20L4 18.59l7.72-7.72 1.47 1.35L5.41 20z\"/>\n",
              "  </svg>\n",
              "      </button>\n",
              "      \n",
              "  <style>\n",
              "    .colab-df-container {\n",
              "      display:flex;\n",
              "      flex-wrap:wrap;\n",
              "      gap: 12px;\n",
              "    }\n",
              "\n",
              "    .colab-df-convert {\n",
              "      background-color: #E8F0FE;\n",
              "      border: none;\n",
              "      border-radius: 50%;\n",
              "      cursor: pointer;\n",
              "      display: none;\n",
              "      fill: #1967D2;\n",
              "      height: 32px;\n",
              "      padding: 0 0 0 0;\n",
              "      width: 32px;\n",
              "    }\n",
              "\n",
              "    .colab-df-convert:hover {\n",
              "      background-color: #E2EBFA;\n",
              "      box-shadow: 0px 1px 2px rgba(60, 64, 67, 0.3), 0px 1px 3px 1px rgba(60, 64, 67, 0.15);\n",
              "      fill: #174EA6;\n",
              "    }\n",
              "\n",
              "    [theme=dark] .colab-df-convert {\n",
              "      background-color: #3B4455;\n",
              "      fill: #D2E3FC;\n",
              "    }\n",
              "\n",
              "    [theme=dark] .colab-df-convert:hover {\n",
              "      background-color: #434B5C;\n",
              "      box-shadow: 0px 1px 3px 1px rgba(0, 0, 0, 0.15);\n",
              "      filter: drop-shadow(0px 1px 2px rgba(0, 0, 0, 0.3));\n",
              "      fill: #FFFFFF;\n",
              "    }\n",
              "  </style>\n",
              "\n",
              "      <script>\n",
              "        const buttonEl =\n",
              "          document.querySelector('#df-02d8a454-e38b-4c1b-aaa4-379e5a56ad7c button.colab-df-convert');\n",
              "        buttonEl.style.display =\n",
              "          google.colab.kernel.accessAllowed ? 'block' : 'none';\n",
              "\n",
              "        async function convertToInteractive(key) {\n",
              "          const element = document.querySelector('#df-02d8a454-e38b-4c1b-aaa4-379e5a56ad7c');\n",
              "          const dataTable =\n",
              "            await google.colab.kernel.invokeFunction('convertToInteractive',\n",
              "                                                     [key], {});\n",
              "          if (!dataTable) return;\n",
              "\n",
              "          const docLinkHtml = 'Like what you see? Visit the ' +\n",
              "            '<a target=\"_blank\" href=https://colab.research.google.com/notebooks/data_table.ipynb>data table notebook</a>'\n",
              "            + ' to learn more about interactive tables.';\n",
              "          element.innerHTML = '';\n",
              "          dataTable['output_type'] = 'display_data';\n",
              "          await google.colab.output.renderOutput(dataTable, element);\n",
              "          const docLink = document.createElement('div');\n",
              "          docLink.innerHTML = docLinkHtml;\n",
              "          element.appendChild(docLink);\n",
              "        }\n",
              "      </script>\n",
              "    </div>\n",
              "  </div>\n",
              "  "
            ]
          },
          "metadata": {},
          "execution_count": 45
        }
      ]
    },
    {
      "cell_type": "code",
      "source": [
        "df.loc[(df.part==1) & (df.season=='зима'),'price'].sort_values()"
      ],
      "metadata": {
        "colab": {
          "base_uri": "https://localhost:8080/"
        },
        "id": "ZB998XZgkuxj",
        "outputId": "b922ffa5-9ab4-4759-a662-7c4d94827e79"
      },
      "execution_count": null,
      "outputs": [
        {
          "output_type": "execute_result",
          "data": {
            "text/plain": [
              "2      715\n",
              "3      767\n",
              "48     967\n",
              "49    1088\n",
              "0     1305\n",
              "4     1379\n",
              "1     1969\n",
              "Name: price, dtype: int64"
            ]
          },
          "metadata": {},
          "execution_count": 44
        }
      ]
    },
    {
      "cell_type": "markdown",
      "metadata": {
        "id": "-towsfCuSxvk"
      },
      "source": [
        "По убыванию\n",
        "\n",
        "По полю `price`"
      ]
    },
    {
      "cell_type": "code",
      "metadata": {
        "colab": {
          "base_uri": "https://localhost:8080/",
          "height": 263
        },
        "id": "yzjiyVaxSzC_",
        "outputId": "72ed40a5-4332-4ca6-95f3-dcf967d31a2e"
      },
      "source": [
        "df.loc[(df.part==1) & (df.season=='зима')].sort_values('price', ascending = False)"
      ],
      "execution_count": null,
      "outputs": [
        {
          "output_type": "execute_result",
          "data": {
            "text/html": [
              "<div>\n",
              "<style scoped>\n",
              "    .dataframe tbody tr th:only-of-type {\n",
              "        vertical-align: middle;\n",
              "    }\n",
              "\n",
              "    .dataframe tbody tr th {\n",
              "        vertical-align: top;\n",
              "    }\n",
              "\n",
              "    .dataframe thead th {\n",
              "        text-align: right;\n",
              "    }\n",
              "</style>\n",
              "<table border=\"1\" class=\"dataframe\">\n",
              "  <thead>\n",
              "    <tr style=\"text-align: right;\">\n",
              "      <th></th>\n",
              "      <th>clothes</th>\n",
              "      <th>sex</th>\n",
              "      <th>part</th>\n",
              "      <th>season</th>\n",
              "      <th>color</th>\n",
              "      <th>price</th>\n",
              "    </tr>\n",
              "  </thead>\n",
              "  <tbody>\n",
              "    <tr>\n",
              "      <th>1</th>\n",
              "      <td>рубашка</td>\n",
              "      <td>u</td>\n",
              "      <td>1</td>\n",
              "      <td>зима</td>\n",
              "      <td>серый</td>\n",
              "      <td>1969</td>\n",
              "    </tr>\n",
              "    <tr>\n",
              "      <th>4</th>\n",
              "      <td>водолазка</td>\n",
              "      <td>u</td>\n",
              "      <td>1</td>\n",
              "      <td>зима</td>\n",
              "      <td>оливкого-зелёный</td>\n",
              "      <td>1379</td>\n",
              "    </tr>\n",
              "    <tr>\n",
              "      <th>0</th>\n",
              "      <td>топ</td>\n",
              "      <td>f</td>\n",
              "      <td>1</td>\n",
              "      <td>зима</td>\n",
              "      <td>серый</td>\n",
              "      <td>1305</td>\n",
              "    </tr>\n",
              "    <tr>\n",
              "      <th>49</th>\n",
              "      <td>поло</td>\n",
              "      <td>u</td>\n",
              "      <td>1</td>\n",
              "      <td>зима</td>\n",
              "      <td>салатовый</td>\n",
              "      <td>1088</td>\n",
              "    </tr>\n",
              "    <tr>\n",
              "      <th>48</th>\n",
              "      <td>лонгслив</td>\n",
              "      <td>u</td>\n",
              "      <td>1</td>\n",
              "      <td>зима</td>\n",
              "      <td>чёрный</td>\n",
              "      <td>967</td>\n",
              "    </tr>\n",
              "    <tr>\n",
              "      <th>3</th>\n",
              "      <td>блуза</td>\n",
              "      <td>f</td>\n",
              "      <td>1</td>\n",
              "      <td>зима</td>\n",
              "      <td>красный</td>\n",
              "      <td>767</td>\n",
              "    </tr>\n",
              "    <tr>\n",
              "      <th>2</th>\n",
              "      <td>футболка</td>\n",
              "      <td>u</td>\n",
              "      <td>1</td>\n",
              "      <td>зима</td>\n",
              "      <td>голубой</td>\n",
              "      <td>715</td>\n",
              "    </tr>\n",
              "  </tbody>\n",
              "</table>\n",
              "</div>"
            ],
            "text/plain": [
              "      clothes sex  part season             color  price\n",
              "1     рубашка   u     1   зима             серый   1969\n",
              "4   водолазка   u     1   зима  оливкого-зелёный   1379\n",
              "0         топ   f     1   зима             серый   1305\n",
              "49       поло   u     1   зима         салатовый   1088\n",
              "48   лонгслив   u     1   зима            чёрный    967\n",
              "3       блуза   f     1   зима           красный    767\n",
              "2    футболка   u     1   зима           голубой    715"
            ]
          },
          "metadata": {},
          "execution_count": 8
        }
      ]
    },
    {
      "cell_type": "markdown",
      "metadata": {
        "id": "y2x4jI5tTJ6g"
      },
      "source": [
        "По возрастанию \n",
        "\n",
        "По текстовому полю `clothes`"
      ]
    },
    {
      "cell_type": "code",
      "metadata": {
        "colab": {
          "base_uri": "https://localhost:8080/",
          "height": 263
        },
        "id": "cm8_ZPEQTKVo",
        "outputId": "1f925944-cba0-43f6-9641-63e16dc52100"
      },
      "source": [
        "df.loc[(df.part==1) & (df.season=='зима')].sort_values('clothes')"
      ],
      "execution_count": null,
      "outputs": [
        {
          "output_type": "execute_result",
          "data": {
            "text/html": [
              "<div>\n",
              "<style scoped>\n",
              "    .dataframe tbody tr th:only-of-type {\n",
              "        vertical-align: middle;\n",
              "    }\n",
              "\n",
              "    .dataframe tbody tr th {\n",
              "        vertical-align: top;\n",
              "    }\n",
              "\n",
              "    .dataframe thead th {\n",
              "        text-align: right;\n",
              "    }\n",
              "</style>\n",
              "<table border=\"1\" class=\"dataframe\">\n",
              "  <thead>\n",
              "    <tr style=\"text-align: right;\">\n",
              "      <th></th>\n",
              "      <th>clothes</th>\n",
              "      <th>sex</th>\n",
              "      <th>part</th>\n",
              "      <th>season</th>\n",
              "      <th>color</th>\n",
              "      <th>price</th>\n",
              "    </tr>\n",
              "  </thead>\n",
              "  <tbody>\n",
              "    <tr>\n",
              "      <th>3</th>\n",
              "      <td>блуза</td>\n",
              "      <td>f</td>\n",
              "      <td>1</td>\n",
              "      <td>зима</td>\n",
              "      <td>красный</td>\n",
              "      <td>767</td>\n",
              "    </tr>\n",
              "    <tr>\n",
              "      <th>4</th>\n",
              "      <td>водолазка</td>\n",
              "      <td>u</td>\n",
              "      <td>1</td>\n",
              "      <td>зима</td>\n",
              "      <td>оливкого-зелёный</td>\n",
              "      <td>1379</td>\n",
              "    </tr>\n",
              "    <tr>\n",
              "      <th>48</th>\n",
              "      <td>лонгслив</td>\n",
              "      <td>u</td>\n",
              "      <td>1</td>\n",
              "      <td>зима</td>\n",
              "      <td>чёрный</td>\n",
              "      <td>967</td>\n",
              "    </tr>\n",
              "    <tr>\n",
              "      <th>49</th>\n",
              "      <td>поло</td>\n",
              "      <td>u</td>\n",
              "      <td>1</td>\n",
              "      <td>зима</td>\n",
              "      <td>салатовый</td>\n",
              "      <td>1088</td>\n",
              "    </tr>\n",
              "    <tr>\n",
              "      <th>1</th>\n",
              "      <td>рубашка</td>\n",
              "      <td>u</td>\n",
              "      <td>1</td>\n",
              "      <td>зима</td>\n",
              "      <td>серый</td>\n",
              "      <td>1969</td>\n",
              "    </tr>\n",
              "    <tr>\n",
              "      <th>0</th>\n",
              "      <td>топ</td>\n",
              "      <td>f</td>\n",
              "      <td>1</td>\n",
              "      <td>зима</td>\n",
              "      <td>серый</td>\n",
              "      <td>1305</td>\n",
              "    </tr>\n",
              "    <tr>\n",
              "      <th>2</th>\n",
              "      <td>футболка</td>\n",
              "      <td>u</td>\n",
              "      <td>1</td>\n",
              "      <td>зима</td>\n",
              "      <td>голубой</td>\n",
              "      <td>715</td>\n",
              "    </tr>\n",
              "  </tbody>\n",
              "</table>\n",
              "</div>"
            ],
            "text/plain": [
              "      clothes sex  part season             color  price\n",
              "3       блуза   f     1   зима           красный    767\n",
              "4   водолазка   u     1   зима  оливкого-зелёный   1379\n",
              "48   лонгслив   u     1   зима            чёрный    967\n",
              "49       поло   u     1   зима         салатовый   1088\n",
              "1     рубашка   u     1   зима             серый   1969\n",
              "0         топ   f     1   зима             серый   1305\n",
              "2    футболка   u     1   зима           голубой    715"
            ]
          },
          "metadata": {},
          "execution_count": 10
        }
      ]
    },
    {
      "cell_type": "markdown",
      "metadata": {
        "id": "jtpudOEWdIlS"
      },
      "source": [
        "## Агрегации полей"
      ]
    },
    {
      "cell_type": "markdown",
      "metadata": {
        "id": "8kov99_3dOh-"
      },
      "source": [
        "Сумма по полю"
      ]
    },
    {
      "cell_type": "code",
      "metadata": {
        "colab": {
          "base_uri": "https://localhost:8080/"
        },
        "id": "fZMi8kypdNyQ",
        "outputId": "a52f04c2-201a-4e00-ad6f-7a1508007498"
      },
      "source": [
        "df.price.sum()"
      ],
      "execution_count": null,
      "outputs": [
        {
          "output_type": "execute_result",
          "data": {
            "text/plain": [
              "417189"
            ]
          },
          "metadata": {},
          "execution_count": 68
        }
      ]
    },
    {
      "cell_type": "code",
      "source": [
        "df.describe()"
      ],
      "metadata": {
        "colab": {
          "base_uri": "https://localhost:8080/",
          "height": 300
        },
        "id": "OahtbslRKuCs",
        "outputId": "d4edda3d-e47e-450f-8244-00ee0611356d"
      },
      "execution_count": null,
      "outputs": [
        {
          "output_type": "execute_result",
          "data": {
            "text/plain": [
              "             part         price\n",
              "count  135.000000    135.000000\n",
              "mean     4.429630   3090.288889\n",
              "std      2.633143   3129.440100\n",
              "min      1.000000      0.000000\n",
              "25%      2.000000   1292.000000\n",
              "50%      4.000000   2263.000000\n",
              "75%      7.000000   3988.000000\n",
              "max     10.000000  14330.000000"
            ],
            "text/html": [
              "\n",
              "  <div id=\"df-613d65b1-39af-44eb-8673-08c860c2f756\">\n",
              "    <div class=\"colab-df-container\">\n",
              "      <div>\n",
              "<style scoped>\n",
              "    .dataframe tbody tr th:only-of-type {\n",
              "        vertical-align: middle;\n",
              "    }\n",
              "\n",
              "    .dataframe tbody tr th {\n",
              "        vertical-align: top;\n",
              "    }\n",
              "\n",
              "    .dataframe thead th {\n",
              "        text-align: right;\n",
              "    }\n",
              "</style>\n",
              "<table border=\"1\" class=\"dataframe\">\n",
              "  <thead>\n",
              "    <tr style=\"text-align: right;\">\n",
              "      <th></th>\n",
              "      <th>part</th>\n",
              "      <th>price</th>\n",
              "    </tr>\n",
              "  </thead>\n",
              "  <tbody>\n",
              "    <tr>\n",
              "      <th>count</th>\n",
              "      <td>135.000000</td>\n",
              "      <td>135.000000</td>\n",
              "    </tr>\n",
              "    <tr>\n",
              "      <th>mean</th>\n",
              "      <td>4.429630</td>\n",
              "      <td>3090.288889</td>\n",
              "    </tr>\n",
              "    <tr>\n",
              "      <th>std</th>\n",
              "      <td>2.633143</td>\n",
              "      <td>3129.440100</td>\n",
              "    </tr>\n",
              "    <tr>\n",
              "      <th>min</th>\n",
              "      <td>1.000000</td>\n",
              "      <td>0.000000</td>\n",
              "    </tr>\n",
              "    <tr>\n",
              "      <th>25%</th>\n",
              "      <td>2.000000</td>\n",
              "      <td>1292.000000</td>\n",
              "    </tr>\n",
              "    <tr>\n",
              "      <th>50%</th>\n",
              "      <td>4.000000</td>\n",
              "      <td>2263.000000</td>\n",
              "    </tr>\n",
              "    <tr>\n",
              "      <th>75%</th>\n",
              "      <td>7.000000</td>\n",
              "      <td>3988.000000</td>\n",
              "    </tr>\n",
              "    <tr>\n",
              "      <th>max</th>\n",
              "      <td>10.000000</td>\n",
              "      <td>14330.000000</td>\n",
              "    </tr>\n",
              "  </tbody>\n",
              "</table>\n",
              "</div>\n",
              "      <button class=\"colab-df-convert\" onclick=\"convertToInteractive('df-613d65b1-39af-44eb-8673-08c860c2f756')\"\n",
              "              title=\"Convert this dataframe to an interactive table.\"\n",
              "              style=\"display:none;\">\n",
              "        \n",
              "  <svg xmlns=\"http://www.w3.org/2000/svg\" height=\"24px\"viewBox=\"0 0 24 24\"\n",
              "       width=\"24px\">\n",
              "    <path d=\"M0 0h24v24H0V0z\" fill=\"none\"/>\n",
              "    <path d=\"M18.56 5.44l.94 2.06.94-2.06 2.06-.94-2.06-.94-.94-2.06-.94 2.06-2.06.94zm-11 1L8.5 8.5l.94-2.06 2.06-.94-2.06-.94L8.5 2.5l-.94 2.06-2.06.94zm10 10l.94 2.06.94-2.06 2.06-.94-2.06-.94-.94-2.06-.94 2.06-2.06.94z\"/><path d=\"M17.41 7.96l-1.37-1.37c-.4-.4-.92-.59-1.43-.59-.52 0-1.04.2-1.43.59L10.3 9.45l-7.72 7.72c-.78.78-.78 2.05 0 2.83L4 21.41c.39.39.9.59 1.41.59.51 0 1.02-.2 1.41-.59l7.78-7.78 2.81-2.81c.8-.78.8-2.07 0-2.86zM5.41 20L4 18.59l7.72-7.72 1.47 1.35L5.41 20z\"/>\n",
              "  </svg>\n",
              "      </button>\n",
              "      \n",
              "  <style>\n",
              "    .colab-df-container {\n",
              "      display:flex;\n",
              "      flex-wrap:wrap;\n",
              "      gap: 12px;\n",
              "    }\n",
              "\n",
              "    .colab-df-convert {\n",
              "      background-color: #E8F0FE;\n",
              "      border: none;\n",
              "      border-radius: 50%;\n",
              "      cursor: pointer;\n",
              "      display: none;\n",
              "      fill: #1967D2;\n",
              "      height: 32px;\n",
              "      padding: 0 0 0 0;\n",
              "      width: 32px;\n",
              "    }\n",
              "\n",
              "    .colab-df-convert:hover {\n",
              "      background-color: #E2EBFA;\n",
              "      box-shadow: 0px 1px 2px rgba(60, 64, 67, 0.3), 0px 1px 3px 1px rgba(60, 64, 67, 0.15);\n",
              "      fill: #174EA6;\n",
              "    }\n",
              "\n",
              "    [theme=dark] .colab-df-convert {\n",
              "      background-color: #3B4455;\n",
              "      fill: #D2E3FC;\n",
              "    }\n",
              "\n",
              "    [theme=dark] .colab-df-convert:hover {\n",
              "      background-color: #434B5C;\n",
              "      box-shadow: 0px 1px 3px 1px rgba(0, 0, 0, 0.15);\n",
              "      filter: drop-shadow(0px 1px 2px rgba(0, 0, 0, 0.3));\n",
              "      fill: #FFFFFF;\n",
              "    }\n",
              "  </style>\n",
              "\n",
              "      <script>\n",
              "        const buttonEl =\n",
              "          document.querySelector('#df-613d65b1-39af-44eb-8673-08c860c2f756 button.colab-df-convert');\n",
              "        buttonEl.style.display =\n",
              "          google.colab.kernel.accessAllowed ? 'block' : 'none';\n",
              "\n",
              "        async function convertToInteractive(key) {\n",
              "          const element = document.querySelector('#df-613d65b1-39af-44eb-8673-08c860c2f756');\n",
              "          const dataTable =\n",
              "            await google.colab.kernel.invokeFunction('convertToInteractive',\n",
              "                                                     [key], {});\n",
              "          if (!dataTable) return;\n",
              "\n",
              "          const docLinkHtml = 'Like what you see? Visit the ' +\n",
              "            '<a target=\"_blank\" href=https://colab.research.google.com/notebooks/data_table.ipynb>data table notebook</a>'\n",
              "            + ' to learn more about interactive tables.';\n",
              "          element.innerHTML = '';\n",
              "          dataTable['output_type'] = 'display_data';\n",
              "          await google.colab.output.renderOutput(dataTable, element);\n",
              "          const docLink = document.createElement('div');\n",
              "          docLink.innerHTML = docLinkHtml;\n",
              "          element.appendChild(docLink);\n",
              "        }\n",
              "      </script>\n",
              "    </div>\n",
              "  </div>\n",
              "  "
            ]
          },
          "metadata": {},
          "execution_count": 73
        }
      ]
    },
    {
      "cell_type": "markdown",
      "metadata": {
        "id": "AgyVGIEzdTxY"
      },
      "source": [
        "Среднее по полю"
      ]
    },
    {
      "cell_type": "code",
      "metadata": {
        "colab": {
          "base_uri": "https://localhost:8080/"
        },
        "id": "AzVWKUxadYb0",
        "outputId": "f6aabfe4-fb9f-4a9b-9f11-69598c14ac66"
      },
      "source": [
        "df.price.mean()"
      ],
      "execution_count": null,
      "outputs": [
        {
          "output_type": "execute_result",
          "data": {
            "text/plain": [
              "3090.288888888889"
            ]
          },
          "metadata": {},
          "execution_count": 6
        }
      ]
    },
    {
      "cell_type": "code",
      "source": [
        "df_temp = pd.DataFrame({'a':[1,2,3], 'b':[4,5,6]})\n",
        "df_temp\n",
        "df_temp['c'] = df_temp[['a', 'b']].mean(axis = 1)"
      ],
      "metadata": {
        "id": "NUp4dKKTQz6R"
      },
      "execution_count": null,
      "outputs": []
    },
    {
      "cell_type": "markdown",
      "metadata": {
        "id": "hHXSpp79dgRX"
      },
      "source": [
        "Минимальное по полю"
      ]
    },
    {
      "cell_type": "code",
      "metadata": {
        "colab": {
          "base_uri": "https://localhost:8080/"
        },
        "id": "_CbQ1YHPdbVC",
        "outputId": "df77da02-2df3-47cd-8cc5-c1e999e8d9bd"
      },
      "source": [
        "df.price.min()"
      ],
      "execution_count": null,
      "outputs": [
        {
          "output_type": "execute_result",
          "data": {
            "text/plain": [
              "0"
            ]
          },
          "metadata": {},
          "execution_count": 7
        }
      ]
    },
    {
      "cell_type": "markdown",
      "metadata": {
        "id": "e2QZ-MdkdiNH"
      },
      "source": [
        "Максимальное по полю"
      ]
    },
    {
      "cell_type": "code",
      "metadata": {
        "colab": {
          "base_uri": "https://localhost:8080/"
        },
        "id": "dUUODK-oddhm",
        "outputId": "caafb639-7785-439e-aac0-e6284e069975"
      },
      "source": [
        "df.price.max()"
      ],
      "execution_count": null,
      "outputs": [
        {
          "output_type": "execute_result",
          "data": {
            "text/plain": [
              "14330"
            ]
          },
          "metadata": {},
          "execution_count": 8
        }
      ]
    },
    {
      "cell_type": "markdown",
      "metadata": {
        "id": "kH4PoYxj6cci"
      },
      "source": [
        "Количество значений поля"
      ]
    },
    {
      "cell_type": "code",
      "metadata": {
        "colab": {
          "base_uri": "https://localhost:8080/"
        },
        "id": "MDrITnum6lB6",
        "outputId": "6f6687ac-6711-4f61-d1e9-ddfa75469ebd"
      },
      "source": [
        "df.price.count()"
      ],
      "execution_count": null,
      "outputs": [
        {
          "output_type": "execute_result",
          "data": {
            "text/plain": [
              "135"
            ]
          },
          "metadata": {},
          "execution_count": 4
        }
      ]
    },
    {
      "cell_type": "markdown",
      "metadata": {
        "id": "P3ka0gYl7iTC"
      },
      "source": [
        "Количество уникальных значений поля"
      ]
    },
    {
      "cell_type": "code",
      "metadata": {
        "colab": {
          "base_uri": "https://localhost:8080/"
        },
        "id": "ytpd64XZ6pKK",
        "outputId": "9a68230f-6c77-450e-cea6-8e6562d92534"
      },
      "source": [
        "df.price.nunique()"
      ],
      "execution_count": null,
      "outputs": [
        {
          "output_type": "execute_result",
          "data": {
            "text/plain": [
              "52"
            ]
          },
          "metadata": {},
          "execution_count": 7
        }
      ]
    },
    {
      "cell_type": "markdown",
      "metadata": {
        "id": "c7GY458kcv-f"
      },
      "source": [
        "## Группировка значений по полю"
      ]
    },
    {
      "cell_type": "markdown",
      "metadata": {
        "id": "-7YKLp0ec2ga"
      },
      "source": [
        "Например, перед нами стоит задача получить среднюю стоимость одежды каждой части гардероба. В этом нам поможет конструкция `groupby()`, где в скобках указываем название колонки в кавычках.\n",
        "\n",
        "Следом должна идти функция агрегации:\n",
        "\n",
        "|функция агрегации|обозначение|\n",
        "|:---|:---|\n",
        "|`sum()`| сумма\n",
        "|`mean()`|среднее\n",
        "|`median()`|медиана\n",
        "|`min()`|минимум\n",
        "|`max()`|максимум\n",
        "|`count()`| количество\n",
        "|`nunique()`|количество уникальных"
      ]
    },
    {
      "cell_type": "code",
      "metadata": {
        "colab": {
          "base_uri": "https://localhost:8080/",
          "height": 143
        },
        "id": "0eRJYZu9c1Ik",
        "outputId": "5ef31c30-0a96-4d2b-a041-fc95fc49c036"
      },
      "source": [
        "df.groupby('sex').mean()"
      ],
      "execution_count": null,
      "outputs": [
        {
          "output_type": "execute_result",
          "data": {
            "text/plain": [
              "         part        price\n",
              "sex                       \n",
              "f    2.875000  2704.375000\n",
              "u    4.638655  3142.176471"
            ],
            "text/html": [
              "\n",
              "  <div id=\"df-371834cb-342c-4aae-8ec5-bd67e7c248b7\">\n",
              "    <div class=\"colab-df-container\">\n",
              "      <div>\n",
              "<style scoped>\n",
              "    .dataframe tbody tr th:only-of-type {\n",
              "        vertical-align: middle;\n",
              "    }\n",
              "\n",
              "    .dataframe tbody tr th {\n",
              "        vertical-align: top;\n",
              "    }\n",
              "\n",
              "    .dataframe thead th {\n",
              "        text-align: right;\n",
              "    }\n",
              "</style>\n",
              "<table border=\"1\" class=\"dataframe\">\n",
              "  <thead>\n",
              "    <tr style=\"text-align: right;\">\n",
              "      <th></th>\n",
              "      <th>part</th>\n",
              "      <th>price</th>\n",
              "    </tr>\n",
              "    <tr>\n",
              "      <th>sex</th>\n",
              "      <th></th>\n",
              "      <th></th>\n",
              "    </tr>\n",
              "  </thead>\n",
              "  <tbody>\n",
              "    <tr>\n",
              "      <th>f</th>\n",
              "      <td>2.875000</td>\n",
              "      <td>2704.375000</td>\n",
              "    </tr>\n",
              "    <tr>\n",
              "      <th>u</th>\n",
              "      <td>4.638655</td>\n",
              "      <td>3142.176471</td>\n",
              "    </tr>\n",
              "  </tbody>\n",
              "</table>\n",
              "</div>\n",
              "      <button class=\"colab-df-convert\" onclick=\"convertToInteractive('df-371834cb-342c-4aae-8ec5-bd67e7c248b7')\"\n",
              "              title=\"Convert this dataframe to an interactive table.\"\n",
              "              style=\"display:none;\">\n",
              "        \n",
              "  <svg xmlns=\"http://www.w3.org/2000/svg\" height=\"24px\"viewBox=\"0 0 24 24\"\n",
              "       width=\"24px\">\n",
              "    <path d=\"M0 0h24v24H0V0z\" fill=\"none\"/>\n",
              "    <path d=\"M18.56 5.44l.94 2.06.94-2.06 2.06-.94-2.06-.94-.94-2.06-.94 2.06-2.06.94zm-11 1L8.5 8.5l.94-2.06 2.06-.94-2.06-.94L8.5 2.5l-.94 2.06-2.06.94zm10 10l.94 2.06.94-2.06 2.06-.94-2.06-.94-.94-2.06-.94 2.06-2.06.94z\"/><path d=\"M17.41 7.96l-1.37-1.37c-.4-.4-.92-.59-1.43-.59-.52 0-1.04.2-1.43.59L10.3 9.45l-7.72 7.72c-.78.78-.78 2.05 0 2.83L4 21.41c.39.39.9.59 1.41.59.51 0 1.02-.2 1.41-.59l7.78-7.78 2.81-2.81c.8-.78.8-2.07 0-2.86zM5.41 20L4 18.59l7.72-7.72 1.47 1.35L5.41 20z\"/>\n",
              "  </svg>\n",
              "      </button>\n",
              "      \n",
              "  <style>\n",
              "    .colab-df-container {\n",
              "      display:flex;\n",
              "      flex-wrap:wrap;\n",
              "      gap: 12px;\n",
              "    }\n",
              "\n",
              "    .colab-df-convert {\n",
              "      background-color: #E8F0FE;\n",
              "      border: none;\n",
              "      border-radius: 50%;\n",
              "      cursor: pointer;\n",
              "      display: none;\n",
              "      fill: #1967D2;\n",
              "      height: 32px;\n",
              "      padding: 0 0 0 0;\n",
              "      width: 32px;\n",
              "    }\n",
              "\n",
              "    .colab-df-convert:hover {\n",
              "      background-color: #E2EBFA;\n",
              "      box-shadow: 0px 1px 2px rgba(60, 64, 67, 0.3), 0px 1px 3px 1px rgba(60, 64, 67, 0.15);\n",
              "      fill: #174EA6;\n",
              "    }\n",
              "\n",
              "    [theme=dark] .colab-df-convert {\n",
              "      background-color: #3B4455;\n",
              "      fill: #D2E3FC;\n",
              "    }\n",
              "\n",
              "    [theme=dark] .colab-df-convert:hover {\n",
              "      background-color: #434B5C;\n",
              "      box-shadow: 0px 1px 3px 1px rgba(0, 0, 0, 0.15);\n",
              "      filter: drop-shadow(0px 1px 2px rgba(0, 0, 0, 0.3));\n",
              "      fill: #FFFFFF;\n",
              "    }\n",
              "  </style>\n",
              "\n",
              "      <script>\n",
              "        const buttonEl =\n",
              "          document.querySelector('#df-371834cb-342c-4aae-8ec5-bd67e7c248b7 button.colab-df-convert');\n",
              "        buttonEl.style.display =\n",
              "          google.colab.kernel.accessAllowed ? 'block' : 'none';\n",
              "\n",
              "        async function convertToInteractive(key) {\n",
              "          const element = document.querySelector('#df-371834cb-342c-4aae-8ec5-bd67e7c248b7');\n",
              "          const dataTable =\n",
              "            await google.colab.kernel.invokeFunction('convertToInteractive',\n",
              "                                                     [key], {});\n",
              "          if (!dataTable) return;\n",
              "\n",
              "          const docLinkHtml = 'Like what you see? Visit the ' +\n",
              "            '<a target=\"_blank\" href=https://colab.research.google.com/notebooks/data_table.ipynb>data table notebook</a>'\n",
              "            + ' to learn more about interactive tables.';\n",
              "          element.innerHTML = '';\n",
              "          dataTable['output_type'] = 'display_data';\n",
              "          await google.colab.output.renderOutput(dataTable, element);\n",
              "          const docLink = document.createElement('div');\n",
              "          docLink.innerHTML = docLinkHtml;\n",
              "          element.appendChild(docLink);\n",
              "        }\n",
              "      </script>\n",
              "    </div>\n",
              "  </div>\n",
              "  "
            ]
          },
          "metadata": {},
          "execution_count": 47
        }
      ]
    },
    {
      "cell_type": "markdown",
      "metadata": {
        "id": "lU0cv3_4d9F7"
      },
      "source": [
        "Чтобы колонка, по которой производилась группировка была снова доступна, нужно сбросить индекс через `reset_index()`"
      ]
    },
    {
      "cell_type": "code",
      "metadata": {
        "colab": {
          "base_uri": "https://localhost:8080/",
          "height": 363
        },
        "id": "YC_e7wTveFPs",
        "outputId": "df8e5603-32e3-489d-e6ec-7735eddf4da2"
      },
      "source": [
        "df.groupby('part').mean().reset_index()\n",
        "# .set_index('part')"
      ],
      "execution_count": null,
      "outputs": [
        {
          "output_type": "execute_result",
          "data": {
            "text/plain": [
              "   part        price\n",
              "0     1  1203.529412\n",
              "1     2  2771.500000\n",
              "2     3  3458.684211\n",
              "3     4  3684.833333\n",
              "4     5  1808.000000\n",
              "5     6  1000.000000\n",
              "6     7  1018.000000\n",
              "7     8  8867.117647\n",
              "8     9   708.000000\n",
              "9    10   225.000000"
            ],
            "text/html": [
              "\n",
              "  <div id=\"df-662ac349-f396-47f5-a30d-6508e6243a50\">\n",
              "    <div class=\"colab-df-container\">\n",
              "      <div>\n",
              "<style scoped>\n",
              "    .dataframe tbody tr th:only-of-type {\n",
              "        vertical-align: middle;\n",
              "    }\n",
              "\n",
              "    .dataframe tbody tr th {\n",
              "        vertical-align: top;\n",
              "    }\n",
              "\n",
              "    .dataframe thead th {\n",
              "        text-align: right;\n",
              "    }\n",
              "</style>\n",
              "<table border=\"1\" class=\"dataframe\">\n",
              "  <thead>\n",
              "    <tr style=\"text-align: right;\">\n",
              "      <th></th>\n",
              "      <th>part</th>\n",
              "      <th>price</th>\n",
              "    </tr>\n",
              "  </thead>\n",
              "  <tbody>\n",
              "    <tr>\n",
              "      <th>0</th>\n",
              "      <td>1</td>\n",
              "      <td>1203.529412</td>\n",
              "    </tr>\n",
              "    <tr>\n",
              "      <th>1</th>\n",
              "      <td>2</td>\n",
              "      <td>2771.500000</td>\n",
              "    </tr>\n",
              "    <tr>\n",
              "      <th>2</th>\n",
              "      <td>3</td>\n",
              "      <td>3458.684211</td>\n",
              "    </tr>\n",
              "    <tr>\n",
              "      <th>3</th>\n",
              "      <td>4</td>\n",
              "      <td>3684.833333</td>\n",
              "    </tr>\n",
              "    <tr>\n",
              "      <th>4</th>\n",
              "      <td>5</td>\n",
              "      <td>1808.000000</td>\n",
              "    </tr>\n",
              "    <tr>\n",
              "      <th>5</th>\n",
              "      <td>6</td>\n",
              "      <td>1000.000000</td>\n",
              "    </tr>\n",
              "    <tr>\n",
              "      <th>6</th>\n",
              "      <td>7</td>\n",
              "      <td>1018.000000</td>\n",
              "    </tr>\n",
              "    <tr>\n",
              "      <th>7</th>\n",
              "      <td>8</td>\n",
              "      <td>8867.117647</td>\n",
              "    </tr>\n",
              "    <tr>\n",
              "      <th>8</th>\n",
              "      <td>9</td>\n",
              "      <td>708.000000</td>\n",
              "    </tr>\n",
              "    <tr>\n",
              "      <th>9</th>\n",
              "      <td>10</td>\n",
              "      <td>225.000000</td>\n",
              "    </tr>\n",
              "  </tbody>\n",
              "</table>\n",
              "</div>\n",
              "      <button class=\"colab-df-convert\" onclick=\"convertToInteractive('df-662ac349-f396-47f5-a30d-6508e6243a50')\"\n",
              "              title=\"Convert this dataframe to an interactive table.\"\n",
              "              style=\"display:none;\">\n",
              "        \n",
              "  <svg xmlns=\"http://www.w3.org/2000/svg\" height=\"24px\"viewBox=\"0 0 24 24\"\n",
              "       width=\"24px\">\n",
              "    <path d=\"M0 0h24v24H0V0z\" fill=\"none\"/>\n",
              "    <path d=\"M18.56 5.44l.94 2.06.94-2.06 2.06-.94-2.06-.94-.94-2.06-.94 2.06-2.06.94zm-11 1L8.5 8.5l.94-2.06 2.06-.94-2.06-.94L8.5 2.5l-.94 2.06-2.06.94zm10 10l.94 2.06.94-2.06 2.06-.94-2.06-.94-.94-2.06-.94 2.06-2.06.94z\"/><path d=\"M17.41 7.96l-1.37-1.37c-.4-.4-.92-.59-1.43-.59-.52 0-1.04.2-1.43.59L10.3 9.45l-7.72 7.72c-.78.78-.78 2.05 0 2.83L4 21.41c.39.39.9.59 1.41.59.51 0 1.02-.2 1.41-.59l7.78-7.78 2.81-2.81c.8-.78.8-2.07 0-2.86zM5.41 20L4 18.59l7.72-7.72 1.47 1.35L5.41 20z\"/>\n",
              "  </svg>\n",
              "      </button>\n",
              "      \n",
              "  <style>\n",
              "    .colab-df-container {\n",
              "      display:flex;\n",
              "      flex-wrap:wrap;\n",
              "      gap: 12px;\n",
              "    }\n",
              "\n",
              "    .colab-df-convert {\n",
              "      background-color: #E8F0FE;\n",
              "      border: none;\n",
              "      border-radius: 50%;\n",
              "      cursor: pointer;\n",
              "      display: none;\n",
              "      fill: #1967D2;\n",
              "      height: 32px;\n",
              "      padding: 0 0 0 0;\n",
              "      width: 32px;\n",
              "    }\n",
              "\n",
              "    .colab-df-convert:hover {\n",
              "      background-color: #E2EBFA;\n",
              "      box-shadow: 0px 1px 2px rgba(60, 64, 67, 0.3), 0px 1px 3px 1px rgba(60, 64, 67, 0.15);\n",
              "      fill: #174EA6;\n",
              "    }\n",
              "\n",
              "    [theme=dark] .colab-df-convert {\n",
              "      background-color: #3B4455;\n",
              "      fill: #D2E3FC;\n",
              "    }\n",
              "\n",
              "    [theme=dark] .colab-df-convert:hover {\n",
              "      background-color: #434B5C;\n",
              "      box-shadow: 0px 1px 3px 1px rgba(0, 0, 0, 0.15);\n",
              "      filter: drop-shadow(0px 1px 2px rgba(0, 0, 0, 0.3));\n",
              "      fill: #FFFFFF;\n",
              "    }\n",
              "  </style>\n",
              "\n",
              "      <script>\n",
              "        const buttonEl =\n",
              "          document.querySelector('#df-662ac349-f396-47f5-a30d-6508e6243a50 button.colab-df-convert');\n",
              "        buttonEl.style.display =\n",
              "          google.colab.kernel.accessAllowed ? 'block' : 'none';\n",
              "\n",
              "        async function convertToInteractive(key) {\n",
              "          const element = document.querySelector('#df-662ac349-f396-47f5-a30d-6508e6243a50');\n",
              "          const dataTable =\n",
              "            await google.colab.kernel.invokeFunction('convertToInteractive',\n",
              "                                                     [key], {});\n",
              "          if (!dataTable) return;\n",
              "\n",
              "          const docLinkHtml = 'Like what you see? Visit the ' +\n",
              "            '<a target=\"_blank\" href=https://colab.research.google.com/notebooks/data_table.ipynb>data table notebook</a>'\n",
              "            + ' to learn more about interactive tables.';\n",
              "          element.innerHTML = '';\n",
              "          dataTable['output_type'] = 'display_data';\n",
              "          await google.colab.output.renderOutput(dataTable, element);\n",
              "          const docLink = document.createElement('div');\n",
              "          docLink.innerHTML = docLinkHtml;\n",
              "          element.appendChild(docLink);\n",
              "        }\n",
              "      </script>\n",
              "    </div>\n",
              "  </div>\n",
              "  "
            ]
          },
          "metadata": {},
          "execution_count": 51
        }
      ]
    },
    {
      "cell_type": "markdown",
      "metadata": {
        "id": "g5Ow-U1qbd0O"
      },
      "source": [
        "Получим количество уникальных значений по частям одежды. То есть, сами предметы гардероба не будут повторяться, как это было в исходных данных (например, по всем сезонам)"
      ]
    },
    {
      "cell_type": "code",
      "metadata": {
        "id": "4AjUxCbXeIrl",
        "colab": {
          "base_uri": "https://localhost:8080/",
          "height": 355
        },
        "outputId": "202ee703-4a4d-4140-84fe-3c84029948f0"
      },
      "source": [
        "df.groupby('part').nunique()"
      ],
      "execution_count": null,
      "outputs": [
        {
          "output_type": "execute_result",
          "data": {
            "text/html": [
              "<div>\n",
              "<style scoped>\n",
              "    .dataframe tbody tr th:only-of-type {\n",
              "        vertical-align: middle;\n",
              "    }\n",
              "\n",
              "    .dataframe tbody tr th {\n",
              "        vertical-align: top;\n",
              "    }\n",
              "\n",
              "    .dataframe thead th {\n",
              "        text-align: right;\n",
              "    }\n",
              "</style>\n",
              "<table border=\"1\" class=\"dataframe\">\n",
              "  <thead>\n",
              "    <tr style=\"text-align: right;\">\n",
              "      <th></th>\n",
              "      <th>part</th>\n",
              "      <th>clothes</th>\n",
              "      <th>sex</th>\n",
              "      <th>season</th>\n",
              "      <th>color</th>\n",
              "      <th>price</th>\n",
              "    </tr>\n",
              "  </thead>\n",
              "  <tbody>\n",
              "    <tr>\n",
              "      <th>0</th>\n",
              "      <td>1</td>\n",
              "      <td>7</td>\n",
              "      <td>2</td>\n",
              "      <td>3</td>\n",
              "      <td>6</td>\n",
              "      <td>7</td>\n",
              "    </tr>\n",
              "    <tr>\n",
              "      <th>1</th>\n",
              "      <td>2</td>\n",
              "      <td>8</td>\n",
              "      <td>1</td>\n",
              "      <td>3</td>\n",
              "      <td>6</td>\n",
              "      <td>8</td>\n",
              "    </tr>\n",
              "    <tr>\n",
              "      <th>2</th>\n",
              "      <td>3</td>\n",
              "      <td>9</td>\n",
              "      <td>2</td>\n",
              "      <td>3</td>\n",
              "      <td>7</td>\n",
              "      <td>9</td>\n",
              "    </tr>\n",
              "    <tr>\n",
              "      <th>3</th>\n",
              "      <td>4</td>\n",
              "      <td>6</td>\n",
              "      <td>2</td>\n",
              "      <td>3</td>\n",
              "      <td>4</td>\n",
              "      <td>6</td>\n",
              "    </tr>\n",
              "    <tr>\n",
              "      <th>4</th>\n",
              "      <td>5</td>\n",
              "      <td>5</td>\n",
              "      <td>1</td>\n",
              "      <td>3</td>\n",
              "      <td>4</td>\n",
              "      <td>5</td>\n",
              "    </tr>\n",
              "    <tr>\n",
              "      <th>5</th>\n",
              "      <td>6</td>\n",
              "      <td>2</td>\n",
              "      <td>1</td>\n",
              "      <td>3</td>\n",
              "      <td>2</td>\n",
              "      <td>2</td>\n",
              "    </tr>\n",
              "    <tr>\n",
              "      <th>6</th>\n",
              "      <td>7</td>\n",
              "      <td>7</td>\n",
              "      <td>2</td>\n",
              "      <td>3</td>\n",
              "      <td>5</td>\n",
              "      <td>7</td>\n",
              "    </tr>\n",
              "    <tr>\n",
              "      <th>7</th>\n",
              "      <td>8</td>\n",
              "      <td>8</td>\n",
              "      <td>1</td>\n",
              "      <td>3</td>\n",
              "      <td>6</td>\n",
              "      <td>8</td>\n",
              "    </tr>\n",
              "    <tr>\n",
              "      <th>8</th>\n",
              "      <td>9</td>\n",
              "      <td>4</td>\n",
              "      <td>1</td>\n",
              "      <td>3</td>\n",
              "      <td>4</td>\n",
              "      <td>4</td>\n",
              "    </tr>\n",
              "    <tr>\n",
              "      <th>9</th>\n",
              "      <td>10</td>\n",
              "      <td>2</td>\n",
              "      <td>1</td>\n",
              "      <td>3</td>\n",
              "      <td>2</td>\n",
              "      <td>2</td>\n",
              "    </tr>\n",
              "  </tbody>\n",
              "</table>\n",
              "</div>"
            ],
            "text/plain": [
              "   part  clothes  sex  season  color  price\n",
              "0     1        7    2       3      6      7\n",
              "1     2        8    1       3      6      8\n",
              "2     3        9    2       3      7      9\n",
              "3     4        6    2       3      4      6\n",
              "4     5        5    1       3      4      5\n",
              "5     6        2    1       3      2      2\n",
              "6     7        7    2       3      5      7\n",
              "7     8        8    1       3      6      8\n",
              "8     9        4    1       3      4      4\n",
              "9    10        2    1       3      2      2"
            ]
          },
          "metadata": {},
          "execution_count": 10
        }
      ]
    },
    {
      "cell_type": "markdown",
      "metadata": {
        "id": "1d5nJMOzjEb1"
      },
      "source": [
        "Получить количество по сгруппированным значениям некоторого поля можно с помощью другой функции: `.value_counts()`. Для этого сначала указываем колонку в виде: `df['название колонки']`"
      ]
    },
    {
      "cell_type": "code",
      "metadata": {
        "colab": {
          "base_uri": "https://localhost:8080/"
        },
        "id": "Fgsfltc2jSdK",
        "outputId": "37e30976-74d8-4e45-c717-8097e481106c"
      },
      "source": [
        "df['part'].value_counts()"
      ],
      "execution_count": null,
      "outputs": [
        {
          "output_type": "execute_result",
          "data": {
            "text/plain": [
              "2     24\n",
              "3     19\n",
              "4     18\n",
              "8     17\n",
              "1     17\n",
              "5     15\n",
              "7      9\n",
              "9      6\n",
              "6      6\n",
              "10     4\n",
              "Name: part, dtype: int64"
            ]
          },
          "metadata": {},
          "execution_count": 6
        }
      ]
    },
    {
      "cell_type": "code",
      "source": [
        "df[['part', 'sex']].value_counts()"
      ],
      "metadata": {
        "colab": {
          "base_uri": "https://localhost:8080/"
        },
        "id": "5Squ6J1RoS_W",
        "outputId": "cf64117f-a032-4079-8612-85a4936afb44"
      },
      "execution_count": null,
      "outputs": [
        {
          "output_type": "execute_result",
          "data": {
            "text/plain": [
              "part  sex\n",
              "2     u      24\n",
              "8     u      17\n",
              "3     u      16\n",
              "5     u      15\n",
              "4     u      12\n",
              "1     u      11\n",
              "7     u       8\n",
              "1     f       6\n",
              "4     f       6\n",
              "6     u       6\n",
              "9     u       6\n",
              "10    u       4\n",
              "3     f       3\n",
              "7     f       1\n",
              "dtype: int64"
            ]
          },
          "metadata": {},
          "execution_count": 58
        }
      ]
    },
    {
      "cell_type": "code",
      "source": [
        "df.groupby('part').count().sort_values('clothes', ascending = False)['clothes']"
      ],
      "metadata": {
        "colab": {
          "base_uri": "https://localhost:8080/"
        },
        "id": "z5Gc2MrsL9DV",
        "outputId": "5fb3a17f-d6e8-4ef4-b99e-39fdf596b74e"
      },
      "execution_count": null,
      "outputs": [
        {
          "output_type": "execute_result",
          "data": {
            "text/plain": [
              "part\n",
              "2     24\n",
              "3     19\n",
              "4     18\n",
              "1     17\n",
              "8     17\n",
              "5     15\n",
              "7      9\n",
              "6      6\n",
              "9      6\n",
              "10     4\n",
              "Name: clothes, dtype: int64"
            ]
          },
          "metadata": {},
          "execution_count": 78
        }
      ]
    },
    {
      "cell_type": "code",
      "source": [
        "df.apply(lambda x: x['price']*0.75, axis = 1)"
      ],
      "metadata": {
        "colab": {
          "base_uri": "https://localhost:8080/"
        },
        "id": "Kp5k1-lKrdcx",
        "outputId": "08a1b3cc-11d2-429e-ac28-b044f0acc1a0"
      },
      "execution_count": null,
      "outputs": [
        {
          "output_type": "execute_result",
          "data": {
            "text/plain": [
              "0       978.75\n",
              "1      1476.75\n",
              "2       536.25\n",
              "3       575.25\n",
              "4      1034.25\n",
              "        ...   \n",
              "130       0.00\n",
              "131       0.00\n",
              "132       0.00\n",
              "133       0.00\n",
              "134       0.00\n",
              "Length: 135, dtype: float64"
            ]
          },
          "metadata": {},
          "execution_count": 35
        }
      ]
    },
    {
      "cell_type": "markdown",
      "metadata": {
        "id": "WoNJ7suKiVnK"
      },
      "source": [
        "## Построение графиков\n",
        "\n",
        "Библиотека pandas позволяет строить графики без подключения модуля `matplotlib`. Рассмотрим возможные виды и их реализации."
      ]
    },
    {
      "cell_type": "markdown",
      "metadata": {
        "id": "n5dOgKysiiuw"
      },
      "source": [
        "### Столбчатый график"
      ]
    },
    {
      "cell_type": "markdown",
      "metadata": {
        "id": "T6CAtq6FkGyy"
      },
      "source": [
        "по сгруппированным значениям \n",
        "\n",
        "Например, частота (количество) встреченных частей"
      ]
    },
    {
      "cell_type": "code",
      "source": [
        "import matplotlib.pyplot as plt"
      ],
      "metadata": {
        "id": "xCUnsU6dpKit"
      },
      "execution_count": null,
      "outputs": []
    },
    {
      "cell_type": "code",
      "metadata": {
        "colab": {
          "base_uri": "https://localhost:8080/",
          "height": 251
        },
        "id": "LrN4w27niiJs",
        "outputId": "5638c94e-9491-494f-ad4e-f55a34d037e9"
      },
      "source": [
        "df['part'].value_counts().plot.bar()\n",
        "plt.gcf().autofmt_xdate()"
      ],
      "execution_count": null,
      "outputs": [
        {
          "output_type": "display_data",
          "data": {
            "text/plain": [
              "<Figure size 432x288 with 1 Axes>"
            ],
            "image/png": "[encoded data removed]"
          },
          "metadata": {
            "needs_background": "light"
          }
        }
      ]
    },
    {
      "cell_type": "markdown",
      "metadata": {
        "id": "HDeTSnGclHMf"
      },
      "source": [
        "Средняя стоимость частей"
      ]
    },
    {
      "cell_type": "code",
      "metadata": {
        "colab": {
          "base_uri": "https://localhost:8080/",
          "height": 299
        },
        "id": "vz_o_chqjwRU",
        "outputId": "773b94aa-413b-4eff-e5bc-3a68736a49ff"
      },
      "source": [
        "df.groupby('part').mean()['price'].plot.bar()"
      ],
      "execution_count": null,
      "outputs": [
        {
          "output_type": "execute_result",
          "data": {
            "text/plain": [
              "<matplotlib.axes._subplots.AxesSubplot at 0x7f2c042a4410>"
            ]
          },
          "metadata": {},
          "execution_count": 62
        },
        {
          "output_type": "display_data",
          "data": {
            "text/plain": [
              "<Figure size 432x288 with 1 Axes>"
            ],
            "image/png": "[encoded data removed]"
          },
          "metadata": {
            "needs_background": "light"
          }
        }
      ]
    },
    {
      "cell_type": "markdown",
      "metadata": {
        "id": "heludxIekKhG"
      },
      "source": [
        "При конструкции `.groupby()` сортировка значений не производится автоматически, в отличие от `.value_counts()`\n",
        "\n",
        "Поэтому можно сделать сортировку по полю с помощью `sort_values()` перед обращением к колонке и функциями графика\n",
        "\n",
        "При этом в качестве параметра функции `.bar()` можно передавать: \n",
        "\n",
        "|обозначение|пример|\n",
        "|--|:--|\n",
        "|цвет|`color = 'red'` или hex-код `color = '#f0f0f0'`|\n",
        "|размер графика|`figsize = (16, 8)`| \n",
        "|поворот надписей оси X|`rot = 0`, `rot = 45`|\n",
        "|название графика|`title = 'Название вашего графика'`|\n",
        "|название оси X|`xlabel = 'Название оси'`\n",
        "|название оси Y|`ylabel = 'Название оси'`"
      ]
    },
    {
      "cell_type": "code",
      "metadata": {
        "colab": {
          "base_uri": "https://localhost:8080/",
          "height": 531
        },
        "id": "0cQ_Gw5KkbY0",
        "outputId": "46de7334-f627-467b-de1d-833eccddb116"
      },
      "source": [
        "df.groupby('part').mean().sort_values('price')['price'].plot.bar(\n",
        "    color = 'lightgreen', \n",
        "    figsize = (16, 8), \n",
        "    rot = 0, \n",
        "    title = 'Средняя стоимость частей гардероба',\n",
        "    ylabel = 'Стоимость',\n",
        "    xlabel = 'Части'\n",
        "    )"
      ],
      "execution_count": null,
      "outputs": [
        {
          "output_type": "execute_result",
          "data": {
            "text/plain": [
              "<matplotlib.axes._subplots.AxesSubplot at 0x7f4b038795d0>"
            ]
          },
          "metadata": {},
          "execution_count": 63
        },
        {
          "output_type": "display_data",
          "data": {
            "text/plain": [
              "<Figure size 1152x576 with 1 Axes>"
            ],
            "image/png": "[encoded data removed]"
          },
          "metadata": {
            "needs_background": "light"
          }
        }
      ]
    },
    {
      "cell_type": "markdown",
      "metadata": {
        "id": "OArE-GUQZmWg"
      },
      "source": [
        "А теперь получим топ 5 бюджетных частей гардероба"
      ]
    },
    {
      "cell_type": "code",
      "metadata": {
        "colab": {
          "base_uri": "https://localhost:8080/",
          "height": 513
        },
        "id": "A8XhOSarZuDi",
        "outputId": "59b8962d-1aec-4828-81b1-0cad37089ae6"
      },
      "source": [
        "df.groupby('part').mean().sort_values('price')[:5]['price'].plot.bar(\n",
        "    color = 'lightgreen', \n",
        "    figsize = (16, 8), \n",
        "    rot = 0, \n",
        "    title = 'Средняя стоимость частей гардероба',\n",
        "    ylabel = 'Стоимость',\n",
        "    xlabel = 'Части',\n",
        "    legend = True)\n",
        "plt.show()"
      ],
      "execution_count": null,
      "outputs": [
        {
          "output_type": "display_data",
          "data": {
            "text/plain": [
              "<Figure size 1152x576 with 1 Axes>"
            ],
            "image/png": "[encoded data removed]"
          },
          "metadata": {
            "needs_background": "light"
          }
        }
      ]
    },
    {
      "cell_type": "markdown",
      "metadata": {
        "id": "AqhSS1rAmLJ1"
      },
      "source": [
        "### Круговая диаграмма"
      ]
    },
    {
      "cell_type": "markdown",
      "metadata": {
        "id": "gkulaHW9p6-Y"
      },
      "source": [
        "по сгруппированным значениям, например, частота (количество) встреченных частей\n",
        "\n",
        "При этом в качестве параметра функции `.pie()` можно передавать: \n",
        "\n",
        "|обозначение|пример|\n",
        "|--|:--|\n",
        "|размер графика|`figsize = (16, 8)`| \n",
        "|формат значений в процентах|`autopct='%1.1f%%'`|\n",
        "|название графика|`title = 'Название вашего графика'`|"
      ]
    },
    {
      "cell_type": "code",
      "metadata": {
        "colab": {
          "base_uri": "https://localhost:8080/",
          "height": 500
        },
        "id": "44TvgsMhlMNt",
        "outputId": "bd3ba5b8-1358-4102-f5c0-cb52eedf553f"
      },
      "source": [
        "df['part'].value_counts().plot.pie(figsize = (16, 8), \n",
        "                                   autopct='%1.1f%%', \n",
        "                                   title = 'Распределение частей по количеству их встреч')"
      ],
      "execution_count": null,
      "outputs": [
        {
          "output_type": "execute_result",
          "data": {
            "text/plain": [
              "<matplotlib.axes._subplots.AxesSubplot at 0x7f73a50ac250>"
            ]
          },
          "metadata": {},
          "execution_count": 35
        },
        {
          "output_type": "display_data",
          "data": {
            "image/png": "[encoded data removed]",
            "text/plain": [
              "<Figure size 1152x576 with 1 Axes>"
            ]
          },
          "metadata": {}
        }
      ]
    },
    {
      "cell_type": "markdown",
      "metadata": {
        "id": "FKROPvP0tuXS"
      },
      "source": [
        "### Преобразование списков данных в серии и построение графиков на них\n",
        "\n",
        "Если требуется провести частотный анализ (по количеству упоминаний значений) на списке данных, то такой список можно привести в тип серия: `pd.Series(...)`\n",
        "\n",
        "Например данные:\n",
        "```\n",
        "[\"русский\", \"математика\", \"литература\", \"русский\", \"история\", \"литература\", \"математика\", \"русский\"]\n",
        "```"
      ]
    },
    {
      "cell_type": "code",
      "metadata": {
        "id": "L3-U4Zm7uPId"
      },
      "source": [
        "subjects = [\"русский\", \"математика\", \"литература\", \"русский\", \"история\", \"литература\", \"математика\", \"русский\"]"
      ],
      "execution_count": null,
      "outputs": []
    },
    {
      "cell_type": "code",
      "metadata": {
        "colab": {
          "base_uri": "https://localhost:8080/"
        },
        "id": "GWgUfGCsusdz",
        "outputId": "f4db8b1e-714d-4328-93a5-f59daa58296c"
      },
      "source": [
        "series_s = pd.Series(subjects)\n",
        "series_s"
      ],
      "execution_count": null,
      "outputs": [
        {
          "output_type": "execute_result",
          "data": {
            "text/plain": [
              "0       русский\n",
              "1    математика\n",
              "2    литература\n",
              "3       русский\n",
              "4       история\n",
              "5    литература\n",
              "6    математика\n",
              "7       русский\n",
              "dtype: object"
            ]
          },
          "metadata": {},
          "execution_count": 68
        }
      ]
    },
    {
      "cell_type": "markdown",
      "metadata": {
        "id": "LkUsSG3Pu0-p"
      },
      "source": [
        "По таким данным можно получить количество упоминаний через `value_counts` и построить график:"
      ]
    },
    {
      "cell_type": "code",
      "metadata": {
        "colab": {
          "base_uri": "https://localhost:8080/",
          "height": 324
        },
        "id": "NET1NWcFuvbB",
        "outputId": "53bcc156-6279-4476-bf92-10e80e880626"
      },
      "source": [
        "series_s.value_counts().plot.bar(rot = 45)"
      ],
      "execution_count": null,
      "outputs": [
        {
          "output_type": "execute_result",
          "data": {
            "text/plain": [
              "<matplotlib.axes._subplots.AxesSubplot at 0x7f73a4b2eb50>"
            ]
          },
          "metadata": {},
          "execution_count": 40
        },
        {
          "output_type": "display_data",
          "data": {
            "image/png": "[encoded data removed]",
            "text/plain": [
              "<Figure size 432x288 with 1 Axes>"
            ]
          },
          "metadata": {
            "needs_background": "light"
          }
        }
      ]
    },
    {
      "cell_type": "code",
      "source": [
        "series_s.value_counts().sort_values().plot(kind = 'barh')"
      ],
      "metadata": {
        "colab": {
          "base_uri": "https://localhost:8080/",
          "height": 283
        },
        "id": "0ggKbI5UqleV",
        "outputId": "c21ffa17-519c-47a9-9ee1-ae9414ef8abe"
      },
      "execution_count": null,
      "outputs": [
        {
          "output_type": "execute_result",
          "data": {
            "text/plain": [
              "<matplotlib.axes._subplots.AxesSubplot at 0x7f4b032bd450>"
            ]
          },
          "metadata": {},
          "execution_count": 71
        },
        {
          "output_type": "display_data",
          "data": {
            "text/plain": [
              "<Figure size 432x288 with 1 Axes>"
            ],
            "image/png": "[encoded data removed]"
          },
          "metadata": {
            "needs_background": "light"
          }
        }
      ]
    },
    {
      "cell_type": "markdown",
      "metadata": {
        "id": "klRuz05pQjqa"
      },
      "source": [
        "# **Практика**\n",
        "**Выбор собаки**\n",
        "\n",
        "Какая собака вам подойдет? Какие параметры можем рассмотреть? Кому-то нужен питомец маленький - в квартиру, а кто-то в размерах не ограничен. У кого-то ограничен бюджет. А что насчет продолжительности его жизни: чтобы радовал дружок дольше. \n",
        "\n",
        "Все это и другое мы можем проанализировать на датасете всех пород. Для этого нам потребуется инструмент работы с таблицами: библиотека `pandas`. "
      ]
    },
    {
      "cell_type": "markdown",
      "metadata": {
        "id": "HrfLTAmkQQuM"
      },
      "source": [
        "Загрузка необходимых библиотек и функция `read_csv()` для чтения файлов CSV (табличный тип)"
      ]
    },
    {
      "cell_type": "code",
      "metadata": {
        "id": "o_dS3bMeQbKP"
      },
      "source": [
        "import pandas as pd\n",
        "import io\n",
        "import requests\n",
        "import numpy as np\n",
        "import matplotlib.pyplot as plt\n",
        "def read_csv(url):\n",
        "  s=requests.get(url).content\n",
        "  return(pd.read_csv(io.StringIO(s.decode('utf-8'))))"
      ],
      "execution_count": null,
      "outputs": []
    },
    {
      "cell_type": "code",
      "metadata": {
        "id": "bn_oZMJrRE2-"
      },
      "source": [
        "dogs = read_csv('https://raw.githubusercontent.com/yupest/nti/master/НТИ-2021/dogs.csv')"
      ],
      "execution_count": null,
      "outputs": []
    },
    {
      "cell_type": "code",
      "metadata": {
        "id": "5Zf3ImIlRSZf",
        "colab": {
          "base_uri": "https://localhost:8080/",
          "height": 1331
        },
        "outputId": "0e4cd147-0267-498f-ee01-ce8848deaba7"
      },
      "source": [
        "dogs"
      ],
      "execution_count": null,
      "outputs": [
        {
          "output_type": "execute_result",
          "data": {
            "text/plain": [
              "                                      Порода собак  Стоимость мин  \\\n",
              "0                            Австралийская овчарка             15   \n",
              "1                    Австралийская пастушья собака             10   \n",
              "2    Австралийская пастушья собака / Голубой хилер             10   \n",
              "3                              Австралийский келпи             12   \n",
              "4                             Австралийский пудель              7   \n",
              "..                                             ...            ...   \n",
              "277                            Эштрельская овчарка             40   \n",
              "278                        Южноафриканский бурбуль             20   \n",
              "279                            Южнорусская овчарка              5   \n",
              "280                                      Ягдтерьер              5   \n",
              "281                                   Японский хин              5   \n",
              "\n",
              "     Стоимость макс  Вес мин  Вес макс  Рост мин  Рост макс  \\\n",
              "0                45       18        30        46         58   \n",
              "1                20       14        16        43         51   \n",
              "2                45       16        20        43         51   \n",
              "3                30       11        20        43         51   \n",
              "4                25       11        32        36         58   \n",
              "..              ...      ...       ...       ...        ...   \n",
              "277              50       27        50        51         69   \n",
              "278              50       70        91        56         76   \n",
              "279              20       49        50        61         64   \n",
              "280              25        5         6        25         30   \n",
              "281              35        2         3        20         28   \n",
              "\n",
              "     Продолжительность жизни мин  Продолжительность жизни макс  Рейтинг  \\\n",
              "0                             12                            15     2417   \n",
              "1                             12                            15     1359   \n",
              "2                             12                            15     1271   \n",
              "3                             10                            14     1366   \n",
              "4                             12                            15     1054   \n",
              "..                           ...                           ...      ...   \n",
              "277                           12                            14      424   \n",
              "278                           12                            15      916   \n",
              "279                           10                            15      618   \n",
              "280                           13                            15      825   \n",
              "281                           10                            15     1121   \n",
              "\n",
              "     Антирейтинг  \n",
              "0            713  \n",
              "1            592  \n",
              "2            433  \n",
              "3            358  \n",
              "4            324  \n",
              "..           ...  \n",
              "277           85  \n",
              "278          212  \n",
              "279          119  \n",
              "280          217  \n",
              "281          333  \n",
              "\n",
              "[282 rows x 11 columns]"
            ],
            "text/html": [
              "\n",
              "  <div id=\"df-4f03e729-47f1-481e-a56d-e1ce05bae18a\">\n",
              "    <div class=\"colab-df-container\">\n",
              "      <div>\n",
              "<style scoped>\n",
              "    .dataframe tbody tr th:only-of-type {\n",
              "        vertical-align: middle;\n",
              "    }\n",
              "\n",
              "    .dataframe tbody tr th {\n",
              "        vertical-align: top;\n",
              "    }\n",
              "\n",
              "    .dataframe thead th {\n",
              "        text-align: right;\n",
              "    }\n",
              "</style>\n",
              "<table border=\"1\" class=\"dataframe\">\n",
              "  <thead>\n",
              "    <tr style=\"text-align: right;\">\n",
              "      <th></th>\n",
              "      <th>Порода собак</th>\n",
              "      <th>Стоимость мин</th>\n",
              "      <th>Стоимость макс</th>\n",
              "      <th>Вес мин</th>\n",
              "      <th>Вес макс</th>\n",
              "      <th>Рост мин</th>\n",
              "      <th>Рост макс</th>\n",
              "      <th>Продолжительность жизни мин</th>\n",
              "      <th>Продолжительность жизни макс</th>\n",
              "      <th>Рейтинг</th>\n",
              "      <th>Антирейтинг</th>\n",
              "    </tr>\n",
              "  </thead>\n",
              "  <tbody>\n",
              "    <tr>\n",
              "      <th>0</th>\n",
              "      <td>Австралийская овчарка</td>\n",
              "      <td>15</td>\n",
              "      <td>45</td>\n",
              "      <td>18</td>\n",
              "      <td>30</td>\n",
              "      <td>46</td>\n",
              "      <td>58</td>\n",
              "      <td>12</td>\n",
              "      <td>15</td>\n",
              "      <td>2417</td>\n",
              "      <td>713</td>\n",
              "    </tr>\n",
              "    <tr>\n",
              "      <th>1</th>\n",
              "      <td>Австралийская пастушья собака</td>\n",
              "      <td>10</td>\n",
              "      <td>20</td>\n",
              "      <td>14</td>\n",
              "      <td>16</td>\n",
              "      <td>43</td>\n",
              "      <td>51</td>\n",
              "      <td>12</td>\n",
              "      <td>15</td>\n",
              "      <td>1359</td>\n",
              "      <td>592</td>\n",
              "    </tr>\n",
              "    <tr>\n",
              "      <th>2</th>\n",
              "      <td>Австралийская пастушья собака / Голубой хилер</td>\n",
              "      <td>10</td>\n",
              "      <td>45</td>\n",
              "      <td>16</td>\n",
              "      <td>20</td>\n",
              "      <td>43</td>\n",
              "      <td>51</td>\n",
              "      <td>12</td>\n",
              "      <td>15</td>\n",
              "      <td>1271</td>\n",
              "      <td>433</td>\n",
              "    </tr>\n",
              "    <tr>\n",
              "      <th>3</th>\n",
              "      <td>Австралийский келпи</td>\n",
              "      <td>12</td>\n",
              "      <td>30</td>\n",
              "      <td>11</td>\n",
              "      <td>20</td>\n",
              "      <td>43</td>\n",
              "      <td>51</td>\n",
              "      <td>10</td>\n",
              "      <td>14</td>\n",
              "      <td>1366</td>\n",
              "      <td>358</td>\n",
              "    </tr>\n",
              "    <tr>\n",
              "      <th>4</th>\n",
              "      <td>Австралийский пудель</td>\n",
              "      <td>7</td>\n",
              "      <td>25</td>\n",
              "      <td>11</td>\n",
              "      <td>32</td>\n",
              "      <td>36</td>\n",
              "      <td>58</td>\n",
              "      <td>12</td>\n",
              "      <td>15</td>\n",
              "      <td>1054</td>\n",
              "      <td>324</td>\n",
              "    </tr>\n",
              "    <tr>\n",
              "      <th>...</th>\n",
              "      <td>...</td>\n",
              "      <td>...</td>\n",
              "      <td>...</td>\n",
              "      <td>...</td>\n",
              "      <td>...</td>\n",
              "      <td>...</td>\n",
              "      <td>...</td>\n",
              "      <td>...</td>\n",
              "      <td>...</td>\n",
              "      <td>...</td>\n",
              "      <td>...</td>\n",
              "    </tr>\n",
              "    <tr>\n",
              "      <th>277</th>\n",
              "      <td>Эштрельская овчарка</td>\n",
              "      <td>40</td>\n",
              "      <td>50</td>\n",
              "      <td>27</td>\n",
              "      <td>50</td>\n",
              "      <td>51</td>\n",
              "      <td>69</td>\n",
              "      <td>12</td>\n",
              "      <td>14</td>\n",
              "      <td>424</td>\n",
              "      <td>85</td>\n",
              "    </tr>\n",
              "    <tr>\n",
              "      <th>278</th>\n",
              "      <td>Южноафриканский бурбуль</td>\n",
              "      <td>20</td>\n",
              "      <td>50</td>\n",
              "      <td>70</td>\n",
              "      <td>91</td>\n",
              "      <td>56</td>\n",
              "      <td>76</td>\n",
              "      <td>12</td>\n",
              "      <td>15</td>\n",
              "      <td>916</td>\n",
              "      <td>212</td>\n",
              "    </tr>\n",
              "    <tr>\n",
              "      <th>279</th>\n",
              "      <td>Южнорусская овчарка</td>\n",
              "      <td>5</td>\n",
              "      <td>20</td>\n",
              "      <td>49</td>\n",
              "      <td>50</td>\n",
              "      <td>61</td>\n",
              "      <td>64</td>\n",
              "      <td>10</td>\n",
              "      <td>15</td>\n",
              "      <td>618</td>\n",
              "      <td>119</td>\n",
              "    </tr>\n",
              "    <tr>\n",
              "      <th>280</th>\n",
              "      <td>Ягдтерьер</td>\n",
              "      <td>5</td>\n",
              "      <td>25</td>\n",
              "      <td>5</td>\n",
              "      <td>6</td>\n",
              "      <td>25</td>\n",
              "      <td>30</td>\n",
              "      <td>13</td>\n",
              "      <td>15</td>\n",
              "      <td>825</td>\n",
              "      <td>217</td>\n",
              "    </tr>\n",
              "    <tr>\n",
              "      <th>281</th>\n",
              "      <td>Японский хин</td>\n",
              "      <td>5</td>\n",
              "      <td>35</td>\n",
              "      <td>2</td>\n",
              "      <td>3</td>\n",
              "      <td>20</td>\n",
              "      <td>28</td>\n",
              "      <td>10</td>\n",
              "      <td>15</td>\n",
              "      <td>1121</td>\n",
              "      <td>333</td>\n",
              "    </tr>\n",
              "  </tbody>\n",
              "</table>\n",
              "<p>282 rows × 11 columns</p>\n",
              "</div>\n",
              "      <button class=\"colab-df-convert\" onclick=\"convertToInteractive('df-4f03e729-47f1-481e-a56d-e1ce05bae18a')\"\n",
              "              title=\"Convert this dataframe to an interactive table.\"\n",
              "              style=\"display:none;\">\n",
              "        \n",
              "  <svg xmlns=\"http://www.w3.org/2000/svg\" height=\"24px\"viewBox=\"0 0 24 24\"\n",
              "       width=\"24px\">\n",
              "    <path d=\"M0 0h24v24H0V0z\" fill=\"none\"/>\n",
              "    <path d=\"M18.56 5.44l.94 2.06.94-2.06 2.06-.94-2.06-.94-.94-2.06-.94 2.06-2.06.94zm-11 1L8.5 8.5l.94-2.06 2.06-.94-2.06-.94L8.5 2.5l-.94 2.06-2.06.94zm10 10l.94 2.06.94-2.06 2.06-.94-2.06-.94-.94-2.06-.94 2.06-2.06.94z\"/><path d=\"M17.41 7.96l-1.37-1.37c-.4-.4-.92-.59-1.43-.59-.52 0-1.04.2-1.43.59L10.3 9.45l-7.72 7.72c-.78.78-.78 2.05 0 2.83L4 21.41c.39.39.9.59 1.41.59.51 0 1.02-.2 1.41-.59l7.78-7.78 2.81-2.81c.8-.78.8-2.07 0-2.86zM5.41 20L4 18.59l7.72-7.72 1.47 1.35L5.41 20z\"/>\n",
              "  </svg>\n",
              "      </button>\n",
              "      \n",
              "  <style>\n",
              "    .colab-df-container {\n",
              "      display:flex;\n",
              "      flex-wrap:wrap;\n",
              "      gap: 12px;\n",
              "    }\n",
              "\n",
              "    .colab-df-convert {\n",
              "      background-color: #E8F0FE;\n",
              "      border: none;\n",
              "      border-radius: 50%;\n",
              "      cursor: pointer;\n",
              "      display: none;\n",
              "      fill: #1967D2;\n",
              "      height: 32px;\n",
              "      padding: 0 0 0 0;\n",
              "      width: 32px;\n",
              "    }\n",
              "\n",
              "    .colab-df-convert:hover {\n",
              "      background-color: #E2EBFA;\n",
              "      box-shadow: 0px 1px 2px rgba(60, 64, 67, 0.3), 0px 1px 3px 1px rgba(60, 64, 67, 0.15);\n",
              "      fill: #174EA6;\n",
              "    }\n",
              "\n",
              "    [theme=dark] .colab-df-convert {\n",
              "      background-color: #3B4455;\n",
              "      fill: #D2E3FC;\n",
              "    }\n",
              "\n",
              "    [theme=dark] .colab-df-convert:hover {\n",
              "      background-color: #434B5C;\n",
              "      box-shadow: 0px 1px 3px 1px rgba(0, 0, 0, 0.15);\n",
              "      filter: drop-shadow(0px 1px 2px rgba(0, 0, 0, 0.3));\n",
              "      fill: #FFFFFF;\n",
              "    }\n",
              "  </style>\n",
              "\n",
              "      <script>\n",
              "        const buttonEl =\n",
              "          document.querySelector('#df-4f03e729-47f1-481e-a56d-e1ce05bae18a button.colab-df-convert');\n",
              "        buttonEl.style.display =\n",
              "          google.colab.kernel.accessAllowed ? 'block' : 'none';\n",
              "\n",
              "        async function convertToInteractive(key) {\n",
              "          const element = document.querySelector('#df-4f03e729-47f1-481e-a56d-e1ce05bae18a');\n",
              "          const dataTable =\n",
              "            await google.colab.kernel.invokeFunction('convertToInteractive',\n",
              "                                                     [key], {});\n",
              "          if (!dataTable) return;\n",
              "\n",
              "          const docLinkHtml = 'Like what you see? Visit the ' +\n",
              "            '<a target=\"_blank\" href=https://colab.research.google.com/notebooks/data_table.ipynb>data table notebook</a>'\n",
              "            + ' to learn more about interactive tables.';\n",
              "          element.innerHTML = '';\n",
              "          dataTable['output_type'] = 'display_data';\n",
              "          await google.colab.output.renderOutput(dataTable, element);\n",
              "          const docLink = document.createElement('div');\n",
              "          docLink.innerHTML = docLinkHtml;\n",
              "          element.appendChild(docLink);\n",
              "        }\n",
              "      </script>\n",
              "    </div>\n",
              "  </div>\n",
              "  "
            ]
          },
          "metadata": {},
          "execution_count": 3
        }
      ]
    },
    {
      "cell_type": "markdown",
      "metadata": {
        "id": "BRoClBPiaNnV"
      },
      "source": [
        "## Поиск средних параметров\n",
        "\n",
        "Почему мы не можем отобрать топ 5 с максимальной продолжительностью жизни и сказать, что это корректно? Дело в том, что в данных представлены колебания по каждому параметру: вес, рост, продолжительность жизни. \n",
        "\n",
        "Разброс между минимальной продолжительностью жизни этой породы и максимальной может быть большим, это значит, что мы не сможем однозначно сказать, что все собаки этой породу живут действительно так долго, как это показывает поле \"Продолжительность жизни макс\". Поэтому рассматривать среднюю продолжительность жизни - корректнее. Так и с другими параметрами.\n",
        "\n",
        "Поэтому давайте создадим поля средних параметров и вычислим их. Для этого нужно найти сумму минимального и максимального параметра и разделить ее на 2."
      ]
    },
    {
      "cell_type": "markdown",
      "metadata": {
        "id": "QZfUO8UWbFdG"
      },
      "source": [
        "### Средняя продолжительность жизни"
      ]
    },
    {
      "cell_type": "code",
      "metadata": {
        "id": "AUEGQPZpbUVQ",
        "colab": {
          "base_uri": "https://localhost:8080/"
        },
        "outputId": "305e6dd5-6e09-43e7-c3c1-38b3c0186915"
      },
      "source": [
        "(dogs['Продолжительность жизни макс']+dogs['Продолжительность жизни мин'])/2"
      ],
      "execution_count": null,
      "outputs": [
        {
          "output_type": "execute_result",
          "data": {
            "text/plain": [
              "0      13.5\n",
              "1      13.5\n",
              "2      13.5\n",
              "3      12.0\n",
              "4      13.5\n",
              "       ... \n",
              "277    13.0\n",
              "278    13.5\n",
              "279    12.5\n",
              "280    14.0\n",
              "281    12.5\n",
              "Length: 282, dtype: float64"
            ]
          },
          "metadata": {},
          "execution_count": 250
        }
      ]
    },
    {
      "cell_type": "markdown",
      "metadata": {
        "id": "sar-hdFfcJwW"
      },
      "source": [
        "Или можно воспользоваться следующей конструкцией: получить значения из нужных колонок и найти среднее с помощью функции `mean()` - в качестве параметра передать `axis = 1` - это означает, что среднее считается по строчно, если `axis = 0` то среднее выведется по столбцам."
      ]
    },
    {
      "cell_type": "code",
      "metadata": {
        "id": "g3FIxUjZcN2P",
        "colab": {
          "base_uri": "https://localhost:8080/"
        },
        "outputId": "103eb6a5-4ff7-49c2-e949-ab9c9c943d94"
      },
      "source": [
        "dogs[['Продолжительность жизни макс','Продолжительность жизни мин']].mean(axis = 1)"
      ],
      "execution_count": null,
      "outputs": [
        {
          "output_type": "execute_result",
          "data": {
            "text/plain": [
              "0      13.5\n",
              "1      13.5\n",
              "2      13.5\n",
              "3      12.0\n",
              "4      13.5\n",
              "       ... \n",
              "277    13.0\n",
              "278    13.5\n",
              "279    12.5\n",
              "280    14.0\n",
              "281    12.5\n",
              "Length: 282, dtype: float64"
            ]
          },
          "metadata": {},
          "execution_count": 251
        }
      ]
    },
    {
      "cell_type": "markdown",
      "metadata": {
        "id": "A2jXrENdS1S5"
      },
      "source": [
        "И запишем полученные данные (любая из приведенных 2х выше конструкций) в новую колонку \"Продолжительность жизни среднее\""
      ]
    },
    {
      "cell_type": "code",
      "metadata": {
        "id": "OFOKZOhKS9f7"
      },
      "source": [
        "dogs[\"Продолжительность жизни среднее\"] = (dogs['Продолжительность жизни макс']+dogs['Продолжительность жизни мин'])/2"
      ],
      "execution_count": null,
      "outputs": []
    },
    {
      "cell_type": "markdown",
      "metadata": {
        "id": "n-mzU46vbMA1"
      },
      "source": [
        "### Средний вес"
      ]
    },
    {
      "cell_type": "code",
      "metadata": {
        "id": "aDx07y1UbkF_"
      },
      "source": [
        "dogs[\"Вес среднее\"] = (dogs['Вес макс']+dogs['Вес мин'])/2"
      ],
      "execution_count": null,
      "outputs": []
    },
    {
      "cell_type": "markdown",
      "metadata": {
        "id": "vuW7gXJGbMOa"
      },
      "source": [
        "### Средний рост"
      ]
    },
    {
      "cell_type": "code",
      "metadata": {
        "id": "1G965Y5Vbsxu"
      },
      "source": [
        "dogs[\"Рост среднее\"] = dogs[['Рост макс','Рост мин']].mean(axis = 1)"
      ],
      "execution_count": null,
      "outputs": []
    },
    {
      "cell_type": "markdown",
      "source": [
        "# Задание\n",
        "\n",
        "Выведите столбчатые диаграммы для Топ-5 \n",
        "\n",
        "1. По весу:\n",
        "  - легких\n",
        "  - тяжелых\n",
        "2. По размеру:\n",
        "  - маленьких\n",
        "  - больших\n",
        "3. По рейтингу\n",
        "4. И средней продолжительности жизни\n",
        "\n",
        "Пример для средней продолжительности жизни\n",
        "\n",
        "<a href=\"https://imgbb.com/\"><img src=\"https://i.ibb.co/kyYcXVQ/image.png\" alt=\"image\" border=\"0\"></a>"
      ],
      "metadata": {
        "id": "mQhonwBAroUI"
      }
    },
    {
      "cell_type": "markdown",
      "metadata": {
        "id": "tlewr8YpsqWd"
      },
      "source": [
        "## Подбор собаки по параметрам\n",
        "\n",
        "Выберите топ 15 по разнице в рейтинге.\n",
        "А затем отфильтруйте выборку согласно параметрам:\n",
        "* средний вес меньше 10,\n",
        "* средний рост меньше 50,\n",
        "* средняя продолжительность жизни больше 10.\n",
        "\n",
        "Все значения считать не включенными в поиск (строгое неравенство).\n",
        "\n",
        "Сколько пород подходит под выборку?"
      ]
    },
    {
      "cell_type": "code",
      "source": [],
      "metadata": {
        "id": "hf69T007Cz3W"
      },
      "execution_count": null,
      "outputs": []
    },
    {
      "cell_type": "code",
      "metadata": {
        "id": "ZFQO6JfJBrKZ"
      },
      "source": [
        "import pandas as pd\n",
        "import io\n",
        "import requests\n",
        "import numpy as np\n",
        "import matplotlib.pyplot as plt\n",
        "def read_csv(url):\n",
        "  s=requests.get(url).content\n",
        "  return(pd.read_csv(io.StringIO(s.decode('utf-8'))))"
      ],
      "execution_count": 155,
      "outputs": []
    },
    {
      "cell_type": "code",
      "metadata": {
        "id": "ZTdHrulRBrKZ"
      },
      "source": [
        "dogs = read_csv('https://raw.githubusercontent.com/yupest/nti/master/НТИ-2021/dogs.csv')"
      ],
      "execution_count": 156,
      "outputs": []
    },
    {
      "cell_type": "markdown",
      "source": [
        "Топ 5 пород по весу (легкие)"
      ],
      "metadata": {
        "id": "QkfDbEkERxQw"
      }
    },
    {
      "cell_type": "code",
      "source": [
        "x = dogs[['Порода собак', 'Вес макс']].sort_values('Вес макс')[:5]['Порода собак']\n",
        "y = dogs[['Порода собак', 'Вес макс']].sort_values('Вес макс')[:5]['Вес макс']\n",
        "\n",
        "fig,ax = plt.subplots(figsize=(10,7))\n",
        "ax.bar(x, y)\n",
        "ax.set_xticklabels(x)\n",
        "fig.autofmt_xdate(rotation=45)\n",
        "plt.show()"
      ],
      "metadata": {
        "colab": {
          "base_uri": "https://localhost:8080/",
          "height": 470
        },
        "id": "xZM-bFsrEBvK",
        "outputId": "6a8d8b01-2898-42c3-ec57-8b8b3de666ad"
      },
      "execution_count": 289,
      "outputs": [
        {
          "output_type": "display_data",
          "data": {
            "text/plain": [
              "<Figure size 720x504 with 1 Axes>"
            ],
            "image/png": "[encoded data removed]"
          },
          "metadata": {
            "needs_background": "light"
          }
        }
      ]
    },
    {
      "cell_type": "markdown",
      "source": [
        "Топ 5 пород по весу (тяжелые)"
      ],
      "metadata": {
        "id": "lh5z3fF_SkGB"
      }
    },
    {
      "cell_type": "code",
      "source": [
        "x = dogs[['Порода собак', 'Вес макс']].sort_values('Вес макс', ascending = False)[:5]['Порода собак']\n",
        "y = dogs[['Порода собак', 'Вес макс']].sort_values('Вес макс', ascending = False)[:5]['Вес макс']\n",
        "\n",
        "fig,ax = plt.subplots(figsize=(10,7))\n",
        "ax.bar(x, y)\n",
        "ax.set_xticklabels(x)\n",
        "fig.autofmt_xdate(rotation=45)\n",
        "plt.show()"
      ],
      "metadata": {
        "outputId": "f0d8b319-bc72-4822-ceb6-a17e98677463",
        "colab": {
          "base_uri": "https://localhost:8080/",
          "height": 493
        },
        "id": "WN6UH9fLSc4L"
      },
      "execution_count": 293,
      "outputs": [
        {
          "output_type": "display_data",
          "data": {
            "text/plain": [
              "<Figure size 720x504 with 1 Axes>"
            ],
            "image/png": "[encoded data removed]"
          },
          "metadata": {
            "needs_background": "light"
          }
        }
      ]
    },
    {
      "cell_type": "markdown",
      "source": [
        "Топ 5 пород по размеру (маленькие)"
      ],
      "metadata": {
        "id": "c5J5wK_FTVTI"
      }
    },
    {
      "cell_type": "code",
      "source": [
        "x = dogs[['Порода собак', 'Рост макс']].sort_values('Рост макс')[:5]['Порода собак']\n",
        "y = dogs[['Порода собак', 'Рост макс']].sort_values('Рост макс')[:5]['Рост макс']\n",
        "\n",
        "fig,ax = plt.subplots(figsize=(10,7))\n",
        "ax.bar(x, y)\n",
        "ax.set_xticklabels(x)\n",
        "fig.autofmt_xdate(rotation=45)\n",
        "plt.show()"
      ],
      "metadata": {
        "outputId": "c3711866-9bc9-486c-8c8a-31c8a7b611fe",
        "colab": {
          "base_uri": "https://localhost:8080/",
          "height": 477
        },
        "id": "rk_gZtFNTVTJ"
      },
      "execution_count": 288,
      "outputs": [
        {
          "output_type": "display_data",
          "data": {
            "text/plain": [
              "<Figure size 720x504 with 1 Axes>"
            ],
            "image/png": "[encoded data removed]"
          },
          "metadata": {
            "needs_background": "light"
          }
        }
      ]
    },
    {
      "cell_type": "markdown",
      "source": [
        "Топ 5 пород по размеру (большие)"
      ],
      "metadata": {
        "id": "PWCfi0cMTdXW"
      }
    },
    {
      "cell_type": "code",
      "source": [
        "x = dogs[['Порода собак', 'Рост макс']].sort_values('Рост макс', ascending = False)[:5]['Порода собак']\n",
        "y = dogs[['Порода собак', 'Рост макс']].sort_values('Рост макс', ascending = False)[:5]['Рост макс']\n",
        "\n",
        "fig,ax = plt.subplots(figsize=(10,7))\n",
        "ax.bar(x, y)\n",
        "ax.set_xticklabels(x)\n",
        "fig.autofmt_xdate(rotation=45)\n",
        "plt.show()"
      ],
      "metadata": {
        "outputId": "4f174065-4222-4c92-91d9-c784d8b4ffd0",
        "colab": {
          "base_uri": "https://localhost:8080/",
          "height": 492
        },
        "id": "wPWbVcSKTdXW"
      },
      "execution_count": 284,
      "outputs": [
        {
          "output_type": "display_data",
          "data": {
            "text/plain": [
              "<Figure size 720x504 with 1 Axes>"
            ],
            "image/png": "[encoded data removed]"
          },
          "metadata": {
            "needs_background": "light"
          }
        }
      ]
    },
    {
      "cell_type": "markdown",
      "source": [
        "Топ 5 пород по рейтингу"
      ],
      "metadata": {
        "id": "kMK6uma5Vn__"
      }
    },
    {
      "cell_type": "code",
      "source": [
        "x = dogs[['Порода собак', 'Рейтинг']].sort_values('Рейтинг', ascending = False)[:5]['Порода собак']\n",
        "y = dogs[['Порода собак', 'Рейтинг']].sort_values('Рейтинг', ascending = False)[:5]['Рейтинг']\n",
        "\n",
        "fig,ax = plt.subplots(figsize=(10,7))\n",
        "ax.bar(x, y)\n",
        "ax.set_xticklabels(x)\n",
        "fig.autofmt_xdate(rotation=45)\n",
        "plt.show()"
      ],
      "metadata": {
        "outputId": "b44b97dd-95a7-4f1d-e6cf-97939a816ec6",
        "colab": {
          "base_uri": "https://localhost:8080/",
          "height": 460
        },
        "id": "LZFok8esVn__"
      },
      "execution_count": 292,
      "outputs": [
        {
          "output_type": "display_data",
          "data": {
            "text/plain": [
              "<Figure size 720x504 with 1 Axes>"
            ],
            "image/png": "[encoded data removed]"
          },
          "metadata": {
            "needs_background": "light"
          }
        }
      ]
    }
  ]
}